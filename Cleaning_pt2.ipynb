{
 "cells": [
  {
   "cell_type": "markdown",
   "metadata": {
    "slideshow": {
     "slide_type": "slide"
    }
   },
   "source": [
    "# This notebook will be the second part to cleaning focusing on the bad beer_abv values"
   ]
  },
  {
   "cell_type": "markdown",
   "metadata": {
    "slideshow": {
     "slide_type": "fragment"
    }
   },
   "source": [
    "## Import dependancies"
   ]
  },
  {
   "cell_type": "code",
   "execution_count": 1,
   "metadata": {
    "slideshow": {
     "slide_type": "fragment"
    }
   },
   "outputs": [],
   "source": [
    "import pandas as pd\n",
    "import numpy as np"
   ]
  },
  {
   "cell_type": "markdown",
   "metadata": {
    "slideshow": {
     "slide_type": "slide"
    }
   },
   "source": [
    "# Loading the data"
   ]
  },
  {
   "cell_type": "code",
   "execution_count": 2,
   "metadata": {
    "slideshow": {
     "slide_type": "fragment"
    }
   },
   "outputs": [],
   "source": [
    "# %load get_data.py\n",
    "def get_data() :\n",
    "    \n",
    "    import pandas as pd\n",
    "    \n",
    "    # rating_update is the original data 'beer_review.csv' with\n",
    "    # bad brewery and profile names updated\n",
    "    # beer_style updated\n",
    "    # The updates change beer_style to match the styles that are given in 'beer_description.csv'\n",
    "\n",
    "    csv_beer = pd.read_csv(\"/home/grimoire/Projects/BeerRatings/rating_update.csv\")\n",
    "    beer_ratings = pd.DataFrame(csv_beer)\n",
    "    \n",
    "    return beer_ratings\n"
   ]
  },
  {
   "cell_type": "code",
   "execution_count": 3,
   "metadata": {
    "slideshow": {
     "slide_type": "fragment"
    }
   },
   "outputs": [],
   "source": [
    "beer_ratings = get_data()\n",
    "\n",
    "descriptions = pd.DataFrame(pd.read_csv('/home/grimoire/Projects/BeerRatings/beer_description.csv'))"
   ]
  },
  {
   "cell_type": "markdown",
   "metadata": {
    "slideshow": {
     "slide_type": "slide"
    }
   },
   "source": [
    "# The hunt for beer_abv null (bad) values"
   ]
  },
  {
   "cell_type": "code",
   "execution_count": 4,
   "metadata": {
    "slideshow": {
     "slide_type": "fragment"
    }
   },
   "outputs": [
    {
     "name": "stdout",
     "output_type": "stream",
     "text": [
      "<class 'pandas.core.frame.DataFrame'>\n",
      "RangeIndex: 1586614 entries, 0 to 1586613\n",
      "Data columns (total 13 columns):\n",
      "brewery_id            1586614 non-null int64\n",
      "brewery_name          1586614 non-null object\n",
      "review_time           1586614 non-null int64\n",
      "review_overall        1586614 non-null float64\n",
      "review_aroma          1586614 non-null float64\n",
      "review_appearance     1586614 non-null float64\n",
      "review_profilename    1586614 non-null object\n",
      "beer_style            1586614 non-null object\n",
      "review_palate         1586614 non-null float64\n",
      "review_taste          1586614 non-null float64\n",
      "beer_name             1586614 non-null object\n",
      "beer_abv              1518829 non-null float64\n",
      "beer_beerid           1586614 non-null int64\n",
      "dtypes: float64(6), int64(3), object(4)\n",
      "memory usage: 157.4+ MB\n"
     ]
    }
   ],
   "source": [
    "beer_ratings.info()"
   ]
  },
  {
   "cell_type": "markdown",
   "metadata": {
    "slideshow": {
     "slide_type": "slide"
    }
   },
   "source": [
    "## Changing the values, same as first Data_cleaning notebook\n",
    "* This is done for comparisons"
   ]
  },
  {
   "cell_type": "code",
   "execution_count": 5,
   "metadata": {
    "slideshow": {
     "slide_type": "fragment"
    }
   },
   "outputs": [],
   "source": [
    "beer_ratings['beer_abv'] = beer_ratings.beer_abv.values.astype('str')"
   ]
  },
  {
   "cell_type": "markdown",
   "metadata": {
    "slideshow": {
     "slide_type": "slide"
    }
   },
   "source": [
    "## A look at how many bad observations we have, \n",
    "## and how many unique bad beer entries there are"
   ]
  },
  {
   "cell_type": "code",
   "execution_count": 6,
   "metadata": {
    "slideshow": {
     "slide_type": "fragment"
    }
   },
   "outputs": [
    {
     "name": "stdout",
     "output_type": "stream",
     "text": [
      "67785\n",
      "14110\n"
     ]
    }
   ],
   "source": [
    "print(len(beer_ratings[beer_ratings['beer_abv']=='nan']))\n",
    "print(len(beer_ratings[beer_ratings['beer_abv']=='nan'].beer_name.unique()))"
   ]
  },
  {
   "cell_type": "markdown",
   "metadata": {
    "slideshow": {
     "slide_type": "fragment"
    }
   },
   "source": [
    "There are a total of 67,785 observations in the beer_abv column that have 'nan' values.\n",
    "\n",
    "Of these 67,785 observations there are 14,110 individual specific beers with 'nan' values in beer_abv"
   ]
  },
  {
   "cell_type": "markdown",
   "metadata": {
    "slideshow": {
     "slide_type": "slide"
    }
   },
   "source": [
    "## To make corrections to this we're going find what the average ABV is per style"
   ]
  },
  {
   "cell_type": "code",
   "execution_count": 7,
   "metadata": {
    "slideshow": {
     "slide_type": "fragment"
    }
   },
   "outputs": [],
   "source": [
    "descriptions['style_mean_ABV'] = (descriptions.abv_low.values + descriptions.abv_high.values) / 2"
   ]
  },
  {
   "cell_type": "code",
   "execution_count": 8,
   "metadata": {
    "slideshow": {
     "slide_type": "fragment"
    }
   },
   "outputs": [
    {
     "data": {
      "text/html": [
       "<div>\n",
       "<style scoped>\n",
       "    .dataframe tbody tr th:only-of-type {\n",
       "        vertical-align: middle;\n",
       "    }\n",
       "\n",
       "    .dataframe tbody tr th {\n",
       "        vertical-align: top;\n",
       "    }\n",
       "\n",
       "    .dataframe thead th {\n",
       "        text-align: right;\n",
       "    }\n",
       "</style>\n",
       "<table border=\"1\" class=\"dataframe\">\n",
       "  <thead>\n",
       "    <tr style=\"text-align: right;\">\n",
       "      <th></th>\n",
       "      <th>style</th>\n",
       "      <th>description</th>\n",
       "      <th>abv_low</th>\n",
       "      <th>abv_high</th>\n",
       "      <th>ibu_low</th>\n",
       "      <th>ibu_high</th>\n",
       "      <th>style_mean_ABV</th>\n",
       "    </tr>\n",
       "  </thead>\n",
       "  <tbody>\n",
       "    <tr>\n",
       "      <th>0</th>\n",
       "      <td>German Bock</td>\n",
       "      <td>Bock is a bottom fermenting lager that general...</td>\n",
       "      <td>6.3</td>\n",
       "      <td>7.6</td>\n",
       "      <td>20</td>\n",
       "      <td>30</td>\n",
       "      <td>6.95</td>\n",
       "    </tr>\n",
       "    <tr>\n",
       "      <th>1</th>\n",
       "      <td>German Doppelbock</td>\n",
       "      <td>“Doppel” meaning “double,” this style is a big...</td>\n",
       "      <td>6.6</td>\n",
       "      <td>7.9</td>\n",
       "      <td>17</td>\n",
       "      <td>27</td>\n",
       "      <td>7.25</td>\n",
       "    </tr>\n",
       "    <tr>\n",
       "      <th>2</th>\n",
       "      <td>German Eisbock</td>\n",
       "      <td>Eisbock is an extremely strong beer with a typ...</td>\n",
       "      <td>7.0</td>\n",
       "      <td>14.0</td>\n",
       "      <td>25</td>\n",
       "      <td>35</td>\n",
       "      <td>10.50</td>\n",
       "    </tr>\n",
       "    <tr>\n",
       "      <th>3</th>\n",
       "      <td>German Maibock</td>\n",
       "      <td>Also called “Heller Bock” (meaning “Pale Bock”...</td>\n",
       "      <td>6.3</td>\n",
       "      <td>8.1</td>\n",
       "      <td>20</td>\n",
       "      <td>38</td>\n",
       "      <td>7.20</td>\n",
       "    </tr>\n",
       "    <tr>\n",
       "      <th>4</th>\n",
       "      <td>German Weizenbock</td>\n",
       "      <td>The German-style Weizenbock is a wheat version...</td>\n",
       "      <td>7.0</td>\n",
       "      <td>9.5</td>\n",
       "      <td>15</td>\n",
       "      <td>35</td>\n",
       "      <td>8.25</td>\n",
       "    </tr>\n",
       "  </tbody>\n",
       "</table>\n",
       "</div>"
      ],
      "text/plain": [
       "               style                                        description  \\\n",
       "0        German Bock  Bock is a bottom fermenting lager that general...   \n",
       "1  German Doppelbock  “Doppel” meaning “double,” this style is a big...   \n",
       "2     German Eisbock  Eisbock is an extremely strong beer with a typ...   \n",
       "3     German Maibock  Also called “Heller Bock” (meaning “Pale Bock”...   \n",
       "4  German Weizenbock  The German-style Weizenbock is a wheat version...   \n",
       "\n",
       "   abv_low  abv_high  ibu_low  ibu_high  style_mean_ABV  \n",
       "0      6.3       7.6       20        30            6.95  \n",
       "1      6.6       7.9       17        27            7.25  \n",
       "2      7.0      14.0       25        35           10.50  \n",
       "3      6.3       8.1       20        38            7.20  \n",
       "4      7.0       9.5       15        35            8.25  "
      ]
     },
     "execution_count": 8,
     "metadata": {},
     "output_type": "execute_result"
    }
   ],
   "source": [
    "descriptions.head()"
   ]
  },
  {
   "cell_type": "markdown",
   "metadata": {
    "slideshow": {
     "slide_type": "slide"
    }
   },
   "source": [
    "# We will fill the 'nan' values based on their styles ABV mean values\n",
    "* This takes A LONG time using this method"
   ]
  },
  {
   "cell_type": "code",
   "execution_count": 9,
   "metadata": {
    "slideshow": {
     "slide_type": "fragment"
    }
   },
   "outputs": [],
   "source": [
    "for bad_index in beer_ratings[beer_ratings['beer_abv'] == 'nan'].index :\n",
    "    # At the bad index find the style of the beer\n",
    "    style = beer_ratings.iloc[bad_index, 7]\n",
    "    \n",
    "    # Select the Row from descriptions\n",
    "    # That matches the style at the bad index\n",
    "    # And select the mean ABV value from descriptions for that style\n",
    "    good_value = descriptions[descriptions['style'] == style]['style_mean_ABV'].values[0]\n",
    "    \n",
    "    # Change nan value to good_value selected from above\n",
    "    beer_ratings.iloc[bad_index, 11] = good_value"
   ]
  },
  {
   "cell_type": "markdown",
   "metadata": {
    "slideshow": {
     "slide_type": "slide"
    }
   },
   "source": [
    "# Checking to see if we have any remaining 'nan' values"
   ]
  },
  {
   "cell_type": "code",
   "execution_count": 10,
   "metadata": {
    "slideshow": {
     "slide_type": "fragment"
    }
   },
   "outputs": [
    {
     "data": {
      "text/plain": [
       "Series([], Name: beer_abv, dtype: object)"
      ]
     },
     "execution_count": 10,
     "metadata": {},
     "output_type": "execute_result"
    }
   ],
   "source": [
    "beer_ratings[beer_ratings['beer_abv'] == 'nan']['beer_abv']"
   ]
  },
  {
   "cell_type": "markdown",
   "metadata": {
    "slideshow": {
     "slide_type": "fragment"
    }
   },
   "source": [
    "# Ensuring the values are back as float type numbers (Decimals)"
   ]
  },
  {
   "cell_type": "code",
   "execution_count": 29,
   "metadata": {
    "slideshow": {
     "slide_type": "fragment"
    }
   },
   "outputs": [],
   "source": [
    "beer_ratings['beer_abv'] = beer_ratings['beer_abv'].astype(float)"
   ]
  },
  {
   "cell_type": "markdown",
   "metadata": {
    "slideshow": {
     "slide_type": "slide"
    }
   },
   "source": [
    "# Final verification of data"
   ]
  },
  {
   "cell_type": "code",
   "execution_count": 30,
   "metadata": {
    "slideshow": {
     "slide_type": "fragment"
    }
   },
   "outputs": [
    {
     "name": "stdout",
     "output_type": "stream",
     "text": [
      "<class 'pandas.core.frame.DataFrame'>\n",
      "RangeIndex: 1586614 entries, 0 to 1586613\n",
      "Data columns (total 13 columns):\n",
      "brewery_id            1586614 non-null int64\n",
      "brewery_name          1586614 non-null object\n",
      "review_time           1586614 non-null int64\n",
      "review_overall        1586614 non-null float64\n",
      "review_aroma          1586614 non-null float64\n",
      "review_appearance     1586614 non-null float64\n",
      "review_profilename    1586614 non-null object\n",
      "beer_style            1586614 non-null object\n",
      "review_palate         1586614 non-null float64\n",
      "review_taste          1586614 non-null float64\n",
      "beer_name             1586614 non-null object\n",
      "beer_abv              1586614 non-null float64\n",
      "beer_beerid           1586614 non-null int64\n",
      "dtypes: float64(6), int64(3), object(4)\n",
      "memory usage: 157.4+ MB\n"
     ]
    }
   ],
   "source": [
    "beer_ratings.info()"
   ]
  },
  {
   "cell_type": "markdown",
   "metadata": {
    "slideshow": {
     "slide_type": "slide"
    }
   },
   "source": [
    "# Saving the data"
   ]
  },
  {
   "cell_type": "code",
   "execution_count": 31,
   "metadata": {
    "slideshow": {
     "slide_type": "fragment"
    }
   },
   "outputs": [],
   "source": [
    "beer_ratings.to_csv(\"/home/grimoire/Projects/BeerRatings/rating_update.csv\", index=False)"
   ]
  }
 ],
 "metadata": {
  "celltoolbar": "Slideshow",
  "kernelspec": {
   "display_name": "Python 3",
   "language": "python",
   "name": "python3"
  },
  "language_info": {
   "codemirror_mode": {
    "name": "ipython",
    "version": 3
   },
   "file_extension": ".py",
   "mimetype": "text/x-python",
   "name": "python",
   "nbconvert_exporter": "python",
   "pygments_lexer": "ipython3",
   "version": "3.6.2"
  }
 },
 "nbformat": 4,
 "nbformat_minor": 2
}
