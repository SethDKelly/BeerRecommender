{
 "cells": [
  {
   "cell_type": "code",
   "execution_count": 1,
   "metadata": {},
   "outputs": [],
   "source": [
    "# Notebook library imports\n",
    "\n",
    "import pandas as pd\n",
    "import numpy as np"
   ]
  },
  {
   "cell_type": "code",
   "execution_count": 2,
   "metadata": {},
   "outputs": [],
   "source": [
    "# %load get_data.py\n",
    "def get_data() :\n",
    "    \n",
    "    import pandas as pd\n",
    "    \n",
    "    csv_beer = pd.read_csv(\"/home/grimoire/Projects/BeerRatings/beer_reviews.csv\")\n",
    "    beer_ratings = pd.DataFrame(csv_beer)\n",
    "    \n",
    "    return beer_ratings\n"
   ]
  },
  {
   "cell_type": "code",
   "execution_count": 3,
   "metadata": {},
   "outputs": [],
   "source": [
    "beer_ratings = get_data()"
   ]
  },
  {
   "cell_type": "code",
   "execution_count": 4,
   "metadata": {},
   "outputs": [
    {
     "data": {
      "text/html": [
       "<div>\n",
       "<style scoped>\n",
       "    .dataframe tbody tr th:only-of-type {\n",
       "        vertical-align: middle;\n",
       "    }\n",
       "\n",
       "    .dataframe tbody tr th {\n",
       "        vertical-align: top;\n",
       "    }\n",
       "\n",
       "    .dataframe thead th {\n",
       "        text-align: right;\n",
       "    }\n",
       "</style>\n",
       "<table border=\"1\" class=\"dataframe\">\n",
       "  <thead>\n",
       "    <tr style=\"text-align: right;\">\n",
       "      <th></th>\n",
       "      <th>review_overall</th>\n",
       "      <th>review_aroma</th>\n",
       "      <th>review_appearance</th>\n",
       "      <th>review_palate</th>\n",
       "      <th>review_taste</th>\n",
       "      <th>beer_abv</th>\n",
       "    </tr>\n",
       "  </thead>\n",
       "  <tbody>\n",
       "    <tr>\n",
       "      <th>count</th>\n",
       "      <td>1.586614e+06</td>\n",
       "      <td>1.586614e+06</td>\n",
       "      <td>1.586614e+06</td>\n",
       "      <td>1.586614e+06</td>\n",
       "      <td>1.586614e+06</td>\n",
       "      <td>1.518829e+06</td>\n",
       "    </tr>\n",
       "    <tr>\n",
       "      <th>mean</th>\n",
       "      <td>3.815581e+00</td>\n",
       "      <td>3.735636e+00</td>\n",
       "      <td>3.841642e+00</td>\n",
       "      <td>3.743701e+00</td>\n",
       "      <td>3.792860e+00</td>\n",
       "      <td>7.042387e+00</td>\n",
       "    </tr>\n",
       "    <tr>\n",
       "      <th>std</th>\n",
       "      <td>7.206219e-01</td>\n",
       "      <td>6.976167e-01</td>\n",
       "      <td>6.160928e-01</td>\n",
       "      <td>6.822184e-01</td>\n",
       "      <td>7.319696e-01</td>\n",
       "      <td>2.322526e+00</td>\n",
       "    </tr>\n",
       "    <tr>\n",
       "      <th>min</th>\n",
       "      <td>0.000000e+00</td>\n",
       "      <td>1.000000e+00</td>\n",
       "      <td>0.000000e+00</td>\n",
       "      <td>1.000000e+00</td>\n",
       "      <td>1.000000e+00</td>\n",
       "      <td>1.000000e-02</td>\n",
       "    </tr>\n",
       "    <tr>\n",
       "      <th>25%</th>\n",
       "      <td>3.500000e+00</td>\n",
       "      <td>3.500000e+00</td>\n",
       "      <td>3.500000e+00</td>\n",
       "      <td>3.500000e+00</td>\n",
       "      <td>3.500000e+00</td>\n",
       "      <td>5.200000e+00</td>\n",
       "    </tr>\n",
       "    <tr>\n",
       "      <th>50%</th>\n",
       "      <td>4.000000e+00</td>\n",
       "      <td>4.000000e+00</td>\n",
       "      <td>4.000000e+00</td>\n",
       "      <td>4.000000e+00</td>\n",
       "      <td>4.000000e+00</td>\n",
       "      <td>6.500000e+00</td>\n",
       "    </tr>\n",
       "    <tr>\n",
       "      <th>75%</th>\n",
       "      <td>4.500000e+00</td>\n",
       "      <td>4.000000e+00</td>\n",
       "      <td>4.000000e+00</td>\n",
       "      <td>4.000000e+00</td>\n",
       "      <td>4.500000e+00</td>\n",
       "      <td>8.500000e+00</td>\n",
       "    </tr>\n",
       "    <tr>\n",
       "      <th>max</th>\n",
       "      <td>5.000000e+00</td>\n",
       "      <td>5.000000e+00</td>\n",
       "      <td>5.000000e+00</td>\n",
       "      <td>5.000000e+00</td>\n",
       "      <td>5.000000e+00</td>\n",
       "      <td>5.770000e+01</td>\n",
       "    </tr>\n",
       "  </tbody>\n",
       "</table>\n",
       "</div>"
      ],
      "text/plain": [
       "       review_overall  review_aroma  review_appearance  review_palate  \\\n",
       "count    1.586614e+06  1.586614e+06       1.586614e+06   1.586614e+06   \n",
       "mean     3.815581e+00  3.735636e+00       3.841642e+00   3.743701e+00   \n",
       "std      7.206219e-01  6.976167e-01       6.160928e-01   6.822184e-01   \n",
       "min      0.000000e+00  1.000000e+00       0.000000e+00   1.000000e+00   \n",
       "25%      3.500000e+00  3.500000e+00       3.500000e+00   3.500000e+00   \n",
       "50%      4.000000e+00  4.000000e+00       4.000000e+00   4.000000e+00   \n",
       "75%      4.500000e+00  4.000000e+00       4.000000e+00   4.000000e+00   \n",
       "max      5.000000e+00  5.000000e+00       5.000000e+00   5.000000e+00   \n",
       "\n",
       "       review_taste      beer_abv  \n",
       "count  1.586614e+06  1.518829e+06  \n",
       "mean   3.792860e+00  7.042387e+00  \n",
       "std    7.319696e-01  2.322526e+00  \n",
       "min    1.000000e+00  1.000000e-02  \n",
       "25%    3.500000e+00  5.200000e+00  \n",
       "50%    4.000000e+00  6.500000e+00  \n",
       "75%    4.500000e+00  8.500000e+00  \n",
       "max    5.000000e+00  5.770000e+01  "
      ]
     },
     "execution_count": 4,
     "metadata": {},
     "output_type": "execute_result"
    }
   ],
   "source": [
    "beer_ratings.loc[:,['review_overall','review_aroma','review_appearance',\n",
    "                    'review_palate','review_taste','beer_abv']].describe()"
   ]
  },
  {
   "cell_type": "code",
   "execution_count": 5,
   "metadata": {},
   "outputs": [
    {
     "data": {
      "image/png": "[encoded data removed]",
      "text/plain": [
       "<matplotlib.figure.Figure at 0x7f284a9395f8>"
      ]
     },
     "metadata": {},
     "output_type": "display_data"
    }
   ],
   "source": [
    "%matplotlib inline\n",
    "import matplotlib.pyplot as plt\n",
    "\n",
    "plt.figure(figsize=[14,8])\n",
    "\n",
    "plt.hist(beer_ratings.review_aroma.values, alpha=.7, color='yellow', label='Aroma')\n",
    "plt.hist(beer_ratings.review_appearance.values, alpha=.7, color='blue', label='Appearance')\n",
    "plt.hist(beer_ratings.review_palate.values, alpha=.7, color='grey', label='Palate')\n",
    "plt.hist(beer_ratings.review_taste.values, alpha=.7, color='brown', label='Taste')\n",
    "plt.hist(beer_ratings.review_overall.values, alpha=.7, color='red', label='Overall')\n",
    "\n",
    "plt.title('Histogram of all 5 elements')\n",
    "plt.legend(loc=2)\n",
    "\n",
    "plt.show()"
   ]
  },
  {
   "cell_type": "code",
   "execution_count": 59,
   "metadata": {},
   "outputs": [
    {
     "data": {
      "image/png": "[encoded data removed]",
      "text/plain": [
       "<matplotlib.figure.Figure at 0x7f28256544e0>"
      ]
     },
     "metadata": {},
     "output_type": "display_data"
    }
   ],
   "source": [
    "plt.figure(figsize=[14,6])\n",
    "plt.hist(beer_ratings.review_aroma.values, normed=True, cumulative=True, \n",
    "         label='Aroma', histtype='step', alpha=0.7, color='k')\n",
    "plt.hist(beer_ratings.review_overall.values, normed=True, cumulative=True, \n",
    "         label='Overall', histtype='step', alpha=0.7, color='red')\n",
    "plt.legend()\n",
    "plt.ylabel('Cumulative probability, Fraction of data')\n",
    "plt.xlabel('Numeric Rating of Aroma and Overall score')\n",
    "plt.title('CDF of Review Aroma and Overall')\n",
    "plt.show()"
   ]
  },
  {
   "cell_type": "code",
   "execution_count": 60,
   "metadata": {},
   "outputs": [
    {
     "data": {
      "image/png": "[encoded data removed]",
      "text/plain": [
       "<matplotlib.figure.Figure at 0x7f282897bac8>"
      ]
     },
     "metadata": {},
     "output_type": "display_data"
    }
   ],
   "source": [
    "plt.figure(figsize=[14,6])\n",
    "plt.hist(beer_ratings.review_appearance.values, normed=True, cumulative=True, \n",
    "         label='Appearance', histtype='step', alpha=0.7, color='k')\n",
    "plt.hist(beer_ratings.review_overall.values, normed=True, cumulative=True, \n",
    "         label='Overall', histtype='step', alpha=0.7, color='red')\n",
    "plt.legend()\n",
    "plt.ylabel('Cumulative probability, Fraction of data')\n",
    "plt.xlabel('Numeric Rating of Appearance and Overall score')\n",
    "plt.title('CDF of Review Appearance and Overall')\n",
    "plt.show()"
   ]
  },
  {
   "cell_type": "code",
   "execution_count": 61,
   "metadata": {},
   "outputs": [
    {
     "data": {
      "image/png": "[encoded data removed]",
      "text/plain": [
       "<matplotlib.figure.Figure at 0x7f28257915f8>"
      ]
     },
     "metadata": {},
     "output_type": "display_data"
    }
   ],
   "source": [
    "plt.figure(figsize=[14,6])\n",
    "plt.hist(beer_ratings.review_taste.values, normed=True, cumulative=True, \n",
    "         label='Taste', histtype='step', alpha=0.7, color='k')\n",
    "plt.hist(beer_ratings.review_overall.values, normed=True, cumulative=True, \n",
    "         label='Overall', histtype='step', alpha=0.7, color='red')\n",
    "plt.legend()\n",
    "plt.ylabel('Cumulative probability, Fraction of data')\n",
    "plt.xlabel('Numeric Rating of Taste and Overall score')\n",
    "plt.title('CDF of Review Taste and Overall')\n",
    "plt.show()"
   ]
  },
  {
   "cell_type": "code",
   "execution_count": 58,
   "metadata": {},
   "outputs": [
    {
     "data": {
      "image/png": "[encoded data removed]",
      "text/plain": [
       "<matplotlib.figure.Figure at 0x7f28254b12e8>"
      ]
     },
     "metadata": {},
     "output_type": "display_data"
    }
   ],
   "source": [
    "plt.figure(figsize=[14,6])\n",
    "plt.hist(beer_ratings.review_palate.values, normed=True, cumulative=True, \n",
    "         label='Palate', histtype='step', alpha=0.7, color='k')\n",
    "plt.hist(beer_ratings.review_overall.values, normed=True, cumulative=True, \n",
    "         label='Overall', histtype='step', alpha=0.7, color='red')\n",
    "plt.legend()\n",
    "plt.ylabel('Cumulative probability, Fraction of data')\n",
    "plt.xlabel('Numeric Rating of Palate and Overall score')\n",
    "plt.title('CDF of Review Palate and Overall')\n",
    "plt.show()"
   ]
  },
  {
   "cell_type": "markdown",
   "metadata": {},
   "source": [
    "### Modeling prediction accuracy of review traits to review_overall with logistic regression"
   ]
  },
  {
   "cell_type": "code",
   "execution_count": 6,
   "metadata": {},
   "outputs": [],
   "source": [
    "# For model building\n",
    "from sklearn.model_selection import train_test_split\n",
    "\n",
    "# Models\n",
    "from sklearn.linear_model import LogisticRegression\n",
    "\n",
    "# Optimizations\n",
    "from sklearn.metrics import accuracy_score\n",
    "from sklearn.model_selection import GridSearchCV"
   ]
  },
  {
   "cell_type": "code",
   "execution_count": 7,
   "metadata": {},
   "outputs": [
    {
     "data": {
      "text/plain": [
       "Index(['brewery_id', 'brewery_name', 'review_time', 'review_overall',\n",
       "       'review_aroma', 'review_appearance', 'review_profilename', 'beer_style',\n",
       "       'review_palate', 'review_taste', 'beer_name', 'beer_abv',\n",
       "       'beer_beerid'],\n",
       "      dtype='object')"
      ]
     },
     "execution_count": 7,
     "metadata": {},
     "output_type": "execute_result"
    }
   ],
   "source": [
    "beer_ratings.keys()"
   ]
  },
  {
   "cell_type": "code",
   "execution_count": 8,
   "metadata": {},
   "outputs": [
    {
     "data": {
      "text/plain": [
       "count    1.586614e+06\n",
       "mean     3.815581e+00\n",
       "std      7.206219e-01\n",
       "min      0.000000e+00\n",
       "25%      3.500000e+00\n",
       "50%      4.000000e+00\n",
       "75%      4.500000e+00\n",
       "max      5.000000e+00\n",
       "Name: review_overall, dtype: float64"
      ]
     },
     "execution_count": 8,
     "metadata": {},
     "output_type": "execute_result"
    }
   ],
   "source": [
    "target = beer_ratings['review_overall']\n",
    "target.describe()"
   ]
  },
  {
   "cell_type": "code",
   "execution_count": 9,
   "metadata": {
    "scrolled": true
   },
   "outputs": [],
   "source": [
    "target = pd.DataFrame(target)"
   ]
  },
  {
   "cell_type": "code",
   "execution_count": 10,
   "metadata": {},
   "outputs": [],
   "source": [
    "target['good'] = target['review_overall'].apply(lambda x:1 if x>=3.5 else 0)"
   ]
  },
  {
   "cell_type": "code",
   "execution_count": 11,
   "metadata": {},
   "outputs": [],
   "source": [
    "predictors = beer_ratings.loc[:,['review_aroma','review_appearance',\n",
    "                    'review_palate','review_taste']]\n",
    "# beer_abv contains missing nan float dtype data"
   ]
  },
  {
   "cell_type": "code",
   "execution_count": 12,
   "metadata": {},
   "outputs": [
    {
     "name": "stdout",
     "output_type": "stream",
     "text": [
      "<class 'pandas.core.frame.DataFrame'>\n",
      "RangeIndex: 1586614 entries, 0 to 1586613\n",
      "Data columns (total 4 columns):\n",
      "review_aroma         1586614 non-null float64\n",
      "review_appearance    1586614 non-null float64\n",
      "review_palate        1586614 non-null float64\n",
      "review_taste         1586614 non-null float64\n",
      "dtypes: float64(4)\n",
      "memory usage: 48.4 MB\n"
     ]
    }
   ],
   "source": [
    "predictors.info()"
   ]
  },
  {
   "cell_type": "code",
   "execution_count": 13,
   "metadata": {},
   "outputs": [
    {
     "data": {
      "text/plain": [
       "array([[ 2. ,  2.5,  1.5,  1.5],\n",
       "       [ 2.5,  3. ,  3. ,  3. ],\n",
       "       [ 2.5,  3. ,  3. ,  3. ],\n",
       "       ..., \n",
       "       [ 3.5,  3. ,  3.5,  4. ],\n",
       "       [ 4.5,  4.5,  4.5,  4.5],\n",
       "       [ 4.5,  4.5,  4.5,  4.5]])"
      ]
     },
     "execution_count": 13,
     "metadata": {},
     "output_type": "execute_result"
    }
   ],
   "source": [
    "predictors.values"
   ]
  },
  {
   "cell_type": "code",
   "execution_count": 14,
   "metadata": {},
   "outputs": [
    {
     "name": "stdout",
     "output_type": "stream",
     "text": [
      "(1586614, 4)\n",
      "(1586614, 2)\n"
     ]
    }
   ],
   "source": [
    "print(predictors.shape)\n",
    "print(target.shape)"
   ]
  },
  {
   "cell_type": "code",
   "execution_count": 15,
   "metadata": {},
   "outputs": [
    {
     "data": {
      "text/plain": [
       "Index(['review_aroma', 'review_appearance', 'review_palate', 'review_taste'], dtype='object')"
      ]
     },
     "execution_count": 15,
     "metadata": {},
     "output_type": "execute_result"
    }
   ],
   "source": [
    "predictors.keys()"
   ]
  },
  {
   "cell_type": "code",
   "execution_count": 62,
   "metadata": {},
   "outputs": [],
   "source": [
    "review_predictors = {}\n",
    "\n",
    "# Split the training data by review type\n",
    "review_predictors['aroma'] = predictors['review_aroma'].values.reshape(-1,1)\n",
    "review_predictors['appearance'] = predictors['review_appearance'].values.reshape(-1,1)\n",
    "review_predictors['palate'] = predictors['review_palate'].values.reshape(-1,1)\n",
    "review_predictors['taste'] = predictors['review_taste'].values.reshape(-1,1)\n",
    "review_predictors['combined'] = predictors.values"
   ]
  },
  {
   "cell_type": "code",
   "execution_count": 63,
   "metadata": {},
   "outputs": [],
   "source": [
    "predictor_results = {}\n",
    "\n",
    "for x in review_predictors :\n",
    "    \n",
    "    Xlr, Xtestlr, ylr, ytestlr = train_test_split(review_predictors[str(x)], \n",
    "                                              target['good'].values, test_size=.3, random_state=42)\n",
    "\n",
    "    log_reg = LogisticRegression()\n",
    "\n",
    "    # Fit the model on the trainng data.\n",
    "    log_reg.fit(Xlr, ylr)\n",
    "\n",
    "    # Predict the labels\n",
    "    y_pred = log_reg.predict(Xlr)\n",
    "    # Print the accuracy from the testing data.\n",
    "    predictor_results[str(x)] = accuracy_score(log_reg.predict(Xtestlr), ytestlr)"
   ]
  },
  {
   "cell_type": "code",
   "execution_count": 64,
   "metadata": {},
   "outputs": [
    {
     "data": {
      "text/plain": [
       "{'appearance': 0.83954116201140794,\n",
       " 'aroma': 0.86082334527348547,\n",
       " 'combined': 0.90864417996365432,\n",
       " 'palate': 0.8687458638402471,\n",
       " 'taste': 0.90161034486380875}"
      ]
     },
     "execution_count": 64,
     "metadata": {},
     "output_type": "execute_result"
    }
   ],
   "source": [
    "predictor_results"
   ]
  },
  {
   "cell_type": "markdown",
   "metadata": {},
   "source": [
    "### Testing ABV with review_overall logistic regression"
   ]
  },
  {
   "cell_type": "code",
   "execution_count": 27,
   "metadata": {},
   "outputs": [],
   "source": [
    "# ABV logistic testing\n",
    "abv = beer_ratings['beer_abv'].astype(str)\n",
    "abv_filter = (abv != 'nan')\n",
    "\n",
    "# abv will have the proper observation len for review_overall as beer_abv\n",
    "abv = beer_ratings[abv_filter]"
   ]
  },
  {
   "cell_type": "code",
   "execution_count": 37,
   "metadata": {},
   "outputs": [],
   "source": [
    "# setup the target values for abv\n",
    "\n",
    "target_abv = abv['review_overall']\n",
    "target_abv = pd.DataFrame(target_abv)\n",
    "target_abv['good'] = target_abv['review_overall'].apply(lambda x:1 if x>=3.5 else 0)"
   ]
  },
  {
   "cell_type": "code",
   "execution_count": 40,
   "metadata": {},
   "outputs": [],
   "source": [
    "predictor_abv = abv['beer_abv'].values.reshape(-1,1)"
   ]
  },
  {
   "cell_type": "code",
   "execution_count": 41,
   "metadata": {},
   "outputs": [
    {
     "name": "stdout",
     "output_type": "stream",
     "text": [
      "0.823517663816\n"
     ]
    }
   ],
   "source": [
    "Xlr, Xtestlr, ylr, ytestlr = train_test_split(predictor_abv, \n",
    "                                              target_abv['good'].values, test_size=.3, random_state=42)\n",
    "\n",
    "log_reg = LogisticRegression()\n",
    "\n",
    "# Fit the model on the trainng data.\n",
    "log_reg.fit(Xlr, ylr)\n",
    "\n",
    "# Predict the labels\n",
    "y_pred = log_reg.predict(Xlr)\n",
    "\n",
    "# Print the accuracy from the testing data.\n",
    "print(accuracy_score(log_reg.predict(Xtestlr), ytestlr))"
   ]
  },
  {
   "cell_type": "markdown",
   "metadata": {},
   "source": [
    "### building a model with ABV and other review characteristics"
   ]
  },
  {
   "cell_type": "code",
   "execution_count": 66,
   "metadata": {},
   "outputs": [],
   "source": [
    "abv_total = abv.loc[:,['review_aroma','review_appearance',\n",
    "                    'review_palate','review_taste', 'beer_abv']]"
   ]
  },
  {
   "cell_type": "code",
   "execution_count": 67,
   "metadata": {},
   "outputs": [
    {
     "name": "stdout",
     "output_type": "stream",
     "text": [
      "0.91126722543\n"
     ]
    }
   ],
   "source": [
    "Xlr, Xtestlr, ylr, ytestlr = train_test_split(abv_total, \n",
    "                                              target_abv['good'].values, test_size=.3, random_state=42)\n",
    "\n",
    "log_reg = LogisticRegression()\n",
    "\n",
    "# Fit the model on the trainng data.\n",
    "log_reg.fit(Xlr, ylr)\n",
    "\n",
    "# Predict the labels\n",
    "y_pred = log_reg.predict(Xlr)\n",
    "\n",
    "# Print the accuracy from the testing data.\n",
    "print(accuracy_score(log_reg.predict(Xtestlr), ytestlr))"
   ]
  }
 ],
 "metadata": {
  "kernelspec": {
   "display_name": "Python 3",
   "language": "python",
   "name": "python3"
  },
  "language_info": {
   "codemirror_mode": {
    "name": "ipython",
    "version": 3
   },
   "file_extension": ".py",
   "mimetype": "text/x-python",
   "name": "python",
   "nbconvert_exporter": "python",
   "pygments_lexer": "ipython3",
   "version": "3.6.2"
  }
 },
 "nbformat": 4,
 "nbformat_minor": 2
}
