{
 "cells": [
  {
   "cell_type": "markdown",
   "metadata": {
    "slideshow": {
     "slide_type": "notes"
    }
   },
   "source": [
    "# This notebook can be ran as slides from your browser by:\n",
    "* Downloading the notebook from github\n",
    "* Moving to the folder that has the notebook in terminal/console i.e. 'cd ~/Downloads'\n",
    "* Enter: 'jupyter nbconvert Data_verify_clean.ipynb --to slides --post serve'"
   ]
  },
  {
   "cell_type": "markdown",
   "metadata": {
    "slideshow": {
     "slide_type": "slide"
    }
   },
   "source": [
    "## Importing the early dependancies and data"
   ]
  },
  {
   "cell_type": "code",
   "execution_count": 1,
   "metadata": {
    "slideshow": {
     "slide_type": "fragment"
    }
   },
   "outputs": [],
   "source": [
    "import pandas as pd\n",
    "import numpy as np"
   ]
  },
  {
   "cell_type": "code",
   "execution_count": 2,
   "metadata": {
    "slideshow": {
     "slide_type": "fragment"
    }
   },
   "outputs": [],
   "source": [
    "# %load get_data.py\n",
    "def get_data() :\n",
    "    \n",
    "    import pandas as pd\n",
    "    \n",
    "    # rating_update is the original data 'beer_review.csv' with beer_style updated\n",
    "    # The updates change beer_style to match the styles that are given in 'beer_description.csv'\n",
    "\n",
    "    csv_beer = pd.read_csv(\"/home/grimoire/Projects/BeerRatings/beer_reviews.csv\")\n",
    "    beer_ratings = pd.DataFrame(csv_beer)\n",
    "    \n",
    "    return beer_ratings\n"
   ]
  },
  {
   "cell_type": "code",
   "execution_count": 3,
   "metadata": {
    "slideshow": {
     "slide_type": "fragment"
    }
   },
   "outputs": [],
   "source": [
    "beer_ratings = get_data()"
   ]
  },
  {
   "cell_type": "markdown",
   "metadata": {
    "slideshow": {
     "slide_type": "slide"
    }
   },
   "source": [
    "# The purpose of this notebook will be to:\n",
    "* Ameliorate, or remove bad values if necessary\n",
    "* Verify all numeric fall into appropriate ranges (1-5) and/or non-negative"
   ]
  },
  {
   "cell_type": "markdown",
   "metadata": {
    "slideshow": {
     "slide_type": "slide"
    }
   },
   "source": [
    "# Ameliorate (to make better or more tolerable) or remove bad values"
   ]
  },
  {
   "cell_type": "markdown",
   "metadata": {
    "slideshow": {
     "slide_type": "slide"
    }
   },
   "source": [
    "# The hunt for bad review_profilename"
   ]
  },
  {
   "cell_type": "code",
   "execution_count": 4,
   "metadata": {
    "slideshow": {
     "slide_type": "fragment"
    }
   },
   "outputs": [
    {
     "name": "stdout",
     "output_type": "stream",
     "text": [
      "<class 'pandas.core.frame.DataFrame'>\n",
      "RangeIndex: 1586614 entries, 0 to 1586613\n",
      "Data columns (total 13 columns):\n",
      "brewery_id            1586614 non-null int64\n",
      "brewery_name          1586599 non-null object\n",
      "review_time           1586614 non-null int64\n",
      "review_overall        1586614 non-null float64\n",
      "review_aroma          1586614 non-null float64\n",
      "review_appearance     1586614 non-null float64\n",
      "review_profilename    1586266 non-null object\n",
      "beer_style            1586614 non-null object\n",
      "review_palate         1586614 non-null float64\n",
      "review_taste          1586614 non-null float64\n",
      "beer_name             1586614 non-null object\n",
      "beer_abv              1518829 non-null float64\n",
      "beer_beerid           1586614 non-null int64\n",
      "dtypes: float64(6), int64(3), object(4)\n",
      "memory usage: 157.4+ MB\n"
     ]
    }
   ],
   "source": [
    "beer_ratings.info()"
   ]
  },
  {
   "cell_type": "markdown",
   "metadata": {
    "slideshow": {
     "slide_type": "fragment"
    }
   },
   "source": [
    "The RangeIndex gives use a total of 1,586,614 observations. \n",
    "\n",
    "We have 1,586,266 non-null object observations in review_profilename"
   ]
  },
  {
   "cell_type": "code",
   "execution_count": 5,
   "metadata": {
    "scrolled": false,
    "slideshow": {
     "slide_type": "slide"
    }
   },
   "outputs": [],
   "source": [
    "profilename_array = \\\n",
    "    [name for name in beer_ratings.review_profilename.unique()]"
   ]
  },
  {
   "cell_type": "markdown",
   "metadata": {
    "slideshow": {
     "slide_type": "fragment"
    }
   },
   "source": [
    "Building an array of the unique/distinct profile names"
   ]
  },
  {
   "cell_type": "markdown",
   "metadata": {
    "slideshow": {
     "slide_type": "slide"
    }
   },
   "source": [
    "Checking for 'nan', Not a Number or null, values in the array"
   ]
  },
  {
   "cell_type": "code",
   "execution_count": 6,
   "metadata": {
    "scrolled": false,
    "slideshow": {
     "slide_type": "fragment"
    }
   },
   "outputs": [
    {
     "name": "stdout",
     "output_type": "stream",
     "text": [
      "False\n"
     ]
    }
   ],
   "source": [
    "print(True in [name == 'nan' for name in profilename_array])"
   ]
  },
  {
   "cell_type": "code",
   "execution_count": 7,
   "metadata": {
    "slideshow": {
     "slide_type": "fragment"
    }
   },
   "outputs": [
    {
     "name": "stdout",
     "output_type": "stream",
     "text": [
      "False\n"
     ]
    }
   ],
   "source": [
    "print(True in [name == np.nan for name in profilename_array])"
   ]
  },
  {
   "cell_type": "markdown",
   "metadata": {
    "slideshow": {
     "slide_type": "fragment"
    }
   },
   "source": [
    "* Profile names should be type str. We're going to map the array so all values are type string. \n",
    "* After doing this we rechecked for 'nan' and find that there are nan values. \n",
    "In python nan can be a float value. So when checking for literal 'nan' it looked for an exact str match. \n",
    "\n",
    "Checking for these values as an array can save time before doing a large conversion over a dataframe."
   ]
  },
  {
   "cell_type": "code",
   "execution_count": 8,
   "metadata": {
    "slideshow": {
     "slide_type": "fragment"
    }
   },
   "outputs": [
    {
     "name": "stdout",
     "output_type": "stream",
     "text": [
      "True\n"
     ]
    }
   ],
   "source": [
    "print(True in [name == 'nan' for name in list(map(str, profilename_array))])"
   ]
  },
  {
   "cell_type": "code",
   "execution_count": 9,
   "metadata": {
    "slideshow": {
     "slide_type": "slide"
    }
   },
   "outputs": [
    {
     "name": "stdout",
     "output_type": "stream",
     "text": [
      "       brewery_id                                brewery_name  review_time  \\\n",
      "8869          395  Bluegrass Brewing Co. - East St. Matthew's   1205005717   \n",
      "22125        1199                    Founders Brewing Company   1231726538   \n",
      "31822        1199                    Founders Brewing Company   1246501387   \n",
      "33500        1199                    Founders Brewing Company   1238871081   \n",
      "33678        1199                    Founders Brewing Company   1227224257   \n",
      "\n",
      "       review_overall  review_aroma  review_appearance review_profilename  \\\n",
      "8869              4.0           4.0                3.5                nan   \n",
      "22125             4.0           4.5                4.5                nan   \n",
      "31822             4.0           4.0                4.0                nan   \n",
      "33500             5.0           5.0                5.0                nan   \n",
      "33678             5.0           5.0                5.0                nan   \n",
      "\n",
      "                             beer_style  review_palate  review_taste  \\\n",
      "8869   American Double / Imperial Stout            3.0           3.5   \n",
      "22125  American Double / Imperial Stout            4.0           4.5   \n",
      "31822                      American IPA            4.0           4.5   \n",
      "33500  American Double / Imperial Stout            5.0           5.0   \n",
      "33678  American Double / Imperial Stout            5.0           5.0   \n",
      "\n",
      "                                      beer_name  beer_abv  beer_beerid  \n",
      "8869   Jefferson's Reserve Bourbon Barrel Stout       8.5        29687  \n",
      "22125                  Founders Breakfast Stout       8.3        11757  \n",
      "31822                   Founders Centennial IPA       7.2         5441  \n",
      "33500   Founders KBS (Kentucky Breakfast Stout)      11.2        19960  \n",
      "33678   Founders KBS (Kentucky Breakfast Stout)      11.2        19960  \n"
     ]
    }
   ],
   "source": [
    "beer_ratings['review_profilename'] = \\\n",
    "    beer_ratings['review_profilename'].astype('str')\n",
    "print(beer_ratings[beer_ratings['review_profilename'] == 'nan'].head(5))"
   ]
  },
  {
   "cell_type": "code",
   "execution_count": 10,
   "metadata": {
    "slideshow": {
     "slide_type": "slide"
    }
   },
   "outputs": [],
   "source": [
    "bad_ProfileIndices = \\\n",
    "    beer_ratings.loc[\n",
    "        beer_ratings['review_profilename'] == 'nan',:]\\\n",
    "        ['review_profilename'].index"
   ]
  },
  {
   "cell_type": "markdown",
   "metadata": {
    "slideshow": {
     "slide_type": "fragment"
    }
   },
   "source": [
    "Collect the indices of the 'nan' entries in review_profilename"
   ]
  },
  {
   "cell_type": "code",
   "execution_count": 11,
   "metadata": {
    "slideshow": {
     "slide_type": "fragment"
    }
   },
   "outputs": [],
   "source": [
    "for index in bad_ProfileIndices :\n",
    "    beer_ratings.loc[index,'review_profilename'] = 'UNKNOWN'"
   ]
  },
  {
   "cell_type": "markdown",
   "metadata": {
    "slideshow": {
     "slide_type": "fragment"
    }
   },
   "source": [
    "Set the values as 'OTHER'. In instances where we're not using the profile names we still have the rest of the data. In cases that we're going to use profile names we can find the old 'nan' values under 'OTHER'"
   ]
  },
  {
   "cell_type": "code",
   "execution_count": 12,
   "metadata": {
    "scrolled": false,
    "slideshow": {
     "slide_type": "slide"
    }
   },
   "outputs": [
    {
     "name": "stdout",
     "output_type": "stream",
     "text": [
      "       brewery_id                                brewery_name  review_time  \\\n",
      "8869          395  Bluegrass Brewing Co. - East St. Matthew's   1205005717   \n",
      "22125        1199                    Founders Brewing Company   1231726538   \n",
      "31822        1199                    Founders Brewing Company   1246501387   \n",
      "33500        1199                    Founders Brewing Company   1238871081   \n",
      "33678        1199                    Founders Brewing Company   1227224257   \n",
      "\n",
      "       review_overall  review_aroma  review_appearance review_profilename  \\\n",
      "8869              4.0           4.0                3.5            UNKNOWN   \n",
      "22125             4.0           4.5                4.5            UNKNOWN   \n",
      "31822             4.0           4.0                4.0            UNKNOWN   \n",
      "33500             5.0           5.0                5.0            UNKNOWN   \n",
      "33678             5.0           5.0                5.0            UNKNOWN   \n",
      "\n",
      "                             beer_style  review_palate  review_taste  \\\n",
      "8869   American Double / Imperial Stout            3.0           3.5   \n",
      "22125  American Double / Imperial Stout            4.0           4.5   \n",
      "31822                      American IPA            4.0           4.5   \n",
      "33500  American Double / Imperial Stout            5.0           5.0   \n",
      "33678  American Double / Imperial Stout            5.0           5.0   \n",
      "\n",
      "                                      beer_name  beer_abv  beer_beerid  \n",
      "8869   Jefferson's Reserve Bourbon Barrel Stout       8.5        29687  \n",
      "22125                  Founders Breakfast Stout       8.3        11757  \n",
      "31822                   Founders Centennial IPA       7.2         5441  \n",
      "33500   Founders KBS (Kentucky Breakfast Stout)      11.2        19960  \n",
      "33678   Founders KBS (Kentucky Breakfast Stout)      11.2        19960  \n"
     ]
    }
   ],
   "source": [
    "print(beer_ratings[beer_ratings['review_profilename'] == 'UNKNOWN'].head(5))"
   ]
  },
  {
   "cell_type": "code",
   "execution_count": 13,
   "metadata": {
    "slideshow": {
     "slide_type": "slide"
    }
   },
   "outputs": [
    {
     "name": "stdout",
     "output_type": "stream",
     "text": [
      "<class 'pandas.core.frame.DataFrame'>\n",
      "RangeIndex: 1586614 entries, 0 to 1586613\n",
      "Data columns (total 13 columns):\n",
      "brewery_id            1586614 non-null int64\n",
      "brewery_name          1586599 non-null object\n",
      "review_time           1586614 non-null int64\n",
      "review_overall        1586614 non-null float64\n",
      "review_aroma          1586614 non-null float64\n",
      "review_appearance     1586614 non-null float64\n",
      "review_profilename    1586614 non-null object\n",
      "beer_style            1586614 non-null object\n",
      "review_palate         1586614 non-null float64\n",
      "review_taste          1586614 non-null float64\n",
      "beer_name             1586614 non-null object\n",
      "beer_abv              1518829 non-null float64\n",
      "beer_beerid           1586614 non-null int64\n",
      "dtypes: float64(6), int64(3), object(4)\n",
      "memory usage: 157.4+ MB\n"
     ]
    }
   ],
   "source": [
    "beer_ratings.info()"
   ]
  },
  {
   "cell_type": "markdown",
   "metadata": {
    "slideshow": {
     "slide_type": "fragment"
    }
   },
   "source": [
    "All of the review_profilename anomolies have been made tolerable. Onto the next section..."
   ]
  },
  {
   "cell_type": "markdown",
   "metadata": {
    "slideshow": {
     "slide_type": "notes"
    }
   },
   "source": [
    "It should be mentioned that it may be possible to map a profile name to these 'OTHER' accounts. In this project we won't focus on this"
   ]
  },
  {
   "cell_type": "markdown",
   "metadata": {
    "slideshow": {
     "slide_type": "slide"
    }
   },
   "source": [
    "# The hunt for bad brewery_name values"
   ]
  },
  {
   "cell_type": "code",
   "execution_count": 14,
   "metadata": {
    "slideshow": {
     "slide_type": "fragment"
    }
   },
   "outputs": [
    {
     "name": "stdout",
     "output_type": "stream",
     "text": [
      "<class 'pandas.core.frame.DataFrame'>\n",
      "RangeIndex: 1586614 entries, 0 to 1586613\n",
      "Data columns (total 13 columns):\n",
      "brewery_id            1586614 non-null int64\n",
      "brewery_name          1586599 non-null object\n",
      "review_time           1586614 non-null int64\n",
      "review_overall        1586614 non-null float64\n",
      "review_aroma          1586614 non-null float64\n",
      "review_appearance     1586614 non-null float64\n",
      "review_profilename    1586614 non-null object\n",
      "beer_style            1586614 non-null object\n",
      "review_palate         1586614 non-null float64\n",
      "review_taste          1586614 non-null float64\n",
      "beer_name             1586614 non-null object\n",
      "beer_abv              1518829 non-null float64\n",
      "beer_beerid           1586614 non-null int64\n",
      "dtypes: float64(6), int64(3), object(4)\n",
      "memory usage: 157.4+ MB\n"
     ]
    }
   ],
   "source": [
    "beer_ratings.info()"
   ]
  },
  {
   "cell_type": "markdown",
   "metadata": {
    "slideshow": {
     "slide_type": "slide"
    }
   },
   "source": [
    "## We'll follow the same procedure as we started with last time"
   ]
  },
  {
   "cell_type": "code",
   "execution_count": 15,
   "metadata": {
    "slideshow": {
     "slide_type": "fragment"
    }
   },
   "outputs": [],
   "source": [
    "brewery_name_asStr = list(map(str, beer_ratings.brewery_name.unique()))"
   ]
  },
  {
   "cell_type": "code",
   "execution_count": 16,
   "metadata": {
    "slideshow": {
     "slide_type": "fragment"
    }
   },
   "outputs": [
    {
     "name": "stdout",
     "output_type": "stream",
     "text": [
      "True\n"
     ]
    }
   ],
   "source": [
    "print(True in [name == 'nan' for name in brewery_name_asStr])"
   ]
  },
  {
   "cell_type": "code",
   "execution_count": 17,
   "metadata": {
    "slideshow": {
     "slide_type": "fragment"
    }
   },
   "outputs": [],
   "source": [
    "beer_ratings['brewery_name'] = beer_ratings['brewery_name'].astype('str')"
   ]
  },
  {
   "cell_type": "markdown",
   "metadata": {
    "slideshow": {
     "slide_type": "slide"
    }
   },
   "source": [
    "## Check what what brewery_id's we're dealing with\n",
    "\n",
    "## We may be able to map good values to these bad values"
   ]
  },
  {
   "cell_type": "code",
   "execution_count": 18,
   "metadata": {
    "slideshow": {
     "slide_type": "fragment"
    }
   },
   "outputs": [
    {
     "data": {
      "text/plain": [
       "array([1193,   27])"
      ]
     },
     "execution_count": 18,
     "metadata": {},
     "output_type": "execute_result"
    }
   ],
   "source": [
    "beer_ratings[beer_ratings['brewery_name'] == 'nan'].brewery_id.unique()"
   ]
  },
  {
   "cell_type": "code",
   "execution_count": 19,
   "metadata": {
    "slideshow": {
     "slide_type": "fragment"
    }
   },
   "outputs": [
    {
     "name": "stdout",
     "output_type": "stream",
     "text": [
      "['nan']\n",
      "['nan']\n"
     ]
    }
   ],
   "source": [
    "print(beer_ratings[beer_ratings['brewery_id'] == 27].brewery_name.unique())\n",
    "print(beer_ratings[beer_ratings['brewery_id'] == 1193].brewery_name.unique())"
   ]
  },
  {
   "cell_type": "markdown",
   "metadata": {
    "slideshow": {
     "slide_type": "slide"
    }
   },
   "source": [
    "### Checking on BeerAdvocate using those ID's doesn't fetch any brewery.\n",
    "\n",
    "## We'll check by beer name next:"
   ]
  },
  {
   "cell_type": "code",
   "execution_count": 20,
   "metadata": {
    "slideshow": {
     "slide_type": "fragment"
    }
   },
   "outputs": [
    {
     "data": {
      "text/plain": [
       "array(['Hard Hat American Beer', 'Side Pocket', 'Breakaway IPA',\n",
       "       'Caboose Oatmeal Stout'], dtype=object)"
      ]
     },
     "execution_count": 20,
     "metadata": {},
     "output_type": "execute_result"
    }
   ],
   "source": [
    "beer_ratings[beer_ratings['brewery_id'] == 27]['beer_name'].unique()"
   ]
  },
  {
   "cell_type": "code",
   "execution_count": 21,
   "metadata": {
    "slideshow": {
     "slide_type": "fragment"
    }
   },
   "outputs": [
    {
     "data": {
      "text/plain": [
       "array(['Engel Tyrolian Bräu WRONG BREWERY SEE SCHWABISCH GMUND',\n",
       "       'Engel Bock Dunkel WRONG BREWERY SEE CRAILSHEIMER',\n",
       "       'Engel Gold WRONG BREWERY SEE CRAILSHEIMER',\n",
       "       'Engel Landbier WRONG BREWERY SEE CRAILSHEIMER',\n",
       "       'Engel Keller Hell WRONG BREWERY SEE CRAILSHEIMER',\n",
       "       'Engel Aloisius - WRONG BREWERY SEE CRAILSHEIMER',\n",
       "       'Engel Keller Dunkel  WRONG BREWERY SEE CRAILSHEIMER'], dtype=object)"
      ]
     },
     "execution_count": 21,
     "metadata": {},
     "output_type": "execute_result"
    }
   ],
   "source": [
    "beer_ratings[beer_ratings['brewery_id'] == 1193]['beer_name'].unique()"
   ]
  },
  {
   "cell_type": "markdown",
   "metadata": {
    "slideshow": {
     "slide_type": "slide"
    }
   },
   "source": [
    "First we'll deal with id 1193. It provides us a note as to what breweries these should be. \n",
    "We'll start by removing the single 'Engel Tyrolian Bräu WRONG BREWERY SEE SCHWABISCH GMUND' entry from the list."
   ]
  },
  {
   "cell_type": "code",
   "execution_count": 22,
   "metadata": {
    "slideshow": {
     "slide_type": "fragment"
    }
   },
   "outputs": [
    {
     "name": "stdout",
     "output_type": "stream",
     "text": [
      "Int64Index([651565], dtype='int64')\n"
     ]
    }
   ],
   "source": [
    "SCHWABISCH_GMUND = \\\n",
    "    beer_ratings[beer_ratings['beer_name']==\\\n",
    "                 'Engel Tyrolian Bräu WRONG BREWERY SEE SCHWABISCH GMUND'].index\n",
    "print(beer_ratings[beer_ratings['beer_name']==\\\n",
    "                   'Engel Tyrolian Bräu WRONG BREWERY SEE SCHWABISCH GMUND'].index)"
   ]
  },
  {
   "cell_type": "markdown",
   "metadata": {
    "slideshow": {
     "slide_type": "fragment"
    }
   },
   "source": [
    "Find where the entry is located in the dataframe and replace with good data"
   ]
  },
  {
   "cell_type": "code",
   "execution_count": 23,
   "metadata": {
    "slideshow": {
     "slide_type": "fragment"
    }
   },
   "outputs": [],
   "source": [
    "beer_ratings.loc[SCHWABISCH_GMUND, 'brewery_name'] = 'Schwabisch Gmund'\n",
    "# pulled from beeradvocate.com/beer/profile/4216/\n",
    "beer_ratings.loc[SCHWABISCH_GMUND, 'brewery_id'] = 23282\n",
    "beer_ratings.loc[SCHWABISCH_GMUND, 'beer_name'] = 'Engel Tyrolian Bräu'"
   ]
  },
  {
   "cell_type": "markdown",
   "metadata": {
    "slideshow": {
     "slide_type": "slide"
    }
   },
   "source": [
    "Verify if by using the old id. We should only see CRAILSHEIMER on the list now."
   ]
  },
  {
   "cell_type": "code",
   "execution_count": 24,
   "metadata": {
    "slideshow": {
     "slide_type": "fragment"
    }
   },
   "outputs": [
    {
     "data": {
      "text/plain": [
       "array(['Engel Bock Dunkel WRONG BREWERY SEE CRAILSHEIMER',\n",
       "       'Engel Gold WRONG BREWERY SEE CRAILSHEIMER',\n",
       "       'Engel Landbier WRONG BREWERY SEE CRAILSHEIMER',\n",
       "       'Engel Keller Hell WRONG BREWERY SEE CRAILSHEIMER',\n",
       "       'Engel Aloisius - WRONG BREWERY SEE CRAILSHEIMER',\n",
       "       'Engel Keller Dunkel  WRONG BREWERY SEE CRAILSHEIMER'], dtype=object)"
      ]
     },
     "execution_count": 24,
     "metadata": {},
     "output_type": "execute_result"
    }
   ],
   "source": [
    "beer_ratings[beer_ratings['brewery_id'] == 1193]['beer_name'].unique()"
   ]
  },
  {
   "cell_type": "code",
   "execution_count": 25,
   "metadata": {
    "slideshow": {
     "slide_type": "slide"
    }
   },
   "outputs": [],
   "source": [
    "CRAILSHEIMER_indices = beer_ratings[beer_ratings['brewery_id'] == 1193]['beer_name'].index\n",
    "# Find where the indices of the CRAILSHEIMER brewery occur"
   ]
  },
  {
   "cell_type": "code",
   "execution_count": 26,
   "metadata": {
    "slideshow": {
     "slide_type": "fragment"
    }
   },
   "outputs": [],
   "source": [
    "for index in CRAILSHEIMER_indices:\n",
    "    beer_ratings.loc[index, 'brewery_name'] = 'Crailsheimer'\n",
    "    # pulled from beeradvocate.com/beer/profile/4216/\n",
    "    beer_ratings.loc[index, 'brewery_id'] = 4216\n",
    "    \n",
    "# Replace bad values (brewery_name, brewery_id) with proper values"
   ]
  },
  {
   "cell_type": "markdown",
   "metadata": {
    "slideshow": {
     "slide_type": "slide"
    }
   },
   "source": [
    "Lastly we'll deal with brewery_id 27. These are beers without any obvious brewery match. Similar to the profile names we'll change this brewery_name to 'UNKNOWN' so that it has a valid value and can be easily found/isolated if necessary."
   ]
  },
  {
   "cell_type": "code",
   "execution_count": 27,
   "metadata": {
    "slideshow": {
     "slide_type": "fragment"
    }
   },
   "outputs": [],
   "source": [
    "# Find the indices of brewery_id 27\n",
    "bad_BreweryIndices = beer_ratings[beer_ratings['brewery_id'] == 27]['beer_name'].index\n",
    "\n",
    "# Using those indices change the brewery name to 'UNKNOWN'\n",
    "for index in bad_BreweryIndices :\n",
    "    beer_ratings.loc[index,'brewery_name'] = 'UNKNOWN'"
   ]
  },
  {
   "cell_type": "raw",
   "metadata": {
    "slideshow": {
     "slide_type": "notes"
    }
   },
   "source": [
    "# Return to this using fmatch module or regex to find all instances \n",
    "\n",
    "#'*WRONG BREWERY SEE CRAILSHEIMER' in [name for name in beer_ratings['beer_name']]\n",
    "\n",
    "# Practice mapping series :\n",
    "        {'Engel Bock Dunkel WRONG BREWERY SEE CRAILSHEIMER' : 'Engel Bock Dunkel',\n",
    "         'Engel Gold WRONG BREWERY SEE CRAILSHEIMER':'Engel Gold',\n",
    "         'Engel Landbier WRONG BREWERY SEE CRAILSHEIMER':'Engel Landbier',\n",
    "         'Engel Keller Hell WRONG BREWERY SEE CRAILSHEIMER':'Engel Keller Hell',\n",
    "         'Engel Aloisius - WRONG BREWERY SEE CRAILSHEIMER':'Engel Aloisius',\n",
    "         'Engel Keller Dunkel  WRONG BREWERY SEE CRAILSHEIMER':'Engel Keller Dunkel'}"
   ]
  },
  {
   "cell_type": "code",
   "execution_count": 28,
   "metadata": {
    "slideshow": {
     "slide_type": "slide"
    }
   },
   "outputs": [
    {
     "data": {
      "text/plain": [
       "array([], dtype=int64)"
      ]
     },
     "execution_count": 28,
     "metadata": {},
     "output_type": "execute_result"
    }
   ],
   "source": [
    "beer_ratings[beer_ratings['brewery_name'] == 'nan'].brewery_id.unique()"
   ]
  },
  {
   "cell_type": "code",
   "execution_count": 29,
   "metadata": {
    "slideshow": {
     "slide_type": "fragment"
    }
   },
   "outputs": [
    {
     "name": "stdout",
     "output_type": "stream",
     "text": [
      "<class 'pandas.core.frame.DataFrame'>\n",
      "RangeIndex: 1586614 entries, 0 to 1586613\n",
      "Data columns (total 13 columns):\n",
      "brewery_id            1586614 non-null int64\n",
      "brewery_name          1586614 non-null object\n",
      "review_time           1586614 non-null int64\n",
      "review_overall        1586614 non-null float64\n",
      "review_aroma          1586614 non-null float64\n",
      "review_appearance     1586614 non-null float64\n",
      "review_profilename    1586614 non-null object\n",
      "beer_style            1586614 non-null object\n",
      "review_palate         1586614 non-null float64\n",
      "review_taste          1586614 non-null float64\n",
      "beer_name             1586614 non-null object\n",
      "beer_abv              1518829 non-null float64\n",
      "beer_beerid           1586614 non-null int64\n",
      "dtypes: float64(6), int64(3), object(4)\n",
      "memory usage: 157.4+ MB\n"
     ]
    }
   ],
   "source": [
    "beer_ratings.info()"
   ]
  },
  {
   "cell_type": "markdown",
   "metadata": {
    "slideshow": {
     "slide_type": "slide"
    }
   },
   "source": [
    "## We verify that the values look good and save the results under a new csv\n",
    "* beer_abv values will be resolved in a second part\n",
    " * they're solution lies in a second data source\n",
    " * We'll use this new sourse to remediate the values"
   ]
  },
  {
   "cell_type": "code",
   "execution_count": 30,
   "metadata": {
    "slideshow": {
     "slide_type": "fragment"
    }
   },
   "outputs": [],
   "source": [
    "# beer_ratings.to_csv('/home/grimoire/Projects/BeerRatings/rating_update.csv', index=False)"
   ]
  }
 ],
 "metadata": {
  "celltoolbar": "Slideshow",
  "kernelspec": {
   "display_name": "Python 3",
   "language": "python",
   "name": "python3"
  },
  "language_info": {
   "codemirror_mode": {
    "name": "ipython",
    "version": 3
   },
   "file_extension": ".py",
   "mimetype": "text/x-python",
   "name": "python",
   "nbconvert_exporter": "python",
   "pygments_lexer": "ipython3",
   "version": "3.6.2"
  }
 },
 "nbformat": 4,
 "nbformat_minor": 2
}
