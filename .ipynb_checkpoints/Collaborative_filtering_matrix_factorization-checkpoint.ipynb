{
 "cells": [
  {
   "cell_type": "markdown",
   "metadata": {},
   "source": [
    "# This notebook features Collaborative filtering using matrix factorization*"
   ]
  },
  {
   "cell_type": "markdown",
   "metadata": {},
   "source": [
    "## Loading in data"
   ]
  },
  {
   "cell_type": "code",
   "execution_count": 1,
   "metadata": {},
   "outputs": [],
   "source": [
    "import pandas as pd\n",
    "import numpy as np"
   ]
  },
  {
   "cell_type": "code",
   "execution_count": 2,
   "metadata": {},
   "outputs": [],
   "source": [
    "user_item = pd.DataFrame(\n",
    "    pd.read_csv('/home/grimoire/Projects/BeerRatings/user_item_matrix.csv', index_col='review_profilename'))"
   ]
  },
  {
   "cell_type": "raw",
   "metadata": {},
   "source": [
    "def recommendations(beer, user_matrix=user_item, components=12, measure='cosine') :\n",
    "    \n",
    "    import warnings\n",
    "    warnings.filterwarnings(\"ignore\", category = RuntimeWarning)\n",
    "\n",
    "    import pandas as pd\n",
    "    import numpy as np\n",
    "    from sklearn.metrics.pairwise import linear_kernel, euclideanr_distances\n",
    "    \n",
    "    X = user_matrix.values.T\n",
    "    \n",
    "    from sklearn.decomposition import TruncatedSVD\n",
    "    \n",
    "    svd = TruncatedSVD(n_components=components, random_state=3)\n",
    "    svd_matrix = svd.fit_transform(X)\n",
    "    \n",
    "    similarity = {'cosine': linear_kernel(svd_matrix, svd_matrix),\n",
    "                 'pearson': np.corrcoef(svd_matrix),\n",
    "                 'euclidean' : euclidean_distances(svd_matrix, svd_matrix)}\n",
    "        \n",
    "    # https://stackoverflow.com/questions/944592/best-practice-for-python-assert\n",
    "    # Self note: build an exception class for beer parameter\n",
    "    \n",
    "    beer_names = user_matrix.columns\n",
    "    \n",
    "    assert measure in similarity.keys(), 'There isn\\'t a built in measure at the moment for this'\n",
    "    assert beer in beer_names, 'The beer isn\\'t currently in the recommendation list,\\\n",
    " rate it more and it will be soon!' # This derives from user input not matching beer_names, add to exception class\n",
    "    \n",
    "    beer_name_list = list(beer_names) # Contains the index/name of the beer\n",
    "    beer_index = beer_name_list.index(beer_names) # Finds the index of the beer parameter\n",
    "    beer_list = \\\n",
    "    pd.DataFrame({'score':similarity[measure][beer_index]})\\\n",
    "    .sort_values(by='score', \n",
    "                 ascending=False)[1:8].index\n",
    "    return list(beer_names[beer_list])"
   ]
  },
  {
   "cell_type": "raw",
   "metadata": {},
   "source": [
    "recommendations('Furious')"
   ]
  },
  {
   "cell_type": "raw",
   "metadata": {},
   "source": [
    "recommendations('Furious', measure='pearson')"
   ]
  },
  {
   "cell_type": "markdown",
   "metadata": {},
   "source": [
    "# Looking at the shape of our data (The user-item matrix)"
   ]
  },
  {
   "cell_type": "code",
   "execution_count": 3,
   "metadata": {},
   "outputs": [
    {
     "data": {
      "text/plain": [
       "(3156, 13831)"
      ]
     },
     "execution_count": 3,
     "metadata": {},
     "output_type": "execute_result"
    }
   ],
   "source": [
    "user_item.shape"
   ]
  },
  {
   "cell_type": "markdown",
   "metadata": {},
   "source": [
    "## Transposing our matrix to item-user"
   ]
  },
  {
   "cell_type": "code",
   "execution_count": 4,
   "metadata": {},
   "outputs": [],
   "source": [
    "X = user_item.values.T"
   ]
  },
  {
   "cell_type": "code",
   "execution_count": 5,
   "metadata": {},
   "outputs": [
    {
     "data": {
      "text/plain": [
       "(13831, 3156)"
      ]
     },
     "execution_count": 5,
     "metadata": {},
     "output_type": "execute_result"
    }
   ],
   "source": [
    "# Verifying the transposition\n",
    "X.shape"
   ]
  },
  {
   "cell_type": "markdown",
   "metadata": {},
   "source": [
    "## Working with Single Value Decomposition\n",
    "* Visualizing explained error with n dimensions"
   ]
  },
  {
   "cell_type": "code",
   "execution_count": 6,
   "metadata": {},
   "outputs": [
    {
     "data": {
      "image/png": "[encoded data removed]",
      "text/plain": [
       "<matplotlib.figure.Figure at 0x7fc96ea9eeb8>"
      ]
     },
     "metadata": {},
     "output_type": "display_data"
    }
   ],
   "source": [
    "import matplotlib.pyplot as plt\n",
    "% matplotlib inline\n",
    "from sklearn.decomposition import TruncatedSVD\n",
    "\n",
    "# Initialize a new PCA model with a default number of components.\n",
    "svd = TruncatedSVD(n_components=20)\n",
    "svd.fit(X)\n",
    "\n",
    "plt.figure(figsize=[16,8])\n",
    "plt.plot(range(1,len(svd.explained_variance_)+1), svd.explained_variance_)\n",
    "plt.xticks(range(0,len(svd.explained_variance_)+1,1))\n",
    "\n",
    "plt.title('SVD Explained variance over n dimensions')\n",
    "plt.ylabel('SVD Explained variance')\n",
    "plt.xlabel('Number of SVD dimensions')\n",
    "plt.show()"
   ]
  },
  {
   "cell_type": "markdown",
   "metadata": {},
   "source": [
    "## Parameter for n_components should be based upon model testing and evauluation"
   ]
  },
  {
   "cell_type": "code",
   "execution_count": 7,
   "metadata": {},
   "outputs": [
    {
     "data": {
      "text/plain": [
       "(13831, 12)"
      ]
     },
     "execution_count": 7,
     "metadata": {},
     "output_type": "execute_result"
    }
   ],
   "source": [
    "svd = TruncatedSVD(n_components=12, random_state=3)\n",
    "matrix = svd.fit_transform(X)\n",
    "matrix.shape"
   ]
  },
  {
   "cell_type": "markdown",
   "metadata": {},
   "source": [
    "## Building our pearson coeffienct matrix using the transformed data matrix"
   ]
  },
  {
   "cell_type": "code",
   "execution_count": 8,
   "metadata": {},
   "outputs": [
    {
     "data": {
      "text/plain": [
       "(13831, 13831)"
      ]
     },
     "execution_count": 8,
     "metadata": {},
     "output_type": "execute_result"
    }
   ],
   "source": [
    "import warnings\n",
    "warnings.filterwarnings(\"ignore\", category = RuntimeWarning)\n",
    "corr = np.corrcoef(matrix)\n",
    "corr.shape"
   ]
  },
  {
   "cell_type": "code",
   "execution_count": 9,
   "metadata": {},
   "outputs": [
    {
     "data": {
      "text/plain": [
       "13831"
      ]
     },
     "execution_count": 9,
     "metadata": {},
     "output_type": "execute_result"
    }
   ],
   "source": [
    "#############################################################\n",
    "# The coeffecient matrix is an 2D array of arrays\n",
    "# There is no indication of what columns refer to what beer\n",
    "# We will pull this information from our user_item matrix\n",
    "# Create a list of the beers from the columns\n",
    "# The index of the list will correspond with the coefficient matrix\n",
    "#############################################################\n",
    "\n",
    "beer_names = user_item.columns\n",
    "beer_name_list = list(beer_names)\n",
    "len(beer_names)"
   ]
  },
  {
   "cell_type": "code",
   "execution_count": 10,
   "metadata": {},
   "outputs": [],
   "source": [
    "def recommendations(beer, beer_names=beer_names) :\n",
    "    \n",
    "    # https://stackoverflow.com/questions/944592/best-practice-for-python-assert\n",
    "    # Self note: build an exception class for beer parameter\n",
    "    \n",
    "    assert beer in beer_names, 'The beer isn\\'t currently in the recommendation list,\\\n",
    " rate it more and it will be soon!' # This derives from user input not matching beer_names, add to exception class\n",
    "    \n",
    "    beer_name_list = list(beer_names) # Contains the index/name of the beer\n",
    "    beer_index = beer_name_list.index(beer) # Finds the index of the beer parameter\n",
    "    beer_list = \\\n",
    "    pd.DataFrame({'corrcoef_score':corr[beer_index]})\\\n",
    "    .sort_values(by='corrcoef_score', \n",
    "                 ascending=False)[1:8].index\n",
    "    return list(beer_names[beer_list])"
   ]
  },
  {
   "cell_type": "code",
   "execution_count": 11,
   "metadata": {},
   "outputs": [
    {
     "data": {
      "text/plain": [
       "['Founders Double Trouble',\n",
       " 'Pumking',\n",
       " 'Founders Cerise',\n",
       " 'Heavy Seas - The Great Pumpkin',\n",
       " 'Springhouse Ale',\n",
       " 'Monk In The Trunk',\n",
       " 'Mokah']"
      ]
     },
     "execution_count": 11,
     "metadata": {},
     "output_type": "execute_result"
    }
   ],
   "source": [
    "recommendations('Founders Porter')"
   ]
  },
  {
   "cell_type": "code",
   "execution_count": 12,
   "metadata": {},
   "outputs": [
    {
     "data": {
      "text/plain": [
       "['Kasteel Rouge',\n",
       " 'Weihenstephaner Kristallweissbier',\n",
       " 'Our Special Ale 2008 (Anchor Christmas Ale)',\n",
       " 'Chocolate Indulgence Stout',\n",
       " 'Houblon Chouffe Dobbelen IPA Tripel',\n",
       " 'Professor Fritz Briem 1809 Berliner Weisse',\n",
       " 'Brother Thelonious']"
      ]
     },
     "execution_count": 12,
     "metadata": {},
     "output_type": "execute_result"
    }
   ],
   "source": [
    "recommendations('Weihenstephaner Vitus')"
   ]
  },
  {
   "cell_type": "code",
   "execution_count": 13,
   "metadata": {},
   "outputs": [
    {
     "name": "stdout",
     "output_type": "stream",
     "text": [
      "Double IPA\n"
     ]
    },
    {
     "data": {
      "text/plain": [
       "['Chocolate Porter',\n",
       " 'Bavarian Hefeweizen',\n",
       " \"Dragon's Tooth Oatmeal Stout\",\n",
       " 'Black Marlin Porter',\n",
       " 'Hoppy Holidays',\n",
       " 'Apricot Ale',\n",
       " 'Centennial IPA']"
      ]
     },
     "execution_count": 13,
     "metadata": {},
     "output_type": "execute_result"
    }
   ],
   "source": [
    "# Random beer selection and recommendations\n",
    "\n",
    "random = np.random.randint(0,(len(beer_names)-1))\n",
    "beer = beer_names[random]\n",
    "print(beer)\n",
    "recommendations(beer)"
   ]
  },
  {
   "cell_type": "code",
   "execution_count": 14,
   "metadata": {},
   "outputs": [
    {
     "data": {
      "text/plain": [
       "['Bender',\n",
       " 'Samuel Adams Utopias',\n",
       " 'Coffee Bender',\n",
       " 'CynicAle',\n",
       " 'Anniversary Ale',\n",
       " 'Darkness',\n",
       " 'Kona Coffee Macadamia Coconut Porter']"
      ]
     },
     "execution_count": 14,
     "metadata": {},
     "output_type": "execute_result"
    }
   ],
   "source": [
    "recommendations('Furious')"
   ]
  },
  {
   "cell_type": "markdown",
   "metadata": {},
   "source": [
    "* References include: https://towardsdatascience.com/how-did-we-build-book-recommender-systems-in-an-hour-part-2-k-nearest-neighbors-and-matrix-c04b3c2ef55c"
   ]
  }
 ],
 "metadata": {
  "kernelspec": {
   "display_name": "Python 3",
   "language": "python",
   "name": "python3"
  },
  "language_info": {
   "codemirror_mode": {
    "name": "ipython",
    "version": 3
   },
   "file_extension": ".py",
   "mimetype": "text/x-python",
   "name": "python",
   "nbconvert_exporter": "python",
   "pygments_lexer": "ipython3",
   "version": "3.6.2"
  }
 },
 "nbformat": 4,
 "nbformat_minor": 2
}
