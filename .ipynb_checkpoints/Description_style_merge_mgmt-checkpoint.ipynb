{
 "cells": [
  {
   "cell_type": "code",
   "execution_count": 1,
   "metadata": {},
   "outputs": [],
   "source": [
    "import pandas as pd"
   ]
  },
  {
   "cell_type": "markdown",
   "metadata": {},
   "source": [
    "## Load in the Data"
   ]
  },
  {
   "cell_type": "code",
   "execution_count": 2,
   "metadata": {},
   "outputs": [],
   "source": [
    "csv = pd.read_csv('/home/grimoire/Projects/BeerRatings/beer_description.csv')\n",
    "description = pd.DataFrame(csv)"
   ]
  },
  {
   "cell_type": "code",
   "execution_count": 3,
   "metadata": {},
   "outputs": [],
   "source": [
    "style_csv = pd.read_csv('/home/grimoire/Projects/BeerRatings/comparison_style.csv')\n",
    "style = pd.DataFrame(style_csv)"
   ]
  },
  {
   "cell_type": "markdown",
   "metadata": {},
   "source": [
    "## Build sets from style columns for set-wise comparison operations"
   ]
  },
  {
   "cell_type": "code",
   "execution_count": 4,
   "metadata": {},
   "outputs": [],
   "source": [
    "description_set = set(description['style'].values)\n",
    "style_set = set(style['beer_style'].values)"
   ]
  },
  {
   "cell_type": "markdown",
   "metadata": {},
   "source": [
    "### Items in the sets that are present in both, require no further action"
   ]
  },
  {
   "cell_type": "code",
   "execution_count": 5,
   "metadata": {},
   "outputs": [
    {
     "data": {
      "text/plain": [
       "{'American Adjunct Lager',\n",
       " 'American Amber / Red Ale',\n",
       " 'American Amber / Red Lager',\n",
       " 'American Barleywine',\n",
       " 'American Black Ale',\n",
       " 'American Blonde Ale',\n",
       " 'American Brown Ale',\n",
       " 'American Cream Ale',\n",
       " 'American Dark Wheat Ale',\n",
       " 'American IPA',\n",
       " 'American Imperial IPA',\n",
       " 'American Imperial Pilsner',\n",
       " 'American Imperial Stout',\n",
       " 'American Lager',\n",
       " 'American Light Lager',\n",
       " 'American Malt Liquor',\n",
       " 'American Pale Ale (APA)',\n",
       " 'American Pale Wheat Ale',\n",
       " 'American Porter',\n",
       " 'American Stout',\n",
       " 'American Strong Ale',\n",
       " 'American Wheatwine Ale',\n",
       " 'American Wild Ale',\n",
       " 'Baltic Porter',\n",
       " 'Belgian Dark Ale',\n",
       " 'Belgian Dubbel',\n",
       " 'Belgian Faro',\n",
       " 'Belgian Fruit Lambic',\n",
       " 'Belgian Gueuze',\n",
       " 'Belgian IPA',\n",
       " 'Belgian Lambic',\n",
       " 'Belgian Pale Ale',\n",
       " 'Belgian Quadrupel (Quad)',\n",
       " 'Belgian Saison',\n",
       " 'Belgian Strong Dark Ale',\n",
       " 'Belgian Strong Pale Ale',\n",
       " 'Belgian Tripel',\n",
       " 'Belgian Witbier',\n",
       " 'Berliner Weisse',\n",
       " 'Bière de Champagne / Bière Brut',\n",
       " 'Bohemian Pilsener',\n",
       " 'Braggot',\n",
       " 'British Barleywine',\n",
       " 'California Common / Steam Beer',\n",
       " 'Chile Beer',\n",
       " 'English Bitter',\n",
       " 'English Brown Ale',\n",
       " 'English Dark Mild Ale',\n",
       " 'English Extra Special / Strong Bitter (ESB)',\n",
       " 'English India Pale Ale (IPA)',\n",
       " 'English Oatmeal Stout',\n",
       " 'English Old Ale',\n",
       " 'English Pale Ale',\n",
       " 'English Pale Mild Ale',\n",
       " 'English Porter',\n",
       " 'English Stout',\n",
       " 'English Strong Ale',\n",
       " 'English Sweet / Milk Stout',\n",
       " 'European Dark Lager',\n",
       " 'European Export / Dortmunder',\n",
       " 'European Pale Lager',\n",
       " 'European Strong Lager',\n",
       " 'Finnish Sahti',\n",
       " 'Flanders Oud Bruin',\n",
       " 'Flanders Red Ale',\n",
       " 'Foreign / Export Stout',\n",
       " 'French Bière de Garde',\n",
       " 'Fruit and Field Beer',\n",
       " 'German Altbier',\n",
       " 'German Bock',\n",
       " 'German Doppelbock',\n",
       " 'German Dunkelweizen',\n",
       " 'German Eisbock',\n",
       " 'German Hefeweizen',\n",
       " 'German Helles',\n",
       " 'German Kellerbier / Zwickelbier',\n",
       " 'German Kristalweizen',\n",
       " 'German Kölsch',\n",
       " 'German Maibock',\n",
       " 'German Märzen / Oktoberfest',\n",
       " 'German Pilsner',\n",
       " 'German Rauchbier',\n",
       " 'German Roggenbier',\n",
       " 'German Schwarzbier',\n",
       " 'German Weizenbock',\n",
       " 'Herb and Spice Beer',\n",
       " 'Irish Dry Stout',\n",
       " 'Irish Red Ale',\n",
       " 'Japanese Happoshu',\n",
       " 'Japanese Rice Lager',\n",
       " 'Leipzig Gose',\n",
       " 'Low Alcohol Beer',\n",
       " 'Munich Dunkel Lager',\n",
       " 'Pumpkin Beer',\n",
       " 'Russian Imperial Stout',\n",
       " 'Russian Kvass',\n",
       " 'Rye Beer',\n",
       " 'Scotch Ale / Wee Heavy',\n",
       " 'Scottish Ale',\n",
       " 'Scottish Gruit / Ancient Herbed Ale',\n",
       " 'Smoke Beer',\n",
       " 'Vienna Lager',\n",
       " 'Winter Warmer'}"
      ]
     },
     "execution_count": 5,
     "metadata": {},
     "output_type": "execute_result"
    }
   ],
   "source": [
    "description_set & style_set # Present in both sets"
   ]
  },
  {
   "cell_type": "markdown",
   "metadata": {},
   "source": [
    "### Data that is in the Description Set but not in the Style set"
   ]
  },
  {
   "cell_type": "code",
   "execution_count": 6,
   "metadata": {},
   "outputs": [
    {
     "data": {
      "text/plain": [
       "{'American Brett',\n",
       " 'American Brut IPA',\n",
       " 'American Imperial Porter',\n",
       " 'American Imperial Red Ale',\n",
       " 'Belgian Blonde Ale',\n",
       " 'New England IPA',\n",
       " 'Robust Porter',\n",
       " 'Smoke Porter'}"
      ]
     },
     "execution_count": 6,
     "metadata": {},
     "output_type": "execute_result"
    }
   ],
   "source": [
    "description_set - style_set # Only in Description data not in Style data"
   ]
  },
  {
   "cell_type": "markdown",
   "metadata": {},
   "source": [
    "### Data that is in the Style Set but not in the Description set"
   ]
  },
  {
   "cell_type": "code",
   "execution_count": 7,
   "metadata": {},
   "outputs": [
    {
     "data": {
      "text/plain": [
       "set()"
      ]
     },
     "execution_count": 7,
     "metadata": {},
     "output_type": "execute_result"
    }
   ],
   "source": [
    "style_set - description_set # Only in Style data not in description"
   ]
  },
  {
   "cell_type": "code",
   "execution_count": 8,
   "metadata": {},
   "outputs": [],
   "source": [
    "rating_csv = pd.read_csv('/home/grimoire/Projects/BeerRatings/rating_update.csv')\n",
    "ratings = pd.DataFrame(rating_csv)"
   ]
  },
  {
   "cell_type": "code",
   "execution_count": 9,
   "metadata": {},
   "outputs": [],
   "source": [
    "update = ratings.copy()"
   ]
  },
  {
   "cell_type": "markdown",
   "metadata": {},
   "source": [
    "### Works but there has to be a better way..."
   ]
  },
  {
   "cell_type": "code",
   "execution_count": 10,
   "metadata": {},
   "outputs": [
    {
     "name": "stderr",
     "output_type": "stream",
     "text": [
      "/home/grimoire/anaconda3/lib/python3.6/site-packages/pandas/core/indexing.py:194: SettingWithCopyWarning: \n",
      "A value is trying to be set on a copy of a slice from a DataFrame\n",
      "\n",
      "See the caveats in the documentation: http://pandas.pydata.org/pandas-docs/stable/indexing.html#indexing-view-versus-copy\n",
      "  self._setitem_with_indexer(indexer, value)\n"
     ]
    }
   ],
   "source": [
    "update['beer_style'].loc[update['beer_style'] == 'Altbier'] = 'German Altbier'\n",
    "update['beer_style'].loc[update['beer_style'] == 'American Double / Imperial IPA'] = 'American Imperial IPA'\n",
    "update['beer_style'].loc[update['beer_style'] == 'American Double / Imperial Pilsner'] = 'American Imperial Pilsner'\n",
    "update['beer_style'].loc[update['beer_style'] == 'American Double / Imperial Stout'] = 'American Imperial Stout'\n",
    "update['beer_style'].loc[update['beer_style'] == 'American Pale Lager'] = 'American Lager'\n",
    "update['beer_style'].loc[update['beer_style'] == 'Berliner Weissbier'] = 'Berliner Weisse'\n",
    "update['beer_style'].loc[update['beer_style'] == 'Bière de Garde'] = 'French Bière de Garde'\n",
    "update['beer_style'].loc[update['beer_style'] == 'Black & Tan'] = 'American Porter'\n",
    "update['beer_style'].loc[update['beer_style'] == 'Bock'] = 'German Bock'\n",
    "update['beer_style'].loc[update['beer_style'] == 'Cream Ale'] = 'American Cream Ale'\n",
    "update['beer_style'].loc[update['beer_style'] == 'Czech Pilsener'] = 'Bohemian Pilsener'\n",
    "update['beer_style'].loc[update['beer_style'] == 'Doppelbock'] = 'German Doppelbock'\n",
    "update['beer_style'].loc[update['beer_style'] == 'Dortmunder / Export Lager'] = 'European Export / Dortmunder'\n",
    "update['beer_style'].loc[update['beer_style'] == 'Dubbel'] = 'Belgian Dubbel'\n",
    "update['beer_style'].loc[update['beer_style'] == 'Dunkelweizen'] = 'German Dunkelweizen'\n",
    "update['beer_style'].loc[update['beer_style'] == 'Eisbock'] = 'German Eisbock'\n",
    "update['beer_style'].loc[update['beer_style'] == 'English Barleywine'] = 'British Barleywine'\n",
    "update['beer_style'].loc[update['beer_style'] == 'Euro Dark Lager'] = 'European Dark Lager'\n",
    "update['beer_style'].loc[update['beer_style'] == 'Euro Pale Lager'] = 'European Pale Lager'\n",
    "update['beer_style'].loc[update['beer_style'] == 'Euro Strong Lager'] = 'European Strong Lager'\n",
    "update['beer_style'].loc[update['beer_style'] == 'Extra Special / Strong Bitter (ESB)'] = 'English Extra Special / Strong Bitter (ESB)'\n",
    "update['beer_style'].loc[update['beer_style'] == 'Faro'] = 'Belgian Faro'\n",
    "update['beer_style'].loc[update['beer_style'] == 'Fruit / Vegetable Beer'] = 'Fruit and Field Beer'\n",
    "update['beer_style'].loc[update['beer_style'] == 'German Pilsener'] = 'German Pilsner'\n",
    "update['beer_style'].loc[update['beer_style'] == 'Gose'] = 'Leipzig Gose'\n",
    "update['beer_style'].loc[update['beer_style'] == 'Gueuze'] = 'Belgian Gueuze'\n",
    "update['beer_style'].loc[update['beer_style'] == 'Happoshu'] = 'Japanese Happoshu'\n",
    "update['beer_style'].loc[update['beer_style'] == 'Hefeweizen'] = 'German Hefeweizen'\n",
    "update['beer_style'].loc[update['beer_style'] == 'Herbed / Spiced Beer'] = 'Herb and Spice Beer'\n",
    "update['beer_style'].loc[update['beer_style'] == 'Keller Bier / Zwickel Bier'] = 'German Kellerbier / Zwickelbier'\n",
    "update['beer_style'].loc[update['beer_style'] == 'Kristalweizen'] = 'German Kristalweizen'\n",
    "update['beer_style'].loc[update['beer_style'] == 'Kvass'] = 'Russian Kvass'\n",
    "update['beer_style'].loc[update['beer_style'] == 'Kölsch'] = 'German Kölsch'\n",
    "update['beer_style'].loc[update['beer_style'] == 'Lambic - Fruit'] = 'Belgian Fruit Lambic'\n",
    "update['beer_style'].loc[update['beer_style'] == 'Lambic - Unblended'] = 'Belgian Lambic'\n",
    "update['beer_style'].loc[update['beer_style'] == 'Light Lager'] = 'American Light Lager'\n",
    "update['beer_style'].loc[update['beer_style'] == 'Maibock / Helles Bock'] = 'German Maibock'\n",
    "update['beer_style'].loc[update['beer_style'] == 'Milk / Sweet Stout'] = 'English Sweet / Milk Stout'\n",
    "update['beer_style'].loc[update['beer_style'] == 'Munich Helles Lager'] = 'German Helles'\n",
    "update['beer_style'].loc[update['beer_style'] == 'Märzen / Oktoberfest'] = 'German Märzen / Oktoberfest'\n",
    "update['beer_style'].loc[update['beer_style'] == 'Oatmeal Stout'] = 'English Oatmeal Stout'\n",
    "update['beer_style'].loc[update['beer_style'] == 'Old Ale'] = 'English Old Ale'\n",
    "update['beer_style'].loc[update['beer_style'] == 'Pumpkin Ale'] = 'Pumpkin Beer'\n",
    "update['beer_style'].loc[update['beer_style'] == 'Quadrupel (Quad)'] = 'Belgian Quadrupel (Quad)'\n",
    "update['beer_style'].loc[update['beer_style'] == 'Rauchbier'] = 'German Rauchbier'\n",
    "update['beer_style'].loc[update['beer_style'] == 'Roggenbier'] = 'German Roggenbier'\n",
    "update['beer_style'].loc[update['beer_style'] == 'Sahti'] = 'Finnish Sahti'\n",
    "update['beer_style'].loc[update['beer_style'] == 'Saison / Farmhouse Ale'] = 'Belgian Saison' # No new category for Farmhouse\n",
    "update['beer_style'].loc[update['beer_style'] == 'Schwarzbier'] = 'German Schwarzbier'\n",
    "update['beer_style'].loc[update['beer_style'] == 'Smoked Beer'] = 'Smoke Beer'\n",
    "update['beer_style'].loc[update['beer_style'] == 'Tripel'] = 'Belgian Tripel'\n",
    "update['beer_style'].loc[update['beer_style'] == 'Weizenbock'] = 'German Weizenbock'\n",
    "update['beer_style'].loc[update['beer_style'] == 'Wheatwine'] = 'American Wheatwine Ale'\n",
    "update['beer_style'].loc[update['beer_style'] == 'Witbier'] = 'Belgian Witbier'"
   ]
  },
  {
   "cell_type": "code",
   "execution_count": 11,
   "metadata": {},
   "outputs": [],
   "source": [
    "update.to_csv('/home/grimoire/Projects/BeerRatings/rating_update.csv', index=False)"
   ]
  },
  {
   "cell_type": "code",
   "execution_count": 12,
   "metadata": {},
   "outputs": [],
   "source": [
    "comparison_style = update.loc[:,['beer_style', 'review_overall', 'review_taste', 'review_appearance', \n",
    "                                    'review_palate', 'review_aroma']].groupby('beer_style').mean()\n",
    "beer_style_counts = update.loc[:,['beer_style', 'beer_name']].groupby('beer_style').count()\n",
    "beer_style_counts = beer_style_counts.rename({'beer_name':'count'}, axis=1)\n",
    "comparison_style = comparison_style.merge(beer_style_counts, left_index=True, right_index=True)"
   ]
  },
  {
   "cell_type": "code",
   "execution_count": 13,
   "metadata": {},
   "outputs": [],
   "source": [
    "style_set_updated = set(comparison_style.index)"
   ]
  },
  {
   "cell_type": "code",
   "execution_count": 14,
   "metadata": {},
   "outputs": [
    {
     "data": {
      "text/plain": [
       "104"
      ]
     },
     "execution_count": 14,
     "metadata": {},
     "output_type": "execute_result"
    }
   ],
   "source": [
    "len(ratings.beer_style.unique())"
   ]
  },
  {
   "cell_type": "code",
   "execution_count": 15,
   "metadata": {},
   "outputs": [
    {
     "data": {
      "text/plain": [
       "103"
      ]
     },
     "execution_count": 15,
     "metadata": {},
     "output_type": "execute_result"
    }
   ],
   "source": [
    "len(style_set_updated & description_set)"
   ]
  },
  {
   "cell_type": "markdown",
   "metadata": {},
   "source": [
    "The difference comes from losing the 'Black and Tan' beer style which was updated to be an American Porter style"
   ]
  },
  {
   "cell_type": "code",
   "execution_count": 16,
   "metadata": {},
   "outputs": [
    {
     "data": {
      "text/plain": [
       "set()"
      ]
     },
     "execution_count": 16,
     "metadata": {},
     "output_type": "execute_result"
    }
   ],
   "source": [
    "style_set_updated - description_set"
   ]
  },
  {
   "cell_type": "markdown",
   "metadata": {},
   "source": [
    "## All styles in our style_set_update now have a match pair to description_set"
   ]
  },
  {
   "cell_type": "code",
   "execution_count": 17,
   "metadata": {},
   "outputs": [
    {
     "data": {
      "text/plain": [
       "{'American Brett',\n",
       " 'American Brut IPA',\n",
       " 'American Imperial Porter',\n",
       " 'American Imperial Red Ale',\n",
       " 'Belgian Blonde Ale',\n",
       " 'New England IPA',\n",
       " 'Robust Porter',\n",
       " 'Smoke Porter'}"
      ]
     },
     "execution_count": 17,
     "metadata": {},
     "output_type": "execute_result"
    }
   ],
   "source": [
    "description_set - style_set_updated"
   ]
  },
  {
   "cell_type": "markdown",
   "metadata": {},
   "source": [
    "### These are styles that were added after our data set was released"
   ]
  },
  {
   "cell_type": "code",
   "execution_count": 18,
   "metadata": {},
   "outputs": [],
   "source": [
    "# These are styles that were added after our data set was released\n",
    "# They will be removed so the model doesn't recommend bad styles\n",
    "# Styles that aren't available within our rating data\n",
    "# The set of bad descriptions can be found in Description_style_merge_mgmt notebook\n",
    "\n",
    "bad_styles = ['American Brett','American Brut IPA','American Imperial Porter',\n",
    "              'American Imperial Red Ale','Belgian Blonde Ale','New England IPA',\n",
    "              'Robust Porter','Smoke Porter']\n",
    "for style in bad_styles :\n",
    "    description = description.drop(description[description['style'] == style].index.values)"
   ]
  },
  {
   "cell_type": "code",
   "execution_count": 20,
   "metadata": {},
   "outputs": [
    {
     "data": {
      "text/plain": [
       "[False, False, False, False, False, False, False, False]"
      ]
     },
     "execution_count": 20,
     "metadata": {},
     "output_type": "execute_result"
    }
   ],
   "source": [
    "[style in description['style'].values for style in bad_styles]"
   ]
  },
  {
   "cell_type": "code",
   "execution_count": 21,
   "metadata": {},
   "outputs": [],
   "source": [
    "description = description.reset_index(drop=True)"
   ]
  },
  {
   "cell_type": "code",
   "execution_count": 22,
   "metadata": {},
   "outputs": [],
   "source": [
    "description.to_csv('/home/grimoire/Projects/BeerRatings/beer_description.csv', index=False)"
   ]
  }
 ],
 "metadata": {
  "kernelspec": {
   "display_name": "Python 3",
   "language": "python",
   "name": "python3"
  },
  "language_info": {
   "codemirror_mode": {
    "name": "ipython",
    "version": 3
   },
   "file_extension": ".py",
   "mimetype": "text/x-python",
   "name": "python",
   "nbconvert_exporter": "python",
   "pygments_lexer": "ipython3",
   "version": "3.6.2"
  }
 },
 "nbformat": 4,
 "nbformat_minor": 2
}
