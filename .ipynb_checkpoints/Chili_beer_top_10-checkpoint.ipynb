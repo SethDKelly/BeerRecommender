{
 "cells": [
  {
   "cell_type": "code",
   "execution_count": 1,
   "metadata": {},
   "outputs": [],
   "source": [
    "import pandas as pd"
   ]
  },
  {
   "cell_type": "code",
   "execution_count": 2,
   "metadata": {},
   "outputs": [],
   "source": [
    "# %load get_data.py\n",
    "def get_data() :\n",
    "    \n",
    "    import pandas as pd\n",
    "    \n",
    "    csv_beer = pd.read_csv(\"/home/grimoire/Projects/BeerRatings/rating_update.csv\")\n",
    "    beer_ratings = pd.DataFrame(csv_beer)\n",
    "    \n",
    "    return beer_ratings\n"
   ]
  },
  {
   "cell_type": "code",
   "execution_count": 3,
   "metadata": {},
   "outputs": [],
   "source": [
    "ratings = get_data()"
   ]
  },
  {
   "cell_type": "code",
   "execution_count": 4,
   "metadata": {},
   "outputs": [
    {
     "data": {
      "text/plain": [
       "Index(['brewery_id', 'brewery_name', 'review_time', 'review_overall',\n",
       "       'review_aroma', 'review_appearance', 'review_profilename', 'beer_style',\n",
       "       'review_palate', 'review_taste', 'beer_name', 'beer_abv',\n",
       "       'beer_beerid'],\n",
       "      dtype='object')"
      ]
     },
     "execution_count": 4,
     "metadata": {},
     "output_type": "execute_result"
    }
   ],
   "source": [
    "ratings.keys()"
   ]
  },
  {
   "cell_type": "code",
   "execution_count": 5,
   "metadata": {},
   "outputs": [
    {
     "data": {
      "text/plain": [
       "beer_name                   brewery_name                             \n",
       "Jamarillo                   Whistle Stop Restaurant & Woodman Brewery    4.500000\n",
       "Chipotle Stout              Four Peaks Brewing Company                   4.500000\n",
       "Chipotle Porter             Sweetwater Tavern & Brewery                  4.500000\n",
       "440 Pepper Smoker           Original Gravity Brewing Company             4.500000\n",
       "Brown Chilli Ale            Rock Bottom Restaurant & Brewery             4.500000\n",
       "Amber Chili Ale             Flat Branch Pub & Brewery                    4.500000\n",
       "Afternburner Habenero Beer  Keuka Brewing Company                        4.250000\n",
       "Chili Beer                  Calapooia Brewing Company                    4.166667\n",
       "Ring Of Fire Porter         Iron Hill Brewery & Restaurant               4.136364\n",
       "No Guts, No Glory           Ladyface Ale Companie                        4.000000\n",
       "Name: review_overall, dtype: float64"
      ]
     },
     "execution_count": 5,
     "metadata": {},
     "output_type": "execute_result"
    }
   ],
   "source": [
    "ratings.loc[ratings.beer_style == 'Chile Beer'].groupby(['beer_name', 'brewery_name']).mean().review_overall.sort_values(ascending=False).head(10)"
   ]
  }
 ],
 "metadata": {
  "kernelspec": {
   "display_name": "Python 3",
   "language": "python",
   "name": "python3"
  },
  "language_info": {
   "codemirror_mode": {
    "name": "ipython",
    "version": 3
   },
   "file_extension": ".py",
   "mimetype": "text/x-python",
   "name": "python",
   "nbconvert_exporter": "python",
   "pygments_lexer": "ipython3",
   "version": "3.6.2"
  }
 },
 "nbformat": 4,
 "nbformat_minor": 2
}
