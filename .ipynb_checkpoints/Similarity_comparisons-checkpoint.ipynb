{
 "cells": [
  {
   "cell_type": "markdown",
   "metadata": {},
   "source": [
    "# Most of this code should be pulled into seperate .py files"
   ]
  },
  {
   "cell_type": "code",
   "execution_count": 1,
   "metadata": {},
   "outputs": [],
   "source": [
    "import pandas as pd\n",
    "import numpy as np\n",
    "\n",
    "from sklearn.decomposition import TruncatedSVD\n",
    "import warnings\n",
    "warnings.filterwarnings(\"ignore\", category = RuntimeWarning)"
   ]
  },
  {
   "cell_type": "code",
   "execution_count": 2,
   "metadata": {},
   "outputs": [],
   "source": [
    "# Training matrix\n",
    "user_item = pd.DataFrame(\n",
    "    pd.read_csv('/home/grimoire/Projects/BeerRatings/user_item_matrix.csv'))\n",
    "\n",
    "X = user_item.values.T"
   ]
  },
  {
   "cell_type": "code",
   "execution_count": 3,
   "metadata": {},
   "outputs": [],
   "source": [
    "# Test matrix\n",
    "test_matrix = pd.DataFrame(\n",
    "    pd.read_csv('/home/grimoire/Projects/BeerRatings/test_matrix.csv', index_col='review_profilename'))\n",
    "\n",
    "test_matrix = test_matrix.T"
   ]
  },
  {
   "cell_type": "code",
   "execution_count": 7,
   "metadata": {},
   "outputs": [],
   "source": [
    "def recommendations(beer, user_item=user_item) :\n",
    "    \n",
    "    #############################################################\n",
    "    # The coeffecient matrix is an 2D array of arrays\n",
    "    # There is no indication of what columns refer to what beer\n",
    "    # We will pull this information from our user_item matrix\n",
    "    # Create a list of the beers from the columns\n",
    "    # The index of the list will correspond with the coefficient matrix\n",
    "    #############################################################\n",
    "    \n",
    "    # https://stackoverflow.com/questions/944592/best-practice-for-python-assert\n",
    "    # Self note: build an exception class for beer parameter\n",
    "    \n",
    "    assert beer in beer_names, 'The beer isn\\'t currently in the recommendation list,\\\n",
    " rate it more and it will be soon!' # This derives from user input not matching beer_names, add to exception class\n",
    "    \n",
    "    beer_name_list = list(user_item.columns) # Contains the index/name of the beer\n",
    "    beer_index = beer_name_list.index(beer) # Finds the index of the beer parameter\n",
    "    beer_list = \\\n",
    "    pd.DataFrame({'corrcoef_score':corr[beer_index]})\\\n",
    "    .sort_values(by='corrcoef_score', \n",
    "                 ascending=False)[1:8].index\n",
    "    return list(beer_names[beer_list])"
   ]
  },
  {
   "cell_type": "code",
   "execution_count": null,
   "metadata": {},
   "outputs": [],
   "source": [
    "recommendation_precision = []\n",
    "for x in range(25) :\n",
    "\n",
    "    svd = TruncatedSVD(n_components=x, random_state=3)\n",
    "    matrix = svd.fit_transform(X)\n",
    "    corr = np.corrcoef(matrix)\n",
    "    \n",
    "    precision = 0\n",
    "    for name in test_matrix.columns : # name will be a column (profile name) from matrix\n",
    "        user_list = list(test_matrix[test_matrix[name] > 0].index) # List of beers that the user drank\n",
    "        benchmark = 0 # instantiating if any beers were drank from list of recommended\n",
    "        for beer in user_list :\n",
    "            recommended_beers = set(recommendations(beer))\n",
    "            if recommended_beers & set(user_list) :\n",
    "                benchmark += 1\n",
    "        precision += benchmark / len(user_list)\n",
    "    recommendation_precision.append(precision / len(test_matrix.columns))"
   ]
  },
  {
   "cell_type": "code",
   "execution_count": null,
   "metadata": {},
   "outputs": [],
   "source": [
    "[recommendations for recommendations in recommendation_precision]"
   ]
  },
  {
   "cell_type": "code",
   "execution_count": null,
   "metadata": {},
   "outputs": [],
   "source": [
    "import matplotlib.pyplot as plt\n",
    "\n",
    "recommendation_precision.plot()"
   ]
  }
 ],
 "metadata": {
  "kernelspec": {
   "display_name": "Python 3",
   "language": "python",
   "name": "python3"
  },
  "language_info": {
   "codemirror_mode": {
    "name": "ipython",
    "version": 3
   },
   "file_extension": ".py",
   "mimetype": "text/x-python",
   "name": "python",
   "nbconvert_exporter": "python",
   "pygments_lexer": "ipython3",
   "version": "3.6.2"
  }
 },
 "nbformat": 4,
 "nbformat_minor": 2
}
