{
 "cells": [
  {
   "cell_type": "code",
   "execution_count": 1,
   "metadata": {},
   "outputs": [],
   "source": [
    "import pandas as pd"
   ]
  },
  {
   "cell_type": "code",
   "execution_count": 3,
   "metadata": {},
   "outputs": [],
   "source": [
    "# %load get_data.py\n",
    "def get_data() :\n",
    "    \n",
    "    import pandas as pd\n",
    "    \n",
    "    csv_beer = pd.read_csv(\"/home/grimoire/Projects/BeerRatings/rating_update.csv\")\n",
    "    beer_ratings = pd.DataFrame(csv_beer)\n",
    "    \n",
    "    return beer_ratings\n"
   ]
  },
  {
   "cell_type": "code",
   "execution_count": 5,
   "metadata": {},
   "outputs": [],
   "source": [
    "descriptions = pd.DataFrame(\n",
    "    pd.read_csv('/home/grimoire/Projects/BeerRatings/beer_description.csv'))\n",
    "ratings = get_data()"
   ]
  },
  {
   "cell_type": "markdown",
   "metadata": {},
   "source": [
    "### This section will build a system that recommends beers styles that are similar to a particular beer style.\n",
    "I will compute pairwise similarity scores for all beer styles based on their style descriptions and recommend beer styles based on that similarity score."
   ]
  },
  {
   "cell_type": "code",
   "execution_count": 6,
   "metadata": {},
   "outputs": [
    {
     "data": {
      "text/plain": [
       "Index(['style', 'description', 'abv_low', 'abv_high', 'ibu_low', 'ibu_high'], dtype='object')"
      ]
     },
     "execution_count": 6,
     "metadata": {},
     "output_type": "execute_result"
    }
   ],
   "source": [
    "descriptions.keys()"
   ]
  },
  {
   "cell_type": "code",
   "execution_count": 8,
   "metadata": {},
   "outputs": [],
   "source": [
    "# import TfidVectorizer from sklearn\n",
    "'''\n",
    "This computes Term Frequency-Inverse Document Frequency (TF-IDF) vectors for each document. \n",
    "This will give a matrix where each column represents a word in the overview vocabulary \n",
    "(all the words that appear in at least one document) and each column represents a beer style, as before. \n",
    "'''\n",
    "from sklearn.feature_extraction.text import TfidfVectorizer\n",
    "\n",
    "# Remove all the stop words in the descriptions\n",
    "tfidf = TfidfVectorizer(stop_words='english')\n",
    "\n",
    "tfidf_matrix = tfidf.fit_transform(descriptions['description'])"
   ]
  },
  {
   "cell_type": "code",
   "execution_count": 10,
   "metadata": {},
   "outputs": [
    {
     "data": {
      "text/plain": [
       "(111, 1610)"
      ]
     },
     "execution_count": 10,
     "metadata": {},
     "output_type": "execute_result"
    }
   ],
   "source": [
    "tfidf_matrix.shape"
   ]
  },
  {
   "cell_type": "code",
   "execution_count": 12,
   "metadata": {},
   "outputs": [],
   "source": [
    "from sklearn.metrics.pairwise import linear_kernel\n",
    "\n",
    "cosine_sim = linear_kernel(tfidf_matrix, tfidf_matrix)"
   ]
  },
  {
   "cell_type": "code",
   "execution_count": 13,
   "metadata": {},
   "outputs": [],
   "source": [
    "indices = pd.Series(descriptions.index, index=descriptions['style']).drop_duplicates()"
   ]
  },
  {
   "cell_type": "code",
   "execution_count": 14,
   "metadata": {},
   "outputs": [],
   "source": [
    "# Function that takes in movie title as input and outputs most similar movies\n",
    "def get_recommendations(title, cosine_sim=cosine_sim):\n",
    "    # Get the index of the movie that matches the title\n",
    "    idx = indices[title]\n",
    "\n",
    "    # Get the pairwsie similarity scores of all movies with that movie\n",
    "    sim_scores = list(enumerate(cosine_sim[idx]))\n",
    "\n",
    "    # Sort the movies based on the similarity scores\n",
    "    sim_scores = sorted(sim_scores, key=lambda x: x[1], reverse=True)\n",
    "\n",
    "    # Get the scores of the 10 most similar movies\n",
    "    sim_scores = sim_scores[1:11]\n",
    "\n",
    "    # Get the movie indices\n",
    "    movie_indices = [i[0] for i in sim_scores]\n",
    "\n",
    "    # Return the top 10 most similar movies\n",
    "    return descriptions['style'].iloc[movie_indices]"
   ]
  },
  {
   "cell_type": "code",
   "execution_count": 17,
   "metadata": {
    "scrolled": false
   },
   "outputs": [
    {
     "data": {
      "text/plain": [
       "0                          German Bock\n",
       "1                    German Doppelbock\n",
       "2                       German Eisbock\n",
       "3                       German Maibock\n",
       "4                    German Weizenbock\n",
       "5                   American Brown Ale\n",
       "6                    English Brown Ale\n",
       "7                English Dark Mild Ale\n",
       "8                       German Altbier\n",
       "9                   American Black Ale\n",
       "10                    Belgian Dark Ale\n",
       "11                      Belgian Dubbel\n",
       "12                   German Roggenbier\n",
       "13                        Scottish Ale\n",
       "14                       Winter Warmer\n",
       "15          American Amber / Red Lager\n",
       "16                 European Dark Lager\n",
       "17         German Märzen / Oktoberfest\n",
       "18                    German Rauchbier\n",
       "19                  German Schwarzbier\n",
       "20                 Munich Dunkel Lager\n",
       "21                        Vienna Lager\n",
       "22                  American Cream Ale\n",
       "23     Bière de Champagne / Bière Brut\n",
       "24                             Braggot\n",
       "25      California Common / Steam Beer\n",
       "26                   American Brut IPA\n",
       "27               American Imperial IPA\n",
       "28                        American IPA\n",
       "29                         Belgian IPA\n",
       "                    ...               \n",
       "81                     Irish Dry Stout\n",
       "82              Russian Imperial Stout\n",
       "83                 American Barleywine\n",
       "84           American Imperial Red Ale\n",
       "85                 American Strong Ale\n",
       "86              American Wheatwine Ale\n",
       "87            Belgian Quadrupel (Quad)\n",
       "88             Belgian Strong Dark Ale\n",
       "89             Belgian Strong Pale Ale\n",
       "90                      Belgian Tripel\n",
       "91                  British Barleywine\n",
       "92                     English Old Ale\n",
       "93                  English Strong Ale\n",
       "94              Scotch Ale / Wee Heavy\n",
       "95             American Dark Wheat Ale\n",
       "96             American Pale Wheat Ale\n",
       "97                     Belgian Witbier\n",
       "98                     Berliner Weisse\n",
       "99                 German Dunkelweizen\n",
       "100                  German Hefeweizen\n",
       "101               German Kristalweizen\n",
       "102                     American Brett\n",
       "103                  American Wild Ale\n",
       "104                       Belgian Faro\n",
       "105               Belgian Fruit Lambic\n",
       "106                     Belgian Gueuze\n",
       "107                     Belgian Lambic\n",
       "108                 Flanders Oud Bruin\n",
       "109                   Flanders Red Ale\n",
       "110                       Leipzig Gose\n",
       "Name: style, Length: 111, dtype: object"
      ]
     },
     "execution_count": 17,
     "metadata": {},
     "output_type": "execute_result"
    }
   ],
   "source": [
    "descriptions['style']"
   ]
  },
  {
   "cell_type": "code",
   "execution_count": 16,
   "metadata": {},
   "outputs": [
    {
     "data": {
      "text/plain": [
       "73                      Rye Beer\n",
       "9             American Black Ale\n",
       "108           Flanders Oud Bruin\n",
       "47                American Lager\n",
       "61                 Robust Porter\n",
       "6              English Brown Ale\n",
       "77         English Oatmeal Stout\n",
       "56                German Pilsner\n",
       "84     American Imperial Red Ale\n",
       "35            Belgian Blonde Ale\n",
       "Name: style, dtype: object"
      ]
     },
     "execution_count": 16,
     "metadata": {},
     "output_type": "execute_result"
    }
   ],
   "source": [
    "get_recommendations('American Brown Ale')"
   ]
  },
  {
   "cell_type": "code",
   "execution_count": 18,
   "metadata": {},
   "outputs": [
    {
     "data": {
      "text/plain": [
       "6             English Brown Ale\n",
       "75      American Imperial Stout\n",
       "5            American Brown Ale\n",
       "47               American Lager\n",
       "46    American Imperial Pilsner\n",
       "83          American Barleywine\n",
       "48         American Light Lager\n",
       "9            American Black Ale\n",
       "66          Herb and Spice Beer\n",
       "12            German Roggenbier\n",
       "Name: style, dtype: object"
      ]
     },
     "execution_count": 18,
     "metadata": {},
     "output_type": "execute_result"
    }
   ],
   "source": [
    "get_recommendations('Winter Warmer')"
   ]
  },
  {
   "cell_type": "code",
   "execution_count": 19,
   "metadata": {},
   "outputs": [
    {
     "data": {
      "text/plain": [
       "102                  American Brett\n",
       "109                Flanders Red Ale\n",
       "37                   Belgian Saison\n",
       "92                  English Old Ale\n",
       "30     English India Pale Ale (IPA)\n",
       "64                    Finnish Sahti\n",
       "107                  Belgian Lambic\n",
       "29                      Belgian IPA\n",
       "105            Belgian Fruit Lambic\n",
       "98                  Berliner Weisse\n",
       "Name: style, dtype: object"
      ]
     },
     "execution_count": 19,
     "metadata": {},
     "output_type": "execute_result"
    }
   ],
   "source": [
    "get_recommendations('American Wild Ale')"
   ]
  }
 ],
 "metadata": {
  "kernelspec": {
   "display_name": "Python 3",
   "language": "python",
   "name": "python3"
  },
  "language_info": {
   "codemirror_mode": {
    "name": "ipython",
    "version": 3
   },
   "file_extension": ".py",
   "mimetype": "text/x-python",
   "name": "python",
   "nbconvert_exporter": "python",
   "pygments_lexer": "ipython3",
   "version": "3.6.2"
  }
 },
 "nbformat": 4,
 "nbformat_minor": 2
}
