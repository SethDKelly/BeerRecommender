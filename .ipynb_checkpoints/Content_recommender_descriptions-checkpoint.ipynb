{
 "cells": [
  {
   "cell_type": "code",
   "execution_count": 1,
   "metadata": {},
   "outputs": [],
   "source": [
    "import pandas as pd"
   ]
  },
  {
   "cell_type": "code",
   "execution_count": 2,
   "metadata": {},
   "outputs": [],
   "source": [
    "# %load get_data.py\n",
    "def get_data() :\n",
    "    \n",
    "    import pandas as pd\n",
    "    \n",
    "    csv_beer = pd.read_csv(\"/home/grimoire/Projects/BeerRatings/rating_update.csv\")\n",
    "    beer_ratings = pd.DataFrame(csv_beer)\n",
    "    \n",
    "    return beer_ratings\n"
   ]
  },
  {
   "cell_type": "code",
   "execution_count": 3,
   "metadata": {},
   "outputs": [],
   "source": [
    "descriptions = pd.DataFrame(\n",
    "    pd.read_csv('/home/grimoire/Projects/BeerRatings/beer_description.csv'))\n",
    "ratings = get_data()"
   ]
  },
  {
   "cell_type": "markdown",
   "metadata": {},
   "source": [
    "### This section will build a system that recommends beers styles that are similar to a particular beer style.\n",
    "I will compute pairwise similarity scores for all beer styles based on their style descriptions and recommend beer styles based on that similarity score."
   ]
  },
  {
   "cell_type": "code",
   "execution_count": 4,
   "metadata": {},
   "outputs": [
    {
     "data": {
      "text/plain": [
       "Index(['style', 'description', 'abv_low', 'abv_high', 'ibu_low', 'ibu_high'], dtype='object')"
      ]
     },
     "execution_count": 4,
     "metadata": {},
     "output_type": "execute_result"
    }
   ],
   "source": [
    "descriptions.keys()"
   ]
  },
  {
   "cell_type": "code",
   "execution_count": 5,
   "metadata": {},
   "outputs": [],
   "source": [
    "# import TfidVectorizer from sklearn\n",
    "'''\n",
    "This computes Term Frequency-Inverse Document Frequency (TF-IDF) vectors for each document. \n",
    "This will give a matrix where each column represents a word in the overview vocabulary \n",
    "(all the words that appear in at least one document) and each column represents a beer style, as before. \n",
    "'''\n",
    "from sklearn.feature_extraction.text import TfidfVectorizer\n",
    "\n",
    "# Remove all the stop words in the descriptions\n",
    "tfidf = TfidfVectorizer(stop_words='english')\n",
    "\n",
    "tfidf_matrix = tfidf.fit_transform(descriptions['description'])"
   ]
  },
  {
   "cell_type": "code",
   "execution_count": 6,
   "metadata": {},
   "outputs": [
    {
     "data": {
      "text/plain": [
       "(111, 1610)"
      ]
     },
     "execution_count": 6,
     "metadata": {},
     "output_type": "execute_result"
    }
   ],
   "source": [
    "tfidf_matrix.shape"
   ]
  },
  {
   "cell_type": "code",
   "execution_count": 7,
   "metadata": {},
   "outputs": [],
   "source": [
    "from sklearn.metrics.pairwise import linear_kernel\n",
    "\n",
    "cosine_sim = linear_kernel(tfidf_matrix, tfidf_matrix)"
   ]
  },
  {
   "cell_type": "code",
   "execution_count": 8,
   "metadata": {},
   "outputs": [],
   "source": [
    "indices = pd.Series(descriptions.index, index=descriptions['style']).drop_duplicates()"
   ]
  },
  {
   "cell_type": "code",
   "execution_count": 9,
   "metadata": {},
   "outputs": [],
   "source": [
    "# Function that takes in movie title as input and outputs most similar movies\n",
    "def get_recommendations(title, cosine_sim=cosine_sim):\n",
    "    # Get the index of the movie that matches the title\n",
    "    idx = indices[title]\n",
    "\n",
    "    # Get the pairwsie similarity scores of all movies with that movie\n",
    "    sim_scores = list(enumerate(cosine_sim[idx]))\n",
    "\n",
    "    # Sort the movies based on the similarity scores\n",
    "    sim_scores = sorted(sim_scores, key=lambda x: x[1], reverse=True)\n",
    "\n",
    "    # Get the scores of the 10 most similar movies\n",
    "    sim_scores = sim_scores[1:11]\n",
    "\n",
    "    # Get the movie indices\n",
    "    beer_indices = [i[0] for i in sim_scores]\n",
    "\n",
    "    # Return the top 10 most similar movies\n",
    "    return (descriptions['style'].iloc[beer_indices], sim_scores)"
   ]
  },
  {
   "cell_type": "code",
   "execution_count": 10,
   "metadata": {
    "scrolled": false
   },
   "outputs": [
    {
     "data": {
      "text/plain": [
       "array(['German Bock', 'German Doppelbock', 'German Eisbock',\n",
       "       'German Maibock', 'German Weizenbock', 'American Brown Ale',\n",
       "       'English Brown Ale', 'English Dark Mild Ale', 'German Altbier',\n",
       "       'American Black Ale', 'Belgian Dark Ale', 'Belgian Dubbel',\n",
       "       'German Roggenbier', 'Scottish Ale', 'Winter Warmer',\n",
       "       'American Amber / Red Lager', 'European Dark Lager',\n",
       "       'German Märzen / Oktoberfest', 'German Rauchbier',\n",
       "       'German Schwarzbier', 'Munich Dunkel Lager', 'Vienna Lager',\n",
       "       'American Cream Ale', 'Bière de Champagne / Bière Brut', 'Braggot',\n",
       "       'California Common / Steam Beer', 'American Brut IPA',\n",
       "       'American Imperial IPA', 'American IPA', 'Belgian IPA',\n",
       "       'English India Pale Ale (IPA)', 'New England IPA',\n",
       "       'American Amber / Red Ale', 'American Blonde Ale',\n",
       "       'American Pale Ale (APA)', 'Belgian Blonde Ale', 'Belgian Pale Ale',\n",
       "       'Belgian Saison', 'English Bitter',\n",
       "       'English Extra Special / Strong Bitter (ESB)', 'English Pale Ale',\n",
       "       'English Pale Mild Ale', 'French Bière de Garde', 'German Kölsch',\n",
       "       'Irish Red Ale', 'American Adjunct Lager',\n",
       "       'American Imperial Pilsner', 'American Lager',\n",
       "       'American Light Lager', 'American Malt Liquor', 'Bohemian Pilsener',\n",
       "       'European Export / Dortmunder', 'European Pale Lager',\n",
       "       'European Strong Lager', 'German Helles',\n",
       "       'German Kellerbier / Zwickelbier', 'German Pilsner',\n",
       "       'American Imperial Porter', 'American Porter', 'Baltic Porter',\n",
       "       'English Porter', 'Robust Porter', 'Smoke Porter', 'Chile Beer',\n",
       "       'Finnish Sahti', 'Fruit and Field Beer', 'Herb and Spice Beer',\n",
       "       'Japanese Happoshu', 'Japanese Rice Lager', 'Low Alcohol Beer',\n",
       "       'Pumpkin Beer', 'Russian Kvass',\n",
       "       'Scottish Gruit / Ancient Herbed Ale', 'Rye Beer', 'Smoke Beer',\n",
       "       'American Imperial Stout', 'American Stout',\n",
       "       'English Oatmeal Stout', 'English Stout',\n",
       "       'English Sweet / Milk Stout', 'Foreign / Export Stout',\n",
       "       'Irish Dry Stout', 'Russian Imperial Stout', 'American Barleywine',\n",
       "       'American Imperial Red Ale', 'American Strong Ale',\n",
       "       'American Wheatwine Ale', 'Belgian Quadrupel (Quad)',\n",
       "       'Belgian Strong Dark Ale', 'Belgian Strong Pale Ale',\n",
       "       'Belgian Tripel', 'British Barleywine', 'English Old Ale',\n",
       "       'English Strong Ale', 'Scotch Ale / Wee Heavy',\n",
       "       'American Dark Wheat Ale', 'American Pale Wheat Ale',\n",
       "       'Belgian Witbier', 'Berliner Weisse', 'German Dunkelweizen',\n",
       "       'German Hefeweizen', 'German Kristalweizen', 'American Brett',\n",
       "       'American Wild Ale', 'Belgian Faro', 'Belgian Fruit Lambic',\n",
       "       'Belgian Gueuze', 'Belgian Lambic', 'Flanders Oud Bruin',\n",
       "       'Flanders Red Ale', 'Leipzig Gose'], dtype=object)"
      ]
     },
     "execution_count": 10,
     "metadata": {},
     "output_type": "execute_result"
    }
   ],
   "source": [
    "descriptions['style'].values"
   ]
  },
  {
   "cell_type": "code",
   "execution_count": 11,
   "metadata": {},
   "outputs": [
    {
     "data": {
      "text/plain": [
       "(73                      Rye Beer\n",
       " 9             American Black Ale\n",
       " 108           Flanders Oud Bruin\n",
       " 47                American Lager\n",
       " 61                 Robust Porter\n",
       " 6              English Brown Ale\n",
       " 77         English Oatmeal Stout\n",
       " 56                German Pilsner\n",
       " 84     American Imperial Red Ale\n",
       " 35            Belgian Blonde Ale\n",
       " Name: style, dtype: object,\n",
       " [(73, 0.31344174811212283),\n",
       "  (9, 0.28589101263717653),\n",
       "  (108, 0.24756912829268524),\n",
       "  (47, 0.24651832928826289),\n",
       "  (61, 0.2375379569324256),\n",
       "  (6, 0.2317536245633485),\n",
       "  (77, 0.22291150816383437),\n",
       "  (56, 0.21910200787490658),\n",
       "  (84, 0.21895100918694296),\n",
       "  (35, 0.21792004382078195)])"
      ]
     },
     "execution_count": 11,
     "metadata": {},
     "output_type": "execute_result"
    }
   ],
   "source": [
    "get_recommendations('American Brown Ale')"
   ]
  },
  {
   "cell_type": "code",
   "execution_count": 12,
   "metadata": {},
   "outputs": [
    {
     "data": {
      "text/plain": [
       "(6             English Brown Ale\n",
       " 75      American Imperial Stout\n",
       " 5            American Brown Ale\n",
       " 47               American Lager\n",
       " 46    American Imperial Pilsner\n",
       " 83          American Barleywine\n",
       " 48         American Light Lager\n",
       " 9            American Black Ale\n",
       " 66          Herb and Spice Beer\n",
       " 12            German Roggenbier\n",
       " Name: style, dtype: object,\n",
       " [(6, 0.15449931488540311),\n",
       "  (75, 0.14958886525917078),\n",
       "  (5, 0.14672253816052311),\n",
       "  (47, 0.12644064141309522),\n",
       "  (46, 0.12428693930044885),\n",
       "  (83, 0.1240413347258571),\n",
       "  (48, 0.11742830845513819),\n",
       "  (9, 0.11374584535704388),\n",
       "  (66, 0.11020752669297315),\n",
       "  (12, 0.10999718448237814)])"
      ]
     },
     "execution_count": 12,
     "metadata": {},
     "output_type": "execute_result"
    }
   ],
   "source": [
    "get_recommendations('Winter Warmer')"
   ]
  },
  {
   "cell_type": "code",
   "execution_count": 13,
   "metadata": {},
   "outputs": [
    {
     "data": {
      "text/plain": [
       "(102                  American Brett\n",
       " 109                Flanders Red Ale\n",
       " 37                   Belgian Saison\n",
       " 92                  English Old Ale\n",
       " 30     English India Pale Ale (IPA)\n",
       " 64                    Finnish Sahti\n",
       " 107                  Belgian Lambic\n",
       " 29                      Belgian IPA\n",
       " 105            Belgian Fruit Lambic\n",
       " 98                  Berliner Weisse\n",
       " Name: style, dtype: object,\n",
       " [(102, 0.14185855370204725),\n",
       "  (109, 0.11963720727231932),\n",
       "  (37, 0.11411546375443843),\n",
       "  (92, 0.097585990593295785),\n",
       "  (30, 0.095756324308394425),\n",
       "  (64, 0.092310631132708348),\n",
       "  (107, 0.091496325800926467),\n",
       "  (29, 0.087294676287866746),\n",
       "  (105, 0.077400736422219146),\n",
       "  (98, 0.073541482481532111)])"
      ]
     },
     "execution_count": 13,
     "metadata": {},
     "output_type": "execute_result"
    }
   ],
   "source": [
    "get_recommendations('American Wild Ale')"
   ]
  },
  {
   "cell_type": "code",
   "execution_count": 14,
   "metadata": {},
   "outputs": [
    {
     "data": {
      "text/plain": [
       "(62                    Smoke Porter\n",
       " 18                German Rauchbier\n",
       " 51    European Export / Dortmunder\n",
       " 13                    Scottish Ale\n",
       " 4                German Weizenbock\n",
       " 3                   German Maibock\n",
       " 56                  German Pilsner\n",
       " 50               Bohemian Pilsener\n",
       " 1                German Doppelbock\n",
       " 21                    Vienna Lager\n",
       " Name: style, dtype: object,\n",
       " [(62, 0.31352965868961907),\n",
       "  (18, 0.27358363753385462),\n",
       "  (51, 0.21046624253569035),\n",
       "  (13, 0.15766139001133622),\n",
       "  (4, 0.14883633675741054),\n",
       "  (3, 0.14650939712450159),\n",
       "  (56, 0.13590036763768243),\n",
       "  (50, 0.1335841206822127),\n",
       "  (1, 0.13009386906243459),\n",
       "  (21, 0.1297855455040878)])"
      ]
     },
     "execution_count": 14,
     "metadata": {},
     "output_type": "execute_result"
    }
   ],
   "source": [
    "get_recommendations('Smoke Beer')"
   ]
  }
 ],
 "metadata": {
  "kernelspec": {
   "display_name": "Python 3",
   "language": "python",
   "name": "python3"
  },
  "language_info": {
   "codemirror_mode": {
    "name": "ipython",
    "version": 3
   },
   "file_extension": ".py",
   "mimetype": "text/x-python",
   "name": "python",
   "nbconvert_exporter": "python",
   "pygments_lexer": "ipython3",
   "version": "3.6.2"
  }
 },
 "nbformat": 4,
 "nbformat_minor": 2
}
