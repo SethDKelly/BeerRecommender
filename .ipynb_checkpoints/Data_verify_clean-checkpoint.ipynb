{
 "cells": [
  {
   "cell_type": "code",
   "execution_count": 1,
   "metadata": {},
   "outputs": [],
   "source": [
    "import pandas as pd\n",
    "import numpy as np"
   ]
  },
  {
   "cell_type": "code",
   "execution_count": 2,
   "metadata": {},
   "outputs": [],
   "source": [
    "# %load get_data.py\n",
    "def get_data() :\n",
    "    \n",
    "    import pandas as pd\n",
    "    \n",
    "    csv_beer = pd.read_csv(\"/home/grimoire/Projects/BeerRatings/beer_reviews.csv\")\n",
    "    beer_ratings = pd.DataFrame(csv_beer)\n",
    "    \n",
    "    return beer_ratings\n"
   ]
  },
  {
   "cell_type": "code",
   "execution_count": 3,
   "metadata": {},
   "outputs": [],
   "source": [
    "beer_ratings = get_data()"
   ]
  },
  {
   "cell_type": "markdown",
   "metadata": {},
   "source": [
    "## The purpose of this notebook will be to:\n",
    "* Verify all values fall into appropriate ranges\n",
    "* Update or remove bad values"
   ]
  },
  {
   "cell_type": "code",
   "execution_count": 4,
   "metadata": {},
   "outputs": [
    {
     "name": "stdout",
     "output_type": "stream",
     "text": [
      "<class 'pandas.core.frame.DataFrame'>\n",
      "RangeIndex: 1586614 entries, 0 to 1586613\n",
      "Data columns (total 13 columns):\n",
      "brewery_id            1586614 non-null int64\n",
      "brewery_name          1586599 non-null object\n",
      "review_time           1586614 non-null int64\n",
      "review_overall        1586614 non-null float64\n",
      "review_aroma          1586614 non-null float64\n",
      "review_appearance     1586614 non-null float64\n",
      "review_profilename    1586266 non-null object\n",
      "beer_style            1586614 non-null object\n",
      "review_palate         1586614 non-null float64\n",
      "review_taste          1586614 non-null float64\n",
      "beer_name             1586614 non-null object\n",
      "beer_abv              1518829 non-null float64\n",
      "beer_beerid           1586614 non-null int64\n",
      "dtypes: float64(6), int64(3), object(4)\n",
      "memory usage: 157.4+ MB\n"
     ]
    }
   ],
   "source": [
    "beer_ratings.info()"
   ]
  },
  {
   "cell_type": "code",
   "execution_count": 5,
   "metadata": {},
   "outputs": [
    {
     "data": {
      "text/plain": [
       "array([  5.00000000e+00,   6.20000000e+00,   6.50000000e+00,\n",
       "         7.70000000e+00,   4.70000000e+00,   3.50000000e+00,\n",
       "         7.20000000e+00,   5.60000000e+00,   7.40000000e+00,\n",
       "         5.50000000e+00,   5.80000000e+00,   8.10000000e+00,\n",
       "         6.10000000e+00,              nan,   8.80000000e+00,\n",
       "         5.70000000e+00,   7.00000000e+00,   6.30000000e+00,\n",
       "         3.90000000e+00,   6.70000000e+00,   6.00000000e+00,\n",
       "         6.80000000e+00,   5.40000000e+00,   9.50000000e+00,\n",
       "         4.80000000e+00,   5.20000000e+00,   9.40000000e+00,\n",
       "         7.60000000e+00,   8.50000000e+00,   4.00000000e+00,\n",
       "         4.50000000e+00,   4.20000000e+00,   9.00000000e+00,\n",
       "         8.00000000e+00,   4.10000000e+00,   1.04000000e+01,\n",
       "         5.10000000e+00,   1.00000000e+01,   3.80000000e+00,\n",
       "         7.10000000e+00,   4.60000000e+00,   7.50000000e+00,\n",
       "         1.00000000e-01,   8.40000000e+00,   4.40000000e+00,\n",
       "         4.90000000e+00,   2.20000000e+00,   2.80000000e+00,\n",
       "         5.30000000e+00,   1.05000000e+01,   9.80000000e+00,\n",
       "         5.90000000e+00,   1.20000000e+01,   4.30000000e+00,\n",
       "         5.79000000e+00,   4.19000000e+00,   8.60000000e+00,\n",
       "         1.09000000e+01,   6.60000000e+00,   9.30000000e+00,\n",
       "         8.85000000e+00,   8.30000000e+00,   8.70000000e+00,\n",
       "         7.25000000e+00,   3.75000000e+00,   3.10000000e+00,\n",
       "         5.25000000e+00,   4.37000000e+00,   1.11000000e+01,\n",
       "         6.40000000e+00,   1.10000000e+01,   5.00000000e-01,\n",
       "         8.20000000e+00,   1.13000000e+01,   7.80000000e+00,\n",
       "         6.90000000e+00,   1.30000000e+01,   5.75000000e+00,\n",
       "         4.75000000e+00,   9.20000000e+00,   1.50000000e+00,\n",
       "         3.00000000e+00,   3.70000000e+00,   7.90000000e+00,\n",
       "         9.90000000e+00,   8.90000000e+00,   7.30000000e+00,\n",
       "         2.50000000e+00,   1.40000000e+01,   1.50000000e+01,\n",
       "         1.15000000e+01,   7.82000000e+00,   1.02500000e+01,\n",
       "         1.60000000e+01,   1.01000000e+01,   3.20000000e+00,\n",
       "         3.40000000e+00,   3.60000000e+00,   3.08600000e+01,\n",
       "         5.77000000e+01,   3.94400000e+01,   4.30000000e+01,\n",
       "         9.70000000e+00,   8.25000000e+00,   6.32000000e+00,\n",
       "         1.25000000e+01,   1.28000000e+01,   1.19000000e+01,\n",
       "         1.26000000e+01,   1.07500000e+01,   9.60000000e+00,\n",
       "         7.75000000e+00,   1.06000000e+01,   1.02000000e+01,\n",
       "         1.12000000e+01,   9.10000000e+00,   1.03000000e+01,\n",
       "         6.25000000e+00,   1.08000000e+01,   1.29000000e+01,\n",
       "         5.47000000e+00,   5.59000000e+00,   5.11000000e+00,\n",
       "         7.26000000e+00,   2.40000000e+00,   1.45000000e+01,\n",
       "         4.55000000e+00,   1.55000000e+01,   4.25000000e+00,\n",
       "         1.43000000e+01,   3.30000000e+00,   2.00000000e+00,\n",
       "         1.17000000e+01,   1.16000000e+01,   1.21000000e+01,\n",
       "         1.27000000e+01,   1.20000000e+00,   1.47000000e+01,\n",
       "         1.82000000e+01,   1.95000000e+01,   1.83000000e+01,\n",
       "         1.70000000e+01,   1.85000000e+01,   6.66000000e+00,\n",
       "         1.41000000e+01,   5.14000000e+00,   2.75000000e+00,\n",
       "         4.53000000e+00,   8.41000000e+00,   7.85000000e+00,\n",
       "         1.22500000e+01,   1.23000000e+01,   6.75000000e+00,\n",
       "         7.77000000e+00,   1.00300000e+01,   1.02800000e+01,\n",
       "         7.17000000e+00,   2.70000000e+00,   1.40000000e+00,\n",
       "         2.90000000e+00,   3.44000000e+00,   5.00000000e-02,\n",
       "         4.62000000e+00,   4.95000000e+00,   3.95000000e+00,\n",
       "         1.12500000e+01,   5.61000000e+00,   1.84000000e+01,\n",
       "         6.45000000e+00,   1.07000000e+01,   4.77000000e+00,\n",
       "         7.37000000e+00,   8.75000000e+00,   9.96000000e+00,\n",
       "         1.14000000e+01,   1.00000000e+00,   9.00000000e-01,\n",
       "         5.72000000e+00,   6.95000000e+00,   3.25000000e+00,\n",
       "         2.60000000e+00,   4.14000000e+00,   5.95000000e+00,\n",
       "         7.15000000e+00,   5.87000000e+00,   5.41000000e+00,\n",
       "         5.53000000e+00,   5.62000000e+00,   1.18000000e+01,\n",
       "         6.85000000e+00,   5.35000000e+00,   7.39000000e+00,\n",
       "         9.75000000e+00,   9.25000000e+00,   5.65000000e+00,\n",
       "         5.68000000e+00,   5.29000000e+00,   1.35000000e+01,\n",
       "         6.08000000e+00,   5.57000000e+00,   7.52000000e+00,\n",
       "         1.22000000e+01,   1.80000000e+01,   4.45000000e+00,\n",
       "         4.65000000e+00,   1.92000000e+01,   1.63000000e+01,\n",
       "         1.32000000e+01,   1.75000000e+01,   1.00000000e-02,\n",
       "         5.45000000e+00,   2.10000000e+01,   2.50000000e+01,\n",
       "         4.35000000e+00,   2.70000000e+01,   2.40000000e+01,\n",
       "         5.01000000e+00,   4.74000000e+00,   4.63000000e+00,\n",
       "         3.79000000e+00,   4.94000000e+00,   4.78000000e+00,\n",
       "         4.28000000e+00,   9.78000000e+00,   4.72000000e+00,\n",
       "         7.23000000e+00,   5.93000000e+00,   1.80000000e+00,\n",
       "         3.88000000e+00,   4.73000000e+00,   1.24000000e+01,\n",
       "         2.10000000e+00,   5.86000000e+00,   4.00000000e-01,\n",
       "         2.16000000e+00,   4.85000000e+00,   5.63000000e+00,\n",
       "         5.38000000e+00,   5.24000000e+00,   5.15000000e+00,\n",
       "         4.66000000e+00,   3.65000000e+00,   1.51000000e+01,\n",
       "         5.97000000e+00,   3.67000000e+00,   4.13000000e+00,\n",
       "         1.16500000e+01,   1.09800000e+01,   6.55000000e+00,\n",
       "         9.99000000e+00,   5.36000000e+00,   1.11500000e+01,\n",
       "         1.39000000e+01,   3.00000000e-01,   5.78000000e+00,\n",
       "         1.61000000e+01,   5.27000000e+00,   4.15000000e+00,\n",
       "         5.43000000e+00,   5.69000000e+00,   5.54000000e+00,\n",
       "         6.82000000e+00,   4.46000000e+00,   6.15000000e+00,\n",
       "         6.71000000e+00,   1.65000000e+01,   1.33000000e+01,\n",
       "         7.13000000e+00,   5.56000000e+00,   1.00100000e+01,\n",
       "         1.01700000e+01,   1.37000000e+01,   5.12000000e+00,\n",
       "         4.81000000e+00,   1.36000000e+01,   4.86000000e+00,\n",
       "         1.49000000e+01,   5.19000000e+00,   6.33000000e+00,\n",
       "         6.31000000e+00,   7.71000000e+00,   4.16000000e+00,\n",
       "         7.45000000e+00,   7.33000000e+00,   5.88000000e+00,\n",
       "         6.24000000e+00,   5.94000000e+00,   5.82000000e+00,\n",
       "         6.07000000e+00,   5.28000000e+00,   6.87000000e+00,\n",
       "         2.50000000e-01,   2.20000000e+01,   5.13000000e+00,\n",
       "         4.88000000e+00,   6.13000000e+00,   5.98000000e+00,\n",
       "         3.71000000e+00,   5.33000000e+00,   5.18000000e+00,\n",
       "         6.27000000e+00,   9.04000000e+00,   5.74000000e+00,\n",
       "         1.34000000e+01,   1.15900000e+01,   6.23000000e+00,\n",
       "         6.67000000e+00,   1.17500000e+01,   5.05000000e+00,\n",
       "         1.68000000e+01,   9.23000000e+00,   7.68000000e+00,\n",
       "         5.31000000e+00,   1.68300000e+01,   4.38000000e+00,\n",
       "         8.69000000e+00,   8.72000000e+00,   8.59000000e+00,\n",
       "         5.46000000e+00,   8.65000000e+00,   6.88000000e+00,\n",
       "         7.69000000e+00,   1.00800000e+01,   1.10300000e+01,\n",
       "         1.64500000e+01,   1.60300000e+01,   9.46000000e+00,\n",
       "         1.81000000e+01,   1.54300000e+01,   9.54000000e+00,\n",
       "         8.12000000e+00,   9.91000000e+00,   1.59000000e+01,\n",
       "         9.73000000e+00,   9.62000000e+00,   5.81000000e+00,\n",
       "         6.38000000e+00,   5.17000000e+00,   4.26000000e+00,\n",
       "         5.16000000e+00,   1.93700000e+01,   2.30000000e+00,\n",
       "         5.42000000e+00,   1.01300000e+01,   5.52000000e+00,\n",
       "         4.96000000e+00,   5.51000000e+00,   6.29000000e+00,\n",
       "         3.54000000e+00,   1.14100000e+01,   9.85000000e+00,\n",
       "         7.79000000e+00,   7.57000000e+00,   5.55000000e+00,\n",
       "         1.01400000e+01,   6.35000000e+00,   4.10000000e+01,\n",
       "         2.80000000e+01,   3.20000000e+01,   1.02700000e+01,\n",
       "         1.72000000e+01,   5.73000000e+00,   8.24000000e+00,\n",
       "         5.67000000e+00,   9.71000000e+00,   8.27000000e+00,\n",
       "         8.19000000e+00,   1.10400000e+01,   5.34000000e+00,\n",
       "         7.08000000e+00,   8.97000000e+00,   6.14000000e+00,\n",
       "         4.32000000e+00,   3.99000000e+00,   2.92000000e+00,\n",
       "         4.08000000e+00,   7.58000000e+00,   6.98000000e+00,\n",
       "         6.77000000e+00,   4.34000000e+00,   4.33000000e+00,\n",
       "         1.38000000e+01,   6.19000000e+00,   4.64000000e+00,\n",
       "         4.39000000e+00,   1.31000000e+01,   5.91000000e+00,\n",
       "         1.21200000e+01,   1.50200000e+01,   1.19900000e+01,\n",
       "         9.39000000e+00,   3.93000000e+00,   9.44000000e+00,\n",
       "         1.00600000e+01,   7.48000000e+00,   1.12600000e+01,\n",
       "         1.05800000e+01,   8.66000000e+00,   4.87000000e+00,\n",
       "         4.97000000e+00,   5.64000000e+00,   6.56000000e+00,\n",
       "         7.09000000e+00,   5.99000000e+00,   4.29000000e+00,\n",
       "         2.60000000e+01,   3.90000000e+01,   9.05000000e+00,\n",
       "         2.25000000e+00,   4.01000000e+00,   4.98000000e+00,\n",
       "         4.89000000e+00,   1.03100000e+01,   4.50000000e-01,\n",
       "         1.73500000e+01,   4.59000000e+00,   7.00000000e-01,\n",
       "         4.79000000e+00,   9.18000000e+00,   1.74000000e+01,\n",
       "         1.64000000e+01,   1.52000000e+01,   1.62000000e+01,\n",
       "         2.90000000e+01,   8.03000000e+00,   8.55000000e+00,\n",
       "         8.08000000e+00,   4.58000000e+00,   7.43000000e+00,\n",
       "         7.51000000e+00,   6.18000000e+00,   5.09000000e+00,\n",
       "         4.56000000e+00,   4.41000000e+00,   9.35000000e+00,\n",
       "         4.99000000e+00,   6.78000000e+00,   9.61000000e+00,\n",
       "         4.91000000e+00,   6.04000000e+00,   4.67000000e+00,\n",
       "         4.83000000e+00,   5.04000000e+00,   7.88000000e+00,\n",
       "         6.09000000e+00,   7.67000000e+00,   4.31000000e+00,\n",
       "         3.13000000e+00,   1.07600000e+01,   5.85000000e+00,\n",
       "         4.48000000e+00,   3.61000000e+00,   9.74000000e+00,\n",
       "         6.65000000e+00,   4.17000000e+00,   1.04300000e+01,\n",
       "         5.06000000e+00,   5.89000000e+00,   6.83000000e+00,\n",
       "         7.92000000e+00,   7.24000000e+00,   8.06000000e+00,\n",
       "         8.33000000e+00,   1.16700000e+01,   8.88000000e+00,\n",
       "         4.51000000e+00,   1.50400000e+01,   9.15000000e+00,\n",
       "         2.00000000e+01,   5.32000000e+00,   4.44000000e+00,\n",
       "         5.39000000e+00,   6.72000000e+00,   6.21000000e+00,\n",
       "         5.83000000e+00,   6.59000000e+00,   5.48000000e+00,\n",
       "         6.86000000e+00,   6.42000000e+00,   8.00000000e-01,\n",
       "         8.34000000e+00,   1.69000000e+01,   1.31600000e+01,\n",
       "         5.21000000e+00,   5.07000000e+00,   8.47000000e+00,\n",
       "         8.17000000e+00,   1.10100000e+01,   7.61000000e+00,\n",
       "         7.07000000e+00,   4.76000000e+00,   8.02000000e+00,\n",
       "         8.00000000e-02,   7.62000000e+00,   7.74000000e+00,\n",
       "         7.83000000e+00,   6.11000000e+00,   3.53000000e+00,\n",
       "         8.74000000e+00,   9.28000000e+00,   5.77000000e+00,\n",
       "         1.70000000e+00,   4.06000000e+00,   4.68000000e+00,\n",
       "         7.21000000e+00,   2.19200000e+01,   1.46000000e+01,\n",
       "         1.56000000e+01,   1.53000000e+01,   7.87000000e+00,\n",
       "         5.58000000e+00,   5.23000000e+00,   8.35000000e+00,\n",
       "         1.90000000e+00,   1.32500000e+01,   5.44000000e+00,\n",
       "         5.02000000e+00,   4.47000000e+00,   7.99000000e+00,\n",
       "         7.35000000e+00,   6.61000000e+00,   6.58000000e+00,\n",
       "         8.21000000e+00,   1.25000000e+00,   8.67000000e+00,\n",
       "         3.22000000e+00,   8.26000000e+00,   1.30000000e+00,\n",
       "         4.69000000e+00,   1.03700000e+01,   1.02400000e+01])"
      ]
     },
     "execution_count": 5,
     "metadata": {},
     "output_type": "execute_result"
    }
   ],
   "source": [
    "beer_ratings.beer_abv.unique()"
   ]
  },
  {
   "cell_type": "code",
   "execution_count": 6,
   "metadata": {},
   "outputs": [],
   "source": [
    "beer2 = beer_ratings"
   ]
  },
  {
   "cell_type": "code",
   "execution_count": 9,
   "metadata": {},
   "outputs": [],
   "source": [
    "beer2['abv'] = beer2.beer_abv.astype(str)"
   ]
  },
  {
   "cell_type": "code",
   "execution_count": 15,
   "metadata": {},
   "outputs": [
    {
     "data": {
      "text/plain": [
       "14110"
      ]
     },
     "execution_count": 15,
     "metadata": {},
     "output_type": "execute_result"
    }
   ],
   "source": [
    "len(beer2[beer2.abv =='nan'].beer_name.unique())"
   ]
  },
  {
   "cell_type": "code",
   "execution_count": 19,
   "metadata": {},
   "outputs": [
    {
     "data": {
      "text/plain": [
       "57.7"
      ]
     },
     "execution_count": 19,
     "metadata": {},
     "output_type": "execute_result"
    }
   ],
   "source": [
    "max(beer2[beer2.abv !='nan'].beer_abv)"
   ]
  },
  {
   "cell_type": "code",
   "execution_count": 24,
   "metadata": {},
   "outputs": [
    {
     "data": {
      "text/plain": [
       "7.042353400114299"
      ]
     },
     "execution_count": 24,
     "metadata": {},
     "output_type": "execute_result"
    }
   ],
   "source": [
    "beer2[beer2[beer2.abv !='nan'] != 57.7].beer_abv.mean()"
   ]
  },
  {
   "cell_type": "code",
   "execution_count": 25,
   "metadata": {},
   "outputs": [
    {
     "data": {
      "text/plain": [
       "7.042386753208429"
      ]
     },
     "execution_count": 25,
     "metadata": {},
     "output_type": "execute_result"
    }
   ],
   "source": [
    "beer2[beer2.abv !='nan'].beer_abv.mean()"
   ]
  },
  {
   "cell_type": "code",
   "execution_count": 34,
   "metadata": {},
   "outputs": [
    {
     "data": {
      "image/png": "[encoded data removed]",
      "text/plain": [
       "<matplotlib.figure.Figure at 0x7fe7a638ec88>"
      ]
     },
     "metadata": {},
     "output_type": "display_data"
    }
   ],
   "source": [
    "plt.hist(beer2[beer2.abv !='nan'].beer_abv, bins = 100)\n",
    "plt.show()"
   ]
  }
 ],
 "metadata": {
  "kernelspec": {
   "display_name": "Python 3",
   "language": "python",
   "name": "python3"
  },
  "language_info": {
   "codemirror_mode": {
    "name": "ipython",
    "version": 3
   },
   "file_extension": ".py",
   "mimetype": "text/x-python",
   "name": "python",
   "nbconvert_exporter": "python",
   "pygments_lexer": "ipython3",
   "version": "3.6.2"
  }
 },
 "nbformat": 4,
 "nbformat_minor": 2
}
