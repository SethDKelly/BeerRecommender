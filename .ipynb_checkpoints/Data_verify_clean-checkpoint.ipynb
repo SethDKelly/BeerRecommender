{
 "cells": [
  {
   "cell_type": "markdown",
   "metadata": {
    "slideshow": {
     "slide_type": "notes"
    }
   },
   "source": [
    "# This notebook can be ran as slides from your browser by:\n",
    "* Downloading the notebook from github\n",
    "* Moving to the folder that has the notebook in terminal/console i.e. 'cd ~/Downloads'\n",
    "* Enter: 'jupyter nbconvert Data_verify_clean.ipynb --to slides --post serve'"
   ]
  },
  {
   "cell_type": "markdown",
   "metadata": {
    "slideshow": {
     "slide_type": "slide"
    }
   },
   "source": [
    "## Importing the early dependancies and data"
   ]
  },
  {
   "cell_type": "code",
   "execution_count": 1,
   "metadata": {
    "slideshow": {
     "slide_type": "fragment"
    }
   },
   "outputs": [],
   "source": [
    "import pandas as pd\n",
    "import numpy as np"
   ]
  },
  {
   "cell_type": "code",
   "execution_count": 2,
   "metadata": {
    "slideshow": {
     "slide_type": "fragment"
    }
   },
   "outputs": [],
   "source": [
    "# %load get_data.py\n",
    "def get_data() :\n",
    "    \n",
    "    import pandas as pd\n",
    "    \n",
    "    # rating_update is the original data 'beer_review.csv' with beer_style updated\n",
    "    # The updates change beer_style to match the styles that are given in 'beer_description.csv'\n",
    "\n",
    "    csv_beer = pd.read_csv(\"/home/grimoire/Projects/BeerRatings/beer_reviews.csv\")\n",
    "    beer_ratings = pd.DataFrame(csv_beer)\n",
    "    \n",
    "    return beer_ratings\n"
   ]
  },
  {
   "cell_type": "code",
   "execution_count": 3,
   "metadata": {
    "slideshow": {
     "slide_type": "fragment"
    }
   },
   "outputs": [],
   "source": [
    "beer_ratings = get_data()"
   ]
  },
  {
   "cell_type": "markdown",
   "metadata": {
    "slideshow": {
     "slide_type": "slide"
    }
   },
   "source": [
    "# The purpose of this notebook will be to:\n",
    "* Ameliorate, or remove bad values if necessary\n",
    "* Verify all numeric fall into appropriate ranges (1-5) and/or non-negative"
   ]
  },
  {
   "cell_type": "markdown",
   "metadata": {
    "slideshow": {
     "slide_type": "slide"
    }
   },
   "source": [
    "# Ameliorate (to make better or more tolerable) or remove bad values"
   ]
  },
  {
   "cell_type": "markdown",
   "metadata": {
    "slideshow": {
     "slide_type": "slide"
    }
   },
   "source": [
    "# The hunt for bad review_profilename"
   ]
  },
  {
   "cell_type": "code",
   "execution_count": 4,
   "metadata": {
    "slideshow": {
     "slide_type": "fragment"
    }
   },
   "outputs": [
    {
     "name": "stdout",
     "output_type": "stream",
     "text": [
      "<class 'pandas.core.frame.DataFrame'>\n",
      "RangeIndex: 1586614 entries, 0 to 1586613\n",
      "Data columns (total 13 columns):\n",
      "brewery_id            1586614 non-null int64\n",
      "brewery_name          1586599 non-null object\n",
      "review_time           1586614 non-null int64\n",
      "review_overall        1586614 non-null float64\n",
      "review_aroma          1586614 non-null float64\n",
      "review_appearance     1586614 non-null float64\n",
      "review_profilename    1586266 non-null object\n",
      "beer_style            1586614 non-null object\n",
      "review_palate         1586614 non-null float64\n",
      "review_taste          1586614 non-null float64\n",
      "beer_name             1586614 non-null object\n",
      "beer_abv              1518829 non-null float64\n",
      "beer_beerid           1586614 non-null int64\n",
      "dtypes: float64(6), int64(3), object(4)\n",
      "memory usage: 157.4+ MB\n"
     ]
    }
   ],
   "source": [
    "beer_ratings.info()"
   ]
  },
  {
   "cell_type": "markdown",
   "metadata": {
    "slideshow": {
     "slide_type": "fragment"
    }
   },
   "source": [
    "The RangeIndex gives use a total of 1,586,614 observations. \n",
    "\n",
    "We have 1,586,266 non-null object observations in review_profilename"
   ]
  },
  {
   "cell_type": "code",
   "execution_count": 5,
   "metadata": {
    "scrolled": false,
    "slideshow": {
     "slide_type": "slide"
    }
   },
   "outputs": [],
   "source": [
    "profilename_array = \\\n",
    "    [name for name in beer_ratings.review_profilename.unique()]"
   ]
  },
  {
   "cell_type": "markdown",
   "metadata": {
    "slideshow": {
     "slide_type": "fragment"
    }
   },
   "source": [
    "Building an array of the unique/distinct profile names"
   ]
  },
  {
   "cell_type": "markdown",
   "metadata": {
    "slideshow": {
     "slide_type": "slide"
    }
   },
   "source": [
    "Checking for 'nan', Not a Number or null, values in the array"
   ]
  },
  {
   "cell_type": "code",
   "execution_count": 6,
   "metadata": {
    "scrolled": false,
    "slideshow": {
     "slide_type": "fragment"
    }
   },
   "outputs": [
    {
     "name": "stdout",
     "output_type": "stream",
     "text": [
      "False\n"
     ]
    }
   ],
   "source": [
    "print(True in [name == 'nan' for name in profilename_array])"
   ]
  },
  {
   "cell_type": "code",
   "execution_count": 7,
   "metadata": {
    "slideshow": {
     "slide_type": "fragment"
    }
   },
   "outputs": [
    {
     "name": "stdout",
     "output_type": "stream",
     "text": [
      "False\n"
     ]
    }
   ],
   "source": [
    "print(True in [name == np.nan for name in profilename_array])"
   ]
  },
  {
   "cell_type": "markdown",
   "metadata": {
    "slideshow": {
     "slide_type": "fragment"
    }
   },
   "source": [
    "* Profile names should be type str. We're going to map the array so all values are type string. \n",
    "* After doing this we rechecked for 'nan' and find that there are nan values. \n",
    "In python nan can be a float value. So when checking for literal 'nan' it looked for an exact str match. \n",
    "\n",
    "Checking for these values as an array can save time before doing a large conversion over a dataframe."
   ]
  },
  {
   "cell_type": "code",
   "execution_count": 8,
   "metadata": {
    "slideshow": {
     "slide_type": "fragment"
    }
   },
   "outputs": [
    {
     "name": "stdout",
     "output_type": "stream",
     "text": [
      "True\n"
     ]
    }
   ],
   "source": [
    "print(True in [name == 'nan' for name in list(map(str, profilename_array))])"
   ]
  },
  {
   "cell_type": "code",
   "execution_count": 9,
   "metadata": {
    "slideshow": {
     "slide_type": "slide"
    }
   },
   "outputs": [
    {
     "name": "stdout",
     "output_type": "stream",
     "text": [
      "       brewery_id                                brewery_name  review_time  \\\n",
      "8869          395  Bluegrass Brewing Co. - East St. Matthew's   1205005717   \n",
      "22125        1199                    Founders Brewing Company   1231726538   \n",
      "31822        1199                    Founders Brewing Company   1246501387   \n",
      "33500        1199                    Founders Brewing Company   1238871081   \n",
      "33678        1199                    Founders Brewing Company   1227224257   \n",
      "\n",
      "       review_overall  review_aroma  review_appearance review_profilename  \\\n",
      "8869              4.0           4.0                3.5                nan   \n",
      "22125             4.0           4.5                4.5                nan   \n",
      "31822             4.0           4.0                4.0                nan   \n",
      "33500             5.0           5.0                5.0                nan   \n",
      "33678             5.0           5.0                5.0                nan   \n",
      "\n",
      "                             beer_style  review_palate  review_taste  \\\n",
      "8869   American Double / Imperial Stout            3.0           3.5   \n",
      "22125  American Double / Imperial Stout            4.0           4.5   \n",
      "31822                      American IPA            4.0           4.5   \n",
      "33500  American Double / Imperial Stout            5.0           5.0   \n",
      "33678  American Double / Imperial Stout            5.0           5.0   \n",
      "\n",
      "                                      beer_name  beer_abv  beer_beerid  \n",
      "8869   Jefferson's Reserve Bourbon Barrel Stout       8.5        29687  \n",
      "22125                  Founders Breakfast Stout       8.3        11757  \n",
      "31822                   Founders Centennial IPA       7.2         5441  \n",
      "33500   Founders KBS (Kentucky Breakfast Stout)      11.2        19960  \n",
      "33678   Founders KBS (Kentucky Breakfast Stout)      11.2        19960  \n"
     ]
    }
   ],
   "source": [
    "beer_ratings['review_profilename'] = \\\n",
    "    beer_ratings['review_profilename'].astype('str')\n",
    "print(beer_ratings[beer_ratings['review_profilename'] == 'nan'].head(5))"
   ]
  },
  {
   "cell_type": "code",
   "execution_count": 10,
   "metadata": {
    "slideshow": {
     "slide_type": "slide"
    }
   },
   "outputs": [],
   "source": [
    "bad_ProfileIndices = \\\n",
    "    beer_ratings.loc[\n",
    "        beer_ratings['review_profilename'] == 'nan',:]\\\n",
    "        ['review_profilename'].index"
   ]
  },
  {
   "cell_type": "markdown",
   "metadata": {
    "slideshow": {
     "slide_type": "fragment"
    }
   },
   "source": [
    "Collect the indices of the 'nan' entries in review_profilename"
   ]
  },
  {
   "cell_type": "code",
   "execution_count": 11,
   "metadata": {
    "slideshow": {
     "slide_type": "fragment"
    }
   },
   "outputs": [],
   "source": [
    "for index in bad_ProfileIndices :\n",
    "    beer_ratings.loc[index,'review_profilename'] = 'UNKNOWN'"
   ]
  },
  {
   "cell_type": "markdown",
   "metadata": {
    "slideshow": {
     "slide_type": "fragment"
    }
   },
   "source": [
    "Set the values as 'OTHER'. In instances where we're not using the profile names we still have the rest of the data. In cases that we're going to use profile names we can find the old 'nan' values under 'OTHER'"
   ]
  },
  {
   "cell_type": "code",
   "execution_count": 12,
   "metadata": {
    "scrolled": false,
    "slideshow": {
     "slide_type": "slide"
    }
   },
   "outputs": [
    {
     "name": "stdout",
     "output_type": "stream",
     "text": [
      "       brewery_id                                brewery_name  review_time  \\\n",
      "8869          395  Bluegrass Brewing Co. - East St. Matthew's   1205005717   \n",
      "22125        1199                    Founders Brewing Company   1231726538   \n",
      "31822        1199                    Founders Brewing Company   1246501387   \n",
      "33500        1199                    Founders Brewing Company   1238871081   \n",
      "33678        1199                    Founders Brewing Company   1227224257   \n",
      "\n",
      "       review_overall  review_aroma  review_appearance review_profilename  \\\n",
      "8869              4.0           4.0                3.5            UNKNOWN   \n",
      "22125             4.0           4.5                4.5            UNKNOWN   \n",
      "31822             4.0           4.0                4.0            UNKNOWN   \n",
      "33500             5.0           5.0                5.0            UNKNOWN   \n",
      "33678             5.0           5.0                5.0            UNKNOWN   \n",
      "\n",
      "                             beer_style  review_palate  review_taste  \\\n",
      "8869   American Double / Imperial Stout            3.0           3.5   \n",
      "22125  American Double / Imperial Stout            4.0           4.5   \n",
      "31822                      American IPA            4.0           4.5   \n",
      "33500  American Double / Imperial Stout            5.0           5.0   \n",
      "33678  American Double / Imperial Stout            5.0           5.0   \n",
      "\n",
      "                                      beer_name  beer_abv  beer_beerid  \n",
      "8869   Jefferson's Reserve Bourbon Barrel Stout       8.5        29687  \n",
      "22125                  Founders Breakfast Stout       8.3        11757  \n",
      "31822                   Founders Centennial IPA       7.2         5441  \n",
      "33500   Founders KBS (Kentucky Breakfast Stout)      11.2        19960  \n",
      "33678   Founders KBS (Kentucky Breakfast Stout)      11.2        19960  \n"
     ]
    }
   ],
   "source": [
    "print(beer_ratings[beer_ratings['review_profilename'] == 'UNKNOWN'].head(5))"
   ]
  },
  {
   "cell_type": "code",
   "execution_count": 13,
   "metadata": {
    "slideshow": {
     "slide_type": "slide"
    }
   },
   "outputs": [
    {
     "name": "stdout",
     "output_type": "stream",
     "text": [
      "<class 'pandas.core.frame.DataFrame'>\n",
      "RangeIndex: 1586614 entries, 0 to 1586613\n",
      "Data columns (total 13 columns):\n",
      "brewery_id            1586614 non-null int64\n",
      "brewery_name          1586599 non-null object\n",
      "review_time           1586614 non-null int64\n",
      "review_overall        1586614 non-null float64\n",
      "review_aroma          1586614 non-null float64\n",
      "review_appearance     1586614 non-null float64\n",
      "review_profilename    1586614 non-null object\n",
      "beer_style            1586614 non-null object\n",
      "review_palate         1586614 non-null float64\n",
      "review_taste          1586614 non-null float64\n",
      "beer_name             1586614 non-null object\n",
      "beer_abv              1518829 non-null float64\n",
      "beer_beerid           1586614 non-null int64\n",
      "dtypes: float64(6), int64(3), object(4)\n",
      "memory usage: 157.4+ MB\n"
     ]
    }
   ],
   "source": [
    "beer_ratings.info()"
   ]
  },
  {
   "cell_type": "markdown",
   "metadata": {
    "slideshow": {
     "slide_type": "fragment"
    }
   },
   "source": [
    "All of the review_profilename anomolies have been made tolerable. Onto the next section..."
   ]
  },
  {
   "cell_type": "markdown",
   "metadata": {
    "slideshow": {
     "slide_type": "notes"
    }
   },
   "source": [
    "It should be mentioned that it may be possible to map a profile name to these 'OTHER' accounts. In this project we won't focus on this"
   ]
  },
  {
   "cell_type": "markdown",
   "metadata": {
    "slideshow": {
     "slide_type": "slide"
    }
   },
   "source": [
    "# The hunt for bad brewery_name values"
   ]
  },
  {
   "cell_type": "code",
   "execution_count": 14,
   "metadata": {
    "slideshow": {
     "slide_type": "fragment"
    }
   },
   "outputs": [
    {
     "name": "stdout",
     "output_type": "stream",
     "text": [
      "<class 'pandas.core.frame.DataFrame'>\n",
      "RangeIndex: 1586614 entries, 0 to 1586613\n",
      "Data columns (total 13 columns):\n",
      "brewery_id            1586614 non-null int64\n",
      "brewery_name          1586599 non-null object\n",
      "review_time           1586614 non-null int64\n",
      "review_overall        1586614 non-null float64\n",
      "review_aroma          1586614 non-null float64\n",
      "review_appearance     1586614 non-null float64\n",
      "review_profilename    1586614 non-null object\n",
      "beer_style            1586614 non-null object\n",
      "review_palate         1586614 non-null float64\n",
      "review_taste          1586614 non-null float64\n",
      "beer_name             1586614 non-null object\n",
      "beer_abv              1518829 non-null float64\n",
      "beer_beerid           1586614 non-null int64\n",
      "dtypes: float64(6), int64(3), object(4)\n",
      "memory usage: 157.4+ MB\n"
     ]
    }
   ],
   "source": [
    "beer_ratings.info()"
   ]
  },
  {
   "cell_type": "markdown",
   "metadata": {
    "slideshow": {
     "slide_type": "slide"
    }
   },
   "source": [
    "## We'll follow the same procedure as we started with last time"
   ]
  },
  {
   "cell_type": "code",
   "execution_count": 15,
   "metadata": {
    "slideshow": {
     "slide_type": "fragment"
    }
   },
   "outputs": [],
   "source": [
    "brewery_name_asStr = list(map(str, beer_ratings.brewery_name.unique()))"
   ]
  },
  {
   "cell_type": "code",
   "execution_count": 16,
   "metadata": {
    "slideshow": {
     "slide_type": "fragment"
    }
   },
   "outputs": [
    {
     "name": "stdout",
     "output_type": "stream",
     "text": [
      "True\n"
     ]
    }
   ],
   "source": [
    "print(True in [name == 'nan' for name in brewery_name_asStr])"
   ]
  },
  {
   "cell_type": "code",
   "execution_count": 17,
   "metadata": {
    "slideshow": {
     "slide_type": "fragment"
    }
   },
   "outputs": [],
   "source": [
    "beer_ratings['brewery_name'] = beer_ratings['brewery_name'].astype('str')"
   ]
  },
  {
   "cell_type": "markdown",
   "metadata": {
    "slideshow": {
     "slide_type": "slide"
    }
   },
   "source": [
    "## Check what what brewery_id's we're dealing with\n",
    "\n",
    "## We may be able to map good values to these bad values"
   ]
  },
  {
   "cell_type": "code",
   "execution_count": 18,
   "metadata": {
    "slideshow": {
     "slide_type": "fragment"
    }
   },
   "outputs": [
    {
     "data": {
      "text/plain": [
       "array([1193,   27])"
      ]
     },
     "execution_count": 18,
     "metadata": {},
     "output_type": "execute_result"
    }
   ],
   "source": [
    "beer_ratings[beer_ratings['brewery_name'] == 'nan'].brewery_id.unique()"
   ]
  },
  {
   "cell_type": "code",
   "execution_count": 19,
   "metadata": {
    "slideshow": {
     "slide_type": "fragment"
    }
   },
   "outputs": [
    {
     "name": "stdout",
     "output_type": "stream",
     "text": [
      "['nan']\n",
      "['nan']\n"
     ]
    }
   ],
   "source": [
    "print(beer_ratings[beer_ratings['brewery_id'] == 27].brewery_name.unique())\n",
    "print(beer_ratings[beer_ratings['brewery_id'] == 1193].brewery_name.unique())"
   ]
  },
  {
   "cell_type": "markdown",
   "metadata": {
    "slideshow": {
     "slide_type": "slide"
    }
   },
   "source": [
    "### Checking on BeerAdvocate using those ID's doesn't fetch any brewery.\n",
    "\n",
    "## We'll check by beer name next:"
   ]
  },
  {
   "cell_type": "code",
   "execution_count": 20,
   "metadata": {
    "slideshow": {
     "slide_type": "fragment"
    }
   },
   "outputs": [
    {
     "data": {
      "text/plain": [
       "array(['Hard Hat American Beer', 'Side Pocket', 'Breakaway IPA',\n",
       "       'Caboose Oatmeal Stout'], dtype=object)"
      ]
     },
     "execution_count": 20,
     "metadata": {},
     "output_type": "execute_result"
    }
   ],
   "source": [
    "beer_ratings[beer_ratings['brewery_id'] == 27]['beer_name'].unique()"
   ]
  },
  {
   "cell_type": "code",
   "execution_count": 21,
   "metadata": {
    "slideshow": {
     "slide_type": "fragment"
    }
   },
   "outputs": [
    {
     "data": {
      "text/plain": [
       "array(['Engel Tyrolian Bräu WRONG BREWERY SEE SCHWABISCH GMUND',\n",
       "       'Engel Bock Dunkel WRONG BREWERY SEE CRAILSHEIMER',\n",
       "       'Engel Gold WRONG BREWERY SEE CRAILSHEIMER',\n",
       "       'Engel Landbier WRONG BREWERY SEE CRAILSHEIMER',\n",
       "       'Engel Keller Hell WRONG BREWERY SEE CRAILSHEIMER',\n",
       "       'Engel Aloisius - WRONG BREWERY SEE CRAILSHEIMER',\n",
       "       'Engel Keller Dunkel  WRONG BREWERY SEE CRAILSHEIMER'], dtype=object)"
      ]
     },
     "execution_count": 21,
     "metadata": {},
     "output_type": "execute_result"
    }
   ],
   "source": [
    "beer_ratings[beer_ratings['brewery_id'] == 1193]['beer_name'].unique()"
   ]
  },
  {
   "cell_type": "markdown",
   "metadata": {
    "slideshow": {
     "slide_type": "slide"
    }
   },
   "source": [
    "First we'll deal with id 1193. It provides us a note as to what breweries these should be. \n",
    "We'll start by removing the single 'Engel Tyrolian Bräu WRONG BREWERY SEE SCHWABISCH GMUND' entry from the list."
   ]
  },
  {
   "cell_type": "code",
   "execution_count": 22,
   "metadata": {
    "slideshow": {
     "slide_type": "fragment"
    }
   },
   "outputs": [
    {
     "name": "stdout",
     "output_type": "stream",
     "text": [
      "Int64Index([651565], dtype='int64')\n"
     ]
    }
   ],
   "source": [
    "SCHWABISCH_GMUND = \\\n",
    "    beer_ratings[beer_ratings['beer_name']==\\\n",
    "                 'Engel Tyrolian Bräu WRONG BREWERY SEE SCHWABISCH GMUND'].index\n",
    "print(beer_ratings[beer_ratings['beer_name']==\\\n",
    "                   'Engel Tyrolian Bräu WRONG BREWERY SEE SCHWABISCH GMUND'].index)"
   ]
  },
  {
   "cell_type": "markdown",
   "metadata": {
    "slideshow": {
     "slide_type": "fragment"
    }
   },
   "source": [
    "Find where the entry is located in the dataframe and replace with good data"
   ]
  },
  {
   "cell_type": "code",
   "execution_count": 23,
   "metadata": {
    "slideshow": {
     "slide_type": "fragment"
    }
   },
   "outputs": [],
   "source": [
    "beer_ratings.loc[SCHWABISCH_GMUND, 'brewery_name'] = 'Schwabisch Gmund'\n",
    "# pulled from beeradvocate.com/beer/profile/4216/\n",
    "beer_ratings.loc[SCHWABISCH_GMUND, 'brewery_id'] = 23282\n",
    "beer_ratings.loc[SCHWABISCH_GMUND, 'beer_name'] = 'Engel Tyrolian Bräu'"
   ]
  },
  {
   "cell_type": "markdown",
   "metadata": {
    "slideshow": {
     "slide_type": "slide"
    }
   },
   "source": [
    "Verify if by using the old id. We should only see CRAILSHEIMER on the list now."
   ]
  },
  {
   "cell_type": "code",
   "execution_count": 24,
   "metadata": {
    "slideshow": {
     "slide_type": "fragment"
    }
   },
   "outputs": [
    {
     "data": {
      "text/plain": [
       "array(['Engel Bock Dunkel WRONG BREWERY SEE CRAILSHEIMER',\n",
       "       'Engel Gold WRONG BREWERY SEE CRAILSHEIMER',\n",
       "       'Engel Landbier WRONG BREWERY SEE CRAILSHEIMER',\n",
       "       'Engel Keller Hell WRONG BREWERY SEE CRAILSHEIMER',\n",
       "       'Engel Aloisius - WRONG BREWERY SEE CRAILSHEIMER',\n",
       "       'Engel Keller Dunkel  WRONG BREWERY SEE CRAILSHEIMER'], dtype=object)"
      ]
     },
     "execution_count": 24,
     "metadata": {},
     "output_type": "execute_result"
    }
   ],
   "source": [
    "beer_ratings[beer_ratings['brewery_id'] == 1193]['beer_name'].unique()"
   ]
  },
  {
   "cell_type": "code",
   "execution_count": 25,
   "metadata": {
    "slideshow": {
     "slide_type": "slide"
    }
   },
   "outputs": [],
   "source": [
    "CRAILSHEIMER_indices = beer_ratings[beer_ratings['brewery_id'] == 1193]['beer_name'].index\n",
    "# Find where the indices of the CRAILSHEIMER brewery occur"
   ]
  },
  {
   "cell_type": "code",
   "execution_count": 26,
   "metadata": {
    "slideshow": {
     "slide_type": "fragment"
    }
   },
   "outputs": [],
   "source": [
    "for index in CRAILSHEIMER_indices:\n",
    "    beer_ratings.loc[index, 'brewery_name'] = 'Crailsheimer'\n",
    "    # pulled from beeradvocate.com/beer/profile/4216/\n",
    "    beer_ratings.loc[index, 'brewery_id'] = 4216\n",
    "    \n",
    "# Replace bad values (brewery_name, brewery_id) with proper values"
   ]
  },
  {
   "cell_type": "markdown",
   "metadata": {
    "slideshow": {
     "slide_type": "slide"
    }
   },
   "source": [
    "Lastly we'll deal with brewery_id 27. These are beers without any obvious brewery match. Similar to the profile names we'll change this brewery_name to 'UNKNOWN' so that it has a valid value and can be easily found/isolated if necessary."
   ]
  },
  {
   "cell_type": "code",
   "execution_count": 27,
   "metadata": {
    "slideshow": {
     "slide_type": "fragment"
    }
   },
   "outputs": [],
   "source": [
    "# Find the indices of brewery_id 27\n",
    "bad_BreweryIndices = beer_ratings[beer_ratings['brewery_id'] == 27]['beer_name'].index\n",
    "\n",
    "# Using those indices change the brewery name to 'UNKNOWN'\n",
    "for index in bad_BreweryIndices :\n",
    "    beer_ratings.loc[index,'brewery_name'] = 'UNKNOWN'"
   ]
  },
  {
   "cell_type": "raw",
   "metadata": {
    "slideshow": {
     "slide_type": "notes"
    }
   },
   "source": [
    "# Return to this using fmatch module or regex to find all instances \n",
    "\n",
    "#'*WRONG BREWERY SEE CRAILSHEIMER' in [name for name in beer_ratings['beer_name']]\n",
    "\n",
    "# Practice mapping series :\n",
    "        {'Engel Bock Dunkel WRONG BREWERY SEE CRAILSHEIMER' : 'Engel Bock Dunkel',\n",
    "         'Engel Gold WRONG BREWERY SEE CRAILSHEIMER':'Engel Gold',\n",
    "         'Engel Landbier WRONG BREWERY SEE CRAILSHEIMER':'Engel Landbier',\n",
    "         'Engel Keller Hell WRONG BREWERY SEE CRAILSHEIMER':'Engel Keller Hell',\n",
    "         'Engel Aloisius - WRONG BREWERY SEE CRAILSHEIMER':'Engel Aloisius',\n",
    "         'Engel Keller Dunkel  WRONG BREWERY SEE CRAILSHEIMER':'Engel Keller Dunkel'}"
   ]
  },
  {
   "cell_type": "code",
   "execution_count": 28,
   "metadata": {
    "slideshow": {
     "slide_type": "slide"
    }
   },
   "outputs": [
    {
     "data": {
      "text/plain": [
       "array([], dtype=int64)"
      ]
     },
     "execution_count": 28,
     "metadata": {},
     "output_type": "execute_result"
    }
   ],
   "source": [
    "beer_ratings[beer_ratings['brewery_name'] == 'nan'].brewery_id.unique()"
   ]
  },
  {
   "cell_type": "code",
   "execution_count": 29,
   "metadata": {
    "slideshow": {
     "slide_type": "fragment"
    }
   },
   "outputs": [
    {
     "name": "stdout",
     "output_type": "stream",
     "text": [
      "<class 'pandas.core.frame.DataFrame'>\n",
      "RangeIndex: 1586614 entries, 0 to 1586613\n",
      "Data columns (total 13 columns):\n",
      "brewery_id            1586614 non-null int64\n",
      "brewery_name          1586614 non-null object\n",
      "review_time           1586614 non-null int64\n",
      "review_overall        1586614 non-null float64\n",
      "review_aroma          1586614 non-null float64\n",
      "review_appearance     1586614 non-null float64\n",
      "review_profilename    1586614 non-null object\n",
      "beer_style            1586614 non-null object\n",
      "review_palate         1586614 non-null float64\n",
      "review_taste          1586614 non-null float64\n",
      "beer_name             1586614 non-null object\n",
      "beer_abv              1518829 non-null float64\n",
      "beer_beerid           1586614 non-null int64\n",
      "dtypes: float64(6), int64(3), object(4)\n",
      "memory usage: 157.4+ MB\n"
     ]
    }
   ],
   "source": [
    "beer_ratings.info()"
   ]
  },
  {
   "cell_type": "markdown",
   "metadata": {
    "slideshow": {
     "slide_type": "fragment"
    }
   },
   "source": [
    "## We verify that the values look good, and move to the next section."
   ]
  },
  {
   "cell_type": "code",
   "execution_count": 30,
   "metadata": {
    "slideshow": {
     "slide_type": "skip"
    }
   },
   "outputs": [],
   "source": [
    "# beer_ratings.to_csv('/home/grimoire/Projects/BeerRatings/rating_update.csv', index=False)"
   ]
  },
  {
   "cell_type": "markdown",
   "metadata": {
    "slideshow": {
     "slide_type": "slide"
    }
   },
   "source": [
    "# The hunt for beer_abv null (bad) values"
   ]
  },
  {
   "cell_type": "code",
   "execution_count": 31,
   "metadata": {
    "slideshow": {
     "slide_type": "fragment"
    }
   },
   "outputs": [
    {
     "name": "stdout",
     "output_type": "stream",
     "text": [
      "<class 'pandas.core.frame.DataFrame'>\n",
      "RangeIndex: 1586614 entries, 0 to 1586613\n",
      "Data columns (total 13 columns):\n",
      "brewery_id            1586614 non-null int64\n",
      "brewery_name          1586614 non-null object\n",
      "review_time           1586614 non-null int64\n",
      "review_overall        1586614 non-null float64\n",
      "review_aroma          1586614 non-null float64\n",
      "review_appearance     1586614 non-null float64\n",
      "review_profilename    1586614 non-null object\n",
      "beer_style            1586614 non-null object\n",
      "review_palate         1586614 non-null float64\n",
      "review_taste          1586614 non-null float64\n",
      "beer_name             1586614 non-null object\n",
      "beer_abv              1518829 non-null float64\n",
      "beer_beerid           1586614 non-null int64\n",
      "dtypes: float64(6), int64(3), object(4)\n",
      "memory usage: 157.4+ MB\n"
     ]
    }
   ],
   "source": [
    "beer_ratings.info()"
   ]
  },
  {
   "cell_type": "markdown",
   "metadata": {
    "slideshow": {
     "slide_type": "slide"
    }
   },
   "source": [
    "## Alternative way to look for bad values"
   ]
  },
  {
   "cell_type": "code",
   "execution_count": 32,
   "metadata": {
    "scrolled": true,
    "slideshow": {
     "slide_type": "fragment"
    }
   },
   "outputs": [
    {
     "data": {
      "text/plain": [
       "array([  5.00000000e+00,   6.20000000e+00,   6.50000000e+00,\n",
       "         7.70000000e+00,   4.70000000e+00,   3.50000000e+00,\n",
       "         7.20000000e+00,   5.60000000e+00,   7.40000000e+00,\n",
       "         5.50000000e+00,   5.80000000e+00,   8.10000000e+00,\n",
       "         6.10000000e+00,              nan,   8.80000000e+00,\n",
       "         5.70000000e+00,   7.00000000e+00,   6.30000000e+00,\n",
       "         3.90000000e+00,   6.70000000e+00,   6.00000000e+00,\n",
       "         6.80000000e+00,   5.40000000e+00,   9.50000000e+00,\n",
       "         4.80000000e+00,   5.20000000e+00,   9.40000000e+00,\n",
       "         7.60000000e+00,   8.50000000e+00,   4.00000000e+00,\n",
       "         4.50000000e+00,   4.20000000e+00,   9.00000000e+00,\n",
       "         8.00000000e+00,   4.10000000e+00,   1.04000000e+01,\n",
       "         5.10000000e+00,   1.00000000e+01,   3.80000000e+00,\n",
       "         7.10000000e+00,   4.60000000e+00,   7.50000000e+00,\n",
       "         1.00000000e-01,   8.40000000e+00,   4.40000000e+00,\n",
       "         4.90000000e+00,   2.20000000e+00,   2.80000000e+00,\n",
       "         5.30000000e+00,   1.05000000e+01,   9.80000000e+00,\n",
       "         5.90000000e+00,   1.20000000e+01,   4.30000000e+00,\n",
       "         5.79000000e+00,   4.19000000e+00,   8.60000000e+00,\n",
       "         1.09000000e+01,   6.60000000e+00,   9.30000000e+00,\n",
       "         8.85000000e+00,   8.30000000e+00,   8.70000000e+00,\n",
       "         7.25000000e+00,   3.75000000e+00,   3.10000000e+00,\n",
       "         5.25000000e+00,   4.37000000e+00,   1.11000000e+01,\n",
       "         6.40000000e+00,   1.10000000e+01,   5.00000000e-01,\n",
       "         8.20000000e+00,   1.13000000e+01,   7.80000000e+00,\n",
       "         6.90000000e+00,   1.30000000e+01,   5.75000000e+00,\n",
       "         4.75000000e+00,   9.20000000e+00,   1.50000000e+00,\n",
       "         3.00000000e+00,   3.70000000e+00,   7.90000000e+00,\n",
       "         9.90000000e+00,   8.90000000e+00,   7.30000000e+00,\n",
       "         2.50000000e+00,   1.40000000e+01,   1.50000000e+01,\n",
       "         1.15000000e+01,   7.82000000e+00,   1.02500000e+01,\n",
       "         1.60000000e+01,   1.01000000e+01,   3.20000000e+00,\n",
       "         3.40000000e+00,   3.60000000e+00,   3.08600000e+01,\n",
       "         5.77000000e+01,   3.94400000e+01,   4.30000000e+01,\n",
       "         9.70000000e+00,   8.25000000e+00,   6.32000000e+00,\n",
       "         1.25000000e+01,   1.28000000e+01,   1.19000000e+01,\n",
       "         1.26000000e+01,   1.07500000e+01,   9.60000000e+00,\n",
       "         7.75000000e+00,   1.06000000e+01,   1.02000000e+01,\n",
       "         1.12000000e+01,   9.10000000e+00,   1.03000000e+01,\n",
       "         6.25000000e+00,   1.08000000e+01,   1.29000000e+01,\n",
       "         5.47000000e+00,   5.59000000e+00,   5.11000000e+00,\n",
       "         7.26000000e+00,   2.40000000e+00,   1.45000000e+01,\n",
       "         4.55000000e+00,   1.55000000e+01,   4.25000000e+00,\n",
       "         1.43000000e+01,   3.30000000e+00,   2.00000000e+00,\n",
       "         1.17000000e+01,   1.16000000e+01,   1.21000000e+01,\n",
       "         1.27000000e+01,   1.20000000e+00,   1.47000000e+01,\n",
       "         1.82000000e+01,   1.95000000e+01,   1.83000000e+01,\n",
       "         1.70000000e+01,   1.85000000e+01,   6.66000000e+00,\n",
       "         1.41000000e+01,   5.14000000e+00,   2.75000000e+00,\n",
       "         4.53000000e+00,   8.41000000e+00,   7.85000000e+00,\n",
       "         1.22500000e+01,   1.23000000e+01,   6.75000000e+00,\n",
       "         7.77000000e+00,   1.00300000e+01,   1.02800000e+01,\n",
       "         7.17000000e+00,   2.70000000e+00,   1.40000000e+00,\n",
       "         2.90000000e+00,   3.44000000e+00,   5.00000000e-02,\n",
       "         4.62000000e+00,   4.95000000e+00,   3.95000000e+00,\n",
       "         1.12500000e+01,   5.61000000e+00,   1.84000000e+01,\n",
       "         6.45000000e+00,   1.07000000e+01,   4.77000000e+00,\n",
       "         7.37000000e+00,   8.75000000e+00,   9.96000000e+00,\n",
       "         1.14000000e+01,   1.00000000e+00,   9.00000000e-01,\n",
       "         5.72000000e+00,   6.95000000e+00,   3.25000000e+00,\n",
       "         2.60000000e+00,   4.14000000e+00,   5.95000000e+00,\n",
       "         7.15000000e+00,   5.87000000e+00,   5.41000000e+00,\n",
       "         5.53000000e+00,   5.62000000e+00,   1.18000000e+01,\n",
       "         6.85000000e+00,   5.35000000e+00,   7.39000000e+00,\n",
       "         9.75000000e+00,   9.25000000e+00,   5.65000000e+00,\n",
       "         5.68000000e+00,   5.29000000e+00,   1.35000000e+01,\n",
       "         6.08000000e+00,   5.57000000e+00,   7.52000000e+00,\n",
       "         1.22000000e+01,   1.80000000e+01,   4.45000000e+00,\n",
       "         4.65000000e+00,   1.92000000e+01,   1.63000000e+01,\n",
       "         1.32000000e+01,   1.75000000e+01,   1.00000000e-02,\n",
       "         5.45000000e+00,   2.10000000e+01,   2.50000000e+01,\n",
       "         4.35000000e+00,   2.70000000e+01,   2.40000000e+01,\n",
       "         5.01000000e+00,   4.74000000e+00,   4.63000000e+00,\n",
       "         3.79000000e+00,   4.94000000e+00,   4.78000000e+00,\n",
       "         4.28000000e+00,   9.78000000e+00,   4.72000000e+00,\n",
       "         7.23000000e+00,   5.93000000e+00,   1.80000000e+00,\n",
       "         3.88000000e+00,   4.73000000e+00,   1.24000000e+01,\n",
       "         2.10000000e+00,   5.86000000e+00,   4.00000000e-01,\n",
       "         2.16000000e+00,   4.85000000e+00,   5.63000000e+00,\n",
       "         5.38000000e+00,   5.24000000e+00,   5.15000000e+00,\n",
       "         4.66000000e+00,   3.65000000e+00,   1.51000000e+01,\n",
       "         5.97000000e+00,   3.67000000e+00,   4.13000000e+00,\n",
       "         1.16500000e+01,   1.09800000e+01,   6.55000000e+00,\n",
       "         9.99000000e+00,   5.36000000e+00,   1.11500000e+01,\n",
       "         1.39000000e+01,   3.00000000e-01,   5.78000000e+00,\n",
       "         1.61000000e+01,   5.27000000e+00,   4.15000000e+00,\n",
       "         5.43000000e+00,   5.69000000e+00,   5.54000000e+00,\n",
       "         6.82000000e+00,   4.46000000e+00,   6.15000000e+00,\n",
       "         6.71000000e+00,   1.65000000e+01,   1.33000000e+01,\n",
       "         7.13000000e+00,   5.56000000e+00,   1.00100000e+01,\n",
       "         1.01700000e+01,   1.37000000e+01,   5.12000000e+00,\n",
       "         4.81000000e+00,   1.36000000e+01,   4.86000000e+00,\n",
       "         1.49000000e+01,   5.19000000e+00,   6.33000000e+00,\n",
       "         6.31000000e+00,   7.71000000e+00,   4.16000000e+00,\n",
       "         7.45000000e+00,   7.33000000e+00,   5.88000000e+00,\n",
       "         6.24000000e+00,   5.94000000e+00,   5.82000000e+00,\n",
       "         6.07000000e+00,   5.28000000e+00,   6.87000000e+00,\n",
       "         2.50000000e-01,   2.20000000e+01,   5.13000000e+00,\n",
       "         4.88000000e+00,   6.13000000e+00,   5.98000000e+00,\n",
       "         3.71000000e+00,   5.33000000e+00,   5.18000000e+00,\n",
       "         6.27000000e+00,   9.04000000e+00,   5.74000000e+00,\n",
       "         1.34000000e+01,   1.15900000e+01,   6.23000000e+00,\n",
       "         6.67000000e+00,   1.17500000e+01,   5.05000000e+00,\n",
       "         1.68000000e+01,   9.23000000e+00,   7.68000000e+00,\n",
       "         5.31000000e+00,   1.68300000e+01,   4.38000000e+00,\n",
       "         8.69000000e+00,   8.72000000e+00,   8.59000000e+00,\n",
       "         5.46000000e+00,   8.65000000e+00,   6.88000000e+00,\n",
       "         7.69000000e+00,   1.00800000e+01,   1.10300000e+01,\n",
       "         1.64500000e+01,   1.60300000e+01,   9.46000000e+00,\n",
       "         1.81000000e+01,   1.54300000e+01,   9.54000000e+00,\n",
       "         8.12000000e+00,   9.91000000e+00,   1.59000000e+01,\n",
       "         9.73000000e+00,   9.62000000e+00,   5.81000000e+00,\n",
       "         6.38000000e+00,   5.17000000e+00,   4.26000000e+00,\n",
       "         5.16000000e+00,   1.93700000e+01,   2.30000000e+00,\n",
       "         5.42000000e+00,   1.01300000e+01,   5.52000000e+00,\n",
       "         4.96000000e+00,   5.51000000e+00,   6.29000000e+00,\n",
       "         3.54000000e+00,   1.14100000e+01,   9.85000000e+00,\n",
       "         7.79000000e+00,   7.57000000e+00,   5.55000000e+00,\n",
       "         1.01400000e+01,   6.35000000e+00,   4.10000000e+01,\n",
       "         2.80000000e+01,   3.20000000e+01,   1.02700000e+01,\n",
       "         1.72000000e+01,   5.73000000e+00,   8.24000000e+00,\n",
       "         5.67000000e+00,   9.71000000e+00,   8.27000000e+00,\n",
       "         8.19000000e+00,   1.10400000e+01,   5.34000000e+00,\n",
       "         7.08000000e+00,   8.97000000e+00,   6.14000000e+00,\n",
       "         4.32000000e+00,   3.99000000e+00,   2.92000000e+00,\n",
       "         4.08000000e+00,   7.58000000e+00,   6.98000000e+00,\n",
       "         6.77000000e+00,   4.34000000e+00,   4.33000000e+00,\n",
       "         1.38000000e+01,   6.19000000e+00,   4.64000000e+00,\n",
       "         4.39000000e+00,   1.31000000e+01,   5.91000000e+00,\n",
       "         1.21200000e+01,   1.50200000e+01,   1.19900000e+01,\n",
       "         9.39000000e+00,   3.93000000e+00,   9.44000000e+00,\n",
       "         1.00600000e+01,   7.48000000e+00,   1.12600000e+01,\n",
       "         1.05800000e+01,   8.66000000e+00,   4.87000000e+00,\n",
       "         4.97000000e+00,   5.64000000e+00,   6.56000000e+00,\n",
       "         7.09000000e+00,   5.99000000e+00,   4.29000000e+00,\n",
       "         2.60000000e+01,   3.90000000e+01,   9.05000000e+00,\n",
       "         2.25000000e+00,   4.01000000e+00,   4.98000000e+00,\n",
       "         4.89000000e+00,   1.03100000e+01,   4.50000000e-01,\n",
       "         1.73500000e+01,   4.59000000e+00,   7.00000000e-01,\n",
       "         4.79000000e+00,   9.18000000e+00,   1.74000000e+01,\n",
       "         1.64000000e+01,   1.52000000e+01,   1.62000000e+01,\n",
       "         2.90000000e+01,   8.03000000e+00,   8.55000000e+00,\n",
       "         8.08000000e+00,   4.58000000e+00,   7.43000000e+00,\n",
       "         7.51000000e+00,   6.18000000e+00,   5.09000000e+00,\n",
       "         4.56000000e+00,   4.41000000e+00,   9.35000000e+00,\n",
       "         4.99000000e+00,   6.78000000e+00,   9.61000000e+00,\n",
       "         4.91000000e+00,   6.04000000e+00,   4.67000000e+00,\n",
       "         4.83000000e+00,   5.04000000e+00,   7.88000000e+00,\n",
       "         6.09000000e+00,   7.67000000e+00,   4.31000000e+00,\n",
       "         3.13000000e+00,   1.07600000e+01,   5.85000000e+00,\n",
       "         4.48000000e+00,   3.61000000e+00,   9.74000000e+00,\n",
       "         6.65000000e+00,   4.17000000e+00,   1.04300000e+01,\n",
       "         5.06000000e+00,   5.89000000e+00,   6.83000000e+00,\n",
       "         7.92000000e+00,   7.24000000e+00,   8.06000000e+00,\n",
       "         8.33000000e+00,   1.16700000e+01,   8.88000000e+00,\n",
       "         4.51000000e+00,   1.50400000e+01,   9.15000000e+00,\n",
       "         2.00000000e+01,   5.32000000e+00,   4.44000000e+00,\n",
       "         5.39000000e+00,   6.72000000e+00,   6.21000000e+00,\n",
       "         5.83000000e+00,   6.59000000e+00,   5.48000000e+00,\n",
       "         6.86000000e+00,   6.42000000e+00,   8.00000000e-01,\n",
       "         8.34000000e+00,   1.69000000e+01,   1.31600000e+01,\n",
       "         5.21000000e+00,   5.07000000e+00,   8.47000000e+00,\n",
       "         8.17000000e+00,   1.10100000e+01,   7.61000000e+00,\n",
       "         7.07000000e+00,   4.76000000e+00,   8.02000000e+00,\n",
       "         8.00000000e-02,   7.62000000e+00,   7.74000000e+00,\n",
       "         7.83000000e+00,   6.11000000e+00,   3.53000000e+00,\n",
       "         8.74000000e+00,   9.28000000e+00,   5.77000000e+00,\n",
       "         1.70000000e+00,   4.06000000e+00,   4.68000000e+00,\n",
       "         7.21000000e+00,   2.19200000e+01,   1.46000000e+01,\n",
       "         1.56000000e+01,   1.53000000e+01,   7.87000000e+00,\n",
       "         5.58000000e+00,   5.23000000e+00,   8.35000000e+00,\n",
       "         1.90000000e+00,   1.32500000e+01,   5.44000000e+00,\n",
       "         5.02000000e+00,   4.47000000e+00,   7.99000000e+00,\n",
       "         7.35000000e+00,   6.61000000e+00,   6.58000000e+00,\n",
       "         8.21000000e+00,   1.25000000e+00,   8.67000000e+00,\n",
       "         3.22000000e+00,   8.26000000e+00,   1.30000000e+00,\n",
       "         4.69000000e+00,   1.03700000e+01,   1.02400000e+01])"
      ]
     },
     "execution_count": 32,
     "metadata": {},
     "output_type": "execute_result"
    }
   ],
   "source": [
    "beer_ratings.beer_abv.unique()"
   ]
  },
  {
   "cell_type": "markdown",
   "metadata": {
    "slideshow": {
     "slide_type": "slide"
    }
   },
   "source": [
    "## Changing the values, same as above in dataframe astype manipulation, to do some comparisons"
   ]
  },
  {
   "cell_type": "code",
   "execution_count": 33,
   "metadata": {},
   "outputs": [
    {
     "data": {
      "text/html": [
       "<div>\n",
       "<style scoped>\n",
       "    .dataframe tbody tr th:only-of-type {\n",
       "        vertical-align: middle;\n",
       "    }\n",
       "\n",
       "    .dataframe tbody tr th {\n",
       "        vertical-align: top;\n",
       "    }\n",
       "\n",
       "    .dataframe thead th {\n",
       "        text-align: right;\n",
       "    }\n",
       "</style>\n",
       "<table border=\"1\" class=\"dataframe\">\n",
       "  <thead>\n",
       "    <tr style=\"text-align: right;\">\n",
       "      <th></th>\n",
       "      <th>brewery_id</th>\n",
       "      <th>brewery_name</th>\n",
       "      <th>review_time</th>\n",
       "      <th>review_overall</th>\n",
       "      <th>review_aroma</th>\n",
       "      <th>review_appearance</th>\n",
       "      <th>review_profilename</th>\n",
       "      <th>beer_style</th>\n",
       "      <th>review_palate</th>\n",
       "      <th>review_taste</th>\n",
       "      <th>beer_name</th>\n",
       "      <th>beer_abv</th>\n",
       "      <th>beer_beerid</th>\n",
       "    </tr>\n",
       "  </thead>\n",
       "  <tbody>\n",
       "  </tbody>\n",
       "</table>\n",
       "</div>"
      ],
      "text/plain": [
       "Empty DataFrame\n",
       "Columns: [brewery_id, brewery_name, review_time, review_overall, review_aroma, review_appearance, review_profilename, beer_style, review_palate, review_taste, beer_name, beer_abv, beer_beerid]\n",
       "Index: []"
      ]
     },
     "execution_count": 33,
     "metadata": {},
     "output_type": "execute_result"
    }
   ],
   "source": [
    "beer_ratings[beer_ratings['beer_abv'] == np.nan]"
   ]
  },
  {
   "cell_type": "code",
   "execution_count": 34,
   "metadata": {
    "slideshow": {
     "slide_type": "fragment"
    }
   },
   "outputs": [],
   "source": [
    "beer_ratings['beer_abv'] = beer_ratings.beer_abv.values.astype('str')"
   ]
  },
  {
   "cell_type": "markdown",
   "metadata": {
    "slideshow": {
     "slide_type": "slide"
    }
   },
   "source": [
    "## Building sets of:\n",
    "* beer_names that have 'nan' values\n",
    "* beer_names that don't have 'nan values\n",
    "\n",
    "Comparing between the two sets will allow us to find beers that we can map their ABV to the 'nan' values"
   ]
  },
  {
   "cell_type": "code",
   "execution_count": 35,
   "metadata": {
    "slideshow": {
     "slide_type": "fragment"
    }
   },
   "outputs": [],
   "source": [
    "bad_ABV_names = set(beer_ratings[beer_ratings['beer_abv'] == 'nan']['beer_name'].unique())"
   ]
  },
  {
   "cell_type": "code",
   "execution_count": 36,
   "metadata": {
    "slideshow": {
     "slide_type": "fragment"
    }
   },
   "outputs": [],
   "source": [
    "good_ABV_names = set(beer_ratings[beer_ratings['beer_abv'] != 'nan']['beer_name'].unique())"
   ]
  },
  {
   "cell_type": "code",
   "execution_count": 37,
   "metadata": {},
   "outputs": [
    {
     "data": {
      "text/plain": [
       "1338"
      ]
     },
     "execution_count": 37,
     "metadata": {},
     "output_type": "execute_result"
    }
   ],
   "source": [
    "len(good_ABV_names & bad_ABV_names)"
   ]
  },
  {
   "cell_type": "code",
   "execution_count": 38,
   "metadata": {},
   "outputs": [],
   "source": [
    "beer_name_wABV_list = list(good_ABV_names & bad_ABV_names)"
   ]
  },
  {
   "cell_type": "code",
   "execution_count": 39,
   "metadata": {},
   "outputs": [
    {
     "data": {
      "text/plain": [
       "Index(['brewery_id', 'brewery_name', 'review_time', 'review_overall',\n",
       "       'review_aroma', 'review_appearance', 'review_profilename', 'beer_style',\n",
       "       'review_palate', 'review_taste', 'beer_name', 'beer_abv',\n",
       "       'beer_beerid'],\n",
       "      dtype='object')"
      ]
     },
     "execution_count": 39,
     "metadata": {},
     "output_type": "execute_result"
    }
   ],
   "source": [
    "beer_ratings.keys()"
   ]
  },
  {
   "cell_type": "code",
   "execution_count": null,
   "metadata": {},
   "outputs": [],
   "source": []
  },
  {
   "cell_type": "code",
   "execution_count": 50,
   "metadata": {},
   "outputs": [],
   "source": [
    "beer_ABV_map = {}\n",
    "ratings_wABV = beer_ratings[beer_ratings['beer_abv'] != 'nan']\n",
    "#for name in beer_name_wABV_list :\n",
    "    #beer_ABV_map[name] = \n",
    "#    print(ratings_wABV[ratings_wABV['beer_name'] == name].beer_abv.values.mean())"
   ]
  },
  {
   "cell_type": "code",
   "execution_count": 56,
   "metadata": {},
   "outputs": [
    {
     "data": {
      "text/plain": [
       "Index(['brewery_id', 'brewery_name', 'review_time', 'review_overall',\n",
       "       'review_aroma', 'review_appearance', 'review_profilename', 'beer_style',\n",
       "       'review_palate', 'review_taste', 'beer_name', 'beer_abv',\n",
       "       'beer_beerid'],\n",
       "      dtype='object')"
      ]
     },
     "execution_count": 56,
     "metadata": {},
     "output_type": "execute_result"
    }
   ],
   "source": [
    "ratings_wo_ABV.keys()"
   ]
  },
  {
   "cell_type": "code",
   "execution_count": 79,
   "metadata": {},
   "outputs": [
    {
     "name": "stdout",
     "output_type": "stream",
     "text": [
      "244239         BJ's Restaurant And Brewhouse\n",
      "252193           BJ's Restaurant & Brewhouse\n",
      "255213           BJ's Restaurant & Brewhouse\n",
      "255956           BJ's Restaurant & Brewhouse\n",
      "256547           BJ's Restaurant & Brewhouse\n",
      "256548           BJ's Restaurant & Brewhouse\n",
      "256549           BJ's Restaurant & Brewhouse\n",
      "256550           BJ's Restaurant & Brewhouse\n",
      "256551           BJ's Restaurant & Brewhouse\n",
      "256552           BJ's Restaurant & Brewhouse\n",
      "256553           BJ's Restaurant & Brewhouse\n",
      "256554           BJ's Restaurant & Brewhouse\n",
      "256555           BJ's Restaurant & Brewhouse\n",
      "256556           BJ's Restaurant & Brewhouse\n",
      "256557           BJ's Restaurant & Brewhouse\n",
      "256558           BJ's Restaurant & Brewhouse\n",
      "256559           BJ's Restaurant & Brewhouse\n",
      "256560           BJ's Restaurant & Brewhouse\n",
      "256561           BJ's Restaurant & Brewhouse\n",
      "256562           BJ's Restaurant & Brewhouse\n",
      "256563           BJ's Restaurant & Brewhouse\n",
      "256564           BJ's Restaurant & Brewhouse\n",
      "256565           BJ's Restaurant & Brewhouse\n",
      "256566           BJ's Restaurant & Brewhouse\n",
      "256567           BJ's Restaurant & Brewhouse\n",
      "256568           BJ's Restaurant & Brewhouse\n",
      "256569           BJ's Restaurant & Brewhouse\n",
      "256570           BJ's Restaurant & Brewhouse\n",
      "256571           BJ's Restaurant & Brewhouse\n",
      "256572           BJ's Restaurant & Brewhouse\n",
      "                         ...                \n",
      "1429452    BJ's Chicago Pizza & Brewery Inc.\n",
      "1429453    BJ's Chicago Pizza & Brewery Inc.\n",
      "1429454    BJ's Chicago Pizza & Brewery Inc.\n",
      "1429455    BJ's Chicago Pizza & Brewery Inc.\n",
      "1429456    BJ's Chicago Pizza & Brewery Inc.\n",
      "1429457    BJ's Chicago Pizza & Brewery Inc.\n",
      "1429458    BJ's Chicago Pizza & Brewery Inc.\n",
      "1429459    BJ's Chicago Pizza & Brewery Inc.\n",
      "1429460    BJ's Chicago Pizza & Brewery Inc.\n",
      "1429461    BJ's Chicago Pizza & Brewery Inc.\n",
      "1429462    BJ's Chicago Pizza & Brewery Inc.\n",
      "1429463    BJ's Chicago Pizza & Brewery Inc.\n",
      "1429464    BJ's Chicago Pizza & Brewery Inc.\n",
      "1429465    BJ's Chicago Pizza & Brewery Inc.\n",
      "1429466    BJ's Chicago Pizza & Brewery Inc.\n",
      "1429467    BJ's Chicago Pizza & Brewery Inc.\n",
      "1429468    BJ's Chicago Pizza & Brewery Inc.\n",
      "1429469    BJ's Chicago Pizza & Brewery Inc.\n",
      "1429470    BJ's Chicago Pizza & Brewery Inc.\n",
      "1429471    BJ's Chicago Pizza & Brewery Inc.\n",
      "1429472    BJ's Chicago Pizza & Brewery Inc.\n",
      "1429473    BJ's Chicago Pizza & Brewery Inc.\n",
      "1429474    BJ's Chicago Pizza & Brewery Inc.\n",
      "1429475    BJ's Chicago Pizza & Brewery Inc.\n",
      "1429476    BJ's Chicago Pizza & Brewery Inc.\n",
      "1429477    BJ's Chicago Pizza & Brewery Inc.\n",
      "1429478    BJ's Chicago Pizza & Brewery Inc.\n",
      "1429479    BJ's Chicago Pizza & Brewery Inc.\n",
      "1429480    BJ's Chicago Pizza & Brewery Inc.\n",
      "1508356                      BJ's Restaurant\n",
      "Name: brewery_name, Length: 113, dtype: object\n",
      "171706    BJ's Pizza, Grill & Brewery\n",
      "171707    BJ's Pizza, Grill & Brewery\n",
      "Name: brewery_name, dtype: object\n"
     ]
    }
   ],
   "source": [
    "name = beer_name_wABV_list[np.random.randint(0,len(beer_name_wABV_list)-1)]\n",
    "\n",
    "ratings_wABV = beer_ratings[beer_ratings['beer_abv'] != 'nan']\n",
    "ratings_wo_ABV = beer_ratings[beer_ratings['beer_abv'] == 'nan']\n",
    "\n",
    "print(ratings_wABV.loc[ratings_wABV['beer_name'] == name]['brewery_name'])\n",
    "print(ratings_wo_ABV.loc[ratings_wo_ABV['beer_name'] == name]['brewery_name'])"
   ]
  },
  {
   "cell_type": "code",
   "execution_count": 80,
   "metadata": {},
   "outputs": [
    {
     "data": {
      "text/plain": [
       "'Tatonka Stout'"
      ]
     },
     "execution_count": 80,
     "metadata": {},
     "output_type": "execute_result"
    }
   ],
   "source": [
    "# name = 'Tatonka Stout'"
   ]
  },
  {
   "cell_type": "code",
   "execution_count": 42,
   "metadata": {},
   "outputs": [
    {
     "data": {
      "text/plain": [
       "{}"
      ]
     },
     "execution_count": 42,
     "metadata": {},
     "output_type": "execute_result"
    }
   ],
   "source": [
    "beer_ABV_map"
   ]
  },
  {
   "cell_type": "code",
   "execution_count": 43,
   "metadata": {},
   "outputs": [
    {
     "data": {
      "text/plain": [
       "67785"
      ]
     },
     "execution_count": 43,
     "metadata": {},
     "output_type": "execute_result"
    }
   ],
   "source": [
    "len(beer_ratings[beer_ratings.beer_abv =='nan'].beer_name)"
   ]
  },
  {
   "cell_type": "code",
   "execution_count": 44,
   "metadata": {},
   "outputs": [
    {
     "data": {
      "text/plain": [
       "14110"
      ]
     },
     "execution_count": 44,
     "metadata": {},
     "output_type": "execute_result"
    }
   ],
   "source": [
    "len(bad_ABV_names)"
   ]
  },
  {
   "cell_type": "code",
   "execution_count": 45,
   "metadata": {},
   "outputs": [
    {
     "data": {
      "text/plain": [
       "42747"
      ]
     },
     "execution_count": 45,
     "metadata": {},
     "output_type": "execute_result"
    }
   ],
   "source": [
    "len(good_ABV_names - bad_ABV_names)"
   ]
  },
  {
   "cell_type": "markdown",
   "metadata": {},
   "source": [
    "There are a total of 67,785 observations in the beer_abv column that have 'nan' values.\n",
    "Of these 67,785 observations there are 14,110 individual specific beers with 'nan' values in beer_abv"
   ]
  }
 ],
 "metadata": {
  "celltoolbar": "Slideshow",
  "kernelspec": {
   "display_name": "Python 3",
   "language": "python",
   "name": "python3"
  },
  "language_info": {
   "codemirror_mode": {
    "name": "ipython",
    "version": 3
   },
   "file_extension": ".py",
   "mimetype": "text/x-python",
   "name": "python",
   "nbconvert_exporter": "python",
   "pygments_lexer": "ipython3",
   "version": "3.6.2"
  }
 },
 "nbformat": 4,
 "nbformat_minor": 2
}
