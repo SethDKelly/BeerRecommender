{
 "cells": [
  {
   "cell_type": "code",
   "execution_count": 1,
   "metadata": {},
   "outputs": [],
   "source": [
    "# Notebook library imports\n",
    "\n",
    "import pandas as pd\n",
    "import numpy as np"
   ]
  },
  {
   "cell_type": "code",
   "execution_count": 2,
   "metadata": {},
   "outputs": [],
   "source": [
    "# %load get_data.py\n",
    "def get_data() :\n",
    "    \n",
    "    import pandas as pd\n",
    "    \n",
    "    # rating_update is the original data 'beer_review.csv' with beer_style updated\n",
    "    # bad brewery and profile names updated\n",
    "    # beer_style updated\n",
    "    # The updates change beer_style to match the styles that are given in 'beer_description.csv'\n",
    "\n",
    "    csv_beer = pd.read_csv(\"/home/grimoire/Projects/BeerRatings/rating_update.csv\")\n",
    "    beer_ratings = pd.DataFrame(csv_beer)\n",
    "    \n",
    "    return beer_ratings\n"
   ]
  },
  {
   "cell_type": "code",
   "execution_count": 3,
   "metadata": {},
   "outputs": [],
   "source": [
    "beer_ratings = get_data()"
   ]
  },
  {
   "cell_type": "code",
   "execution_count": 4,
   "metadata": {},
   "outputs": [
    {
     "data": {
      "text/html": [
       "<div>\n",
       "<style scoped>\n",
       "    .dataframe tbody tr th:only-of-type {\n",
       "        vertical-align: middle;\n",
       "    }\n",
       "\n",
       "    .dataframe tbody tr th {\n",
       "        vertical-align: top;\n",
       "    }\n",
       "\n",
       "    .dataframe thead th {\n",
       "        text-align: right;\n",
       "    }\n",
       "</style>\n",
       "<table border=\"1\" class=\"dataframe\">\n",
       "  <thead>\n",
       "    <tr style=\"text-align: right;\">\n",
       "      <th></th>\n",
       "      <th>review_overall</th>\n",
       "      <th>review_aroma</th>\n",
       "      <th>review_appearance</th>\n",
       "      <th>review_palate</th>\n",
       "      <th>review_taste</th>\n",
       "      <th>beer_abv</th>\n",
       "    </tr>\n",
       "  </thead>\n",
       "  <tbody>\n",
       "    <tr>\n",
       "      <th>count</th>\n",
       "      <td>1.586614e+06</td>\n",
       "      <td>1.586614e+06</td>\n",
       "      <td>1.586614e+06</td>\n",
       "      <td>1.586614e+06</td>\n",
       "      <td>1.586614e+06</td>\n",
       "      <td>1.586614e+06</td>\n",
       "    </tr>\n",
       "    <tr>\n",
       "      <th>mean</th>\n",
       "      <td>3.815581e+00</td>\n",
       "      <td>3.735636e+00</td>\n",
       "      <td>3.841642e+00</td>\n",
       "      <td>3.743701e+00</td>\n",
       "      <td>3.792860e+00</td>\n",
       "      <td>7.000555e+00</td>\n",
       "    </tr>\n",
       "    <tr>\n",
       "      <th>std</th>\n",
       "      <td>7.206219e-01</td>\n",
       "      <td>6.976167e-01</td>\n",
       "      <td>6.160928e-01</td>\n",
       "      <td>6.822184e-01</td>\n",
       "      <td>7.319696e-01</td>\n",
       "      <td>2.304921e+00</td>\n",
       "    </tr>\n",
       "    <tr>\n",
       "      <th>min</th>\n",
       "      <td>0.000000e+00</td>\n",
       "      <td>1.000000e+00</td>\n",
       "      <td>0.000000e+00</td>\n",
       "      <td>1.000000e+00</td>\n",
       "      <td>1.000000e+00</td>\n",
       "      <td>1.000000e-02</td>\n",
       "    </tr>\n",
       "    <tr>\n",
       "      <th>25%</th>\n",
       "      <td>3.500000e+00</td>\n",
       "      <td>3.500000e+00</td>\n",
       "      <td>3.500000e+00</td>\n",
       "      <td>3.500000e+00</td>\n",
       "      <td>3.500000e+00</td>\n",
       "      <td>5.200000e+00</td>\n",
       "    </tr>\n",
       "    <tr>\n",
       "      <th>50%</th>\n",
       "      <td>4.000000e+00</td>\n",
       "      <td>4.000000e+00</td>\n",
       "      <td>4.000000e+00</td>\n",
       "      <td>4.000000e+00</td>\n",
       "      <td>4.000000e+00</td>\n",
       "      <td>6.500000e+00</td>\n",
       "    </tr>\n",
       "    <tr>\n",
       "      <th>75%</th>\n",
       "      <td>4.500000e+00</td>\n",
       "      <td>4.000000e+00</td>\n",
       "      <td>4.000000e+00</td>\n",
       "      <td>4.000000e+00</td>\n",
       "      <td>4.500000e+00</td>\n",
       "      <td>8.500000e+00</td>\n",
       "    </tr>\n",
       "    <tr>\n",
       "      <th>max</th>\n",
       "      <td>5.000000e+00</td>\n",
       "      <td>5.000000e+00</td>\n",
       "      <td>5.000000e+00</td>\n",
       "      <td>5.000000e+00</td>\n",
       "      <td>5.000000e+00</td>\n",
       "      <td>5.770000e+01</td>\n",
       "    </tr>\n",
       "  </tbody>\n",
       "</table>\n",
       "</div>"
      ],
      "text/plain": [
       "       review_overall  review_aroma  review_appearance  review_palate  \\\n",
       "count    1.586614e+06  1.586614e+06       1.586614e+06   1.586614e+06   \n",
       "mean     3.815581e+00  3.735636e+00       3.841642e+00   3.743701e+00   \n",
       "std      7.206219e-01  6.976167e-01       6.160928e-01   6.822184e-01   \n",
       "min      0.000000e+00  1.000000e+00       0.000000e+00   1.000000e+00   \n",
       "25%      3.500000e+00  3.500000e+00       3.500000e+00   3.500000e+00   \n",
       "50%      4.000000e+00  4.000000e+00       4.000000e+00   4.000000e+00   \n",
       "75%      4.500000e+00  4.000000e+00       4.000000e+00   4.000000e+00   \n",
       "max      5.000000e+00  5.000000e+00       5.000000e+00   5.000000e+00   \n",
       "\n",
       "       review_taste      beer_abv  \n",
       "count  1.586614e+06  1.586614e+06  \n",
       "mean   3.792860e+00  7.000555e+00  \n",
       "std    7.319696e-01  2.304921e+00  \n",
       "min    1.000000e+00  1.000000e-02  \n",
       "25%    3.500000e+00  5.200000e+00  \n",
       "50%    4.000000e+00  6.500000e+00  \n",
       "75%    4.500000e+00  8.500000e+00  \n",
       "max    5.000000e+00  5.770000e+01  "
      ]
     },
     "execution_count": 4,
     "metadata": {},
     "output_type": "execute_result"
    }
   ],
   "source": [
    "beer_ratings.loc[:,['review_overall','review_aroma','review_appearance',\n",
    "                    'review_palate','review_taste','beer_abv']].describe()"
   ]
  },
  {
   "cell_type": "code",
   "execution_count": 5,
   "metadata": {},
   "outputs": [
    {
     "data": {
      "image/png": "[encoded data removed]",
      "text/plain": [
       "<matplotlib.figure.Figure at 0x7fdd60ae63c8>"
      ]
     },
     "metadata": {},
     "output_type": "display_data"
    }
   ],
   "source": [
    "%matplotlib inline\n",
    "import matplotlib.pyplot as plt\n",
    "\n",
    "plt.figure(figsize=[14,8])\n",
    "\n",
    "plt.hist(beer_ratings.review_aroma.values, alpha=.7, color='yellow', label='Aroma')\n",
    "plt.hist(beer_ratings.review_appearance.values, alpha=.7, color='blue', label='Appearance')\n",
    "plt.hist(beer_ratings.review_palate.values, alpha=.7, color='grey', label='Palate')\n",
    "plt.hist(beer_ratings.review_taste.values, alpha=.7, color='brown', label='Taste')\n",
    "plt.hist(beer_ratings.review_overall.values, alpha=.7, color='red', label='Overall')\n",
    "\n",
    "plt.title('Histogram of all 5 elements')\n",
    "plt.legend(loc=2)\n",
    "\n",
    "plt.show()"
   ]
  },
  {
   "cell_type": "code",
   "execution_count": 6,
   "metadata": {},
   "outputs": [
    {
     "data": {
      "image/png": "[encoded data removed]",
      "text/plain": [
       "<matplotlib.figure.Figure at 0x7fdd60ac8ef0>"
      ]
     },
     "metadata": {},
     "output_type": "display_data"
    }
   ],
   "source": [
    "plt.figure(figsize=[14,6])\n",
    "plt.hist(beer_ratings.review_aroma.values, normed=True, cumulative=True, \n",
    "         label='Aroma', histtype='step', alpha=0.7, color='k')\n",
    "plt.hist(beer_ratings.review_overall.values, normed=True, cumulative=True, \n",
    "         label='Overall', histtype='step', alpha=0.7, color='red')\n",
    "plt.legend()\n",
    "plt.ylabel('Cumulative probability, Fraction of data')\n",
    "plt.xlabel('Numeric Rating of Aroma and Overall score')\n",
    "plt.title('CDF of Review Aroma and Overall')\n",
    "plt.show()"
   ]
  },
  {
   "cell_type": "code",
   "execution_count": 7,
   "metadata": {},
   "outputs": [
    {
     "data": {
      "image/png": "[encoded data removed]",
      "text/plain": [
       "<matplotlib.figure.Figure at 0x7fdd5db282b0>"
      ]
     },
     "metadata": {},
     "output_type": "display_data"
    }
   ],
   "source": [
    "plt.figure(figsize=[14,6])\n",
    "plt.hist(beer_ratings.review_appearance.values, normed=True, cumulative=True, \n",
    "         label='Appearance', histtype='step', alpha=0.7, color='k')\n",
    "plt.hist(beer_ratings.review_overall.values, normed=True, cumulative=True, \n",
    "         label='Overall', histtype='step', alpha=0.7, color='red')\n",
    "plt.legend()\n",
    "plt.ylabel('Cumulative probability, Fraction of data')\n",
    "plt.xlabel('Numeric Rating of Appearance and Overall score')\n",
    "plt.title('CDF of Review Appearance and Overall')\n",
    "plt.show()"
   ]
  },
  {
   "cell_type": "code",
   "execution_count": 8,
   "metadata": {},
   "outputs": [
    {
     "data": {
      "image/png": "[encoded data removed]",
      "text/plain": [
       "<matplotlib.figure.Figure at 0x7fdd5db94ba8>"
      ]
     },
     "metadata": {},
     "output_type": "display_data"
    }
   ],
   "source": [
    "plt.figure(figsize=[14,6])\n",
    "plt.hist(beer_ratings.review_taste.values, normed=True, cumulative=True, \n",
    "         label='Taste', histtype='step', alpha=0.7, color='k')\n",
    "plt.hist(beer_ratings.review_overall.values, normed=True, cumulative=True, \n",
    "         label='Overall', histtype='step', alpha=0.7, color='red')\n",
    "plt.legend()\n",
    "plt.ylabel('Cumulative probability, Fraction of data')\n",
    "plt.xlabel('Numeric Rating of Taste and Overall score')\n",
    "plt.title('CDF of Review Taste and Overall')\n",
    "plt.show()"
   ]
  },
  {
   "cell_type": "code",
   "execution_count": 9,
   "metadata": {},
   "outputs": [
    {
     "data": {
      "image/png": "[encoded data removed]",
      "text/plain": [
       "<matplotlib.figure.Figure at 0x7fdd5590a7b8>"
      ]
     },
     "metadata": {},
     "output_type": "display_data"
    }
   ],
   "source": [
    "plt.figure(figsize=[14,6])\n",
    "plt.hist(beer_ratings.review_palate.values, normed=True, cumulative=True, \n",
    "         label='Palate', histtype='step', alpha=0.7, color='k')\n",
    "plt.hist(beer_ratings.review_overall.values, normed=True, cumulative=True, \n",
    "         label='Overall', histtype='step', alpha=0.7, color='red')\n",
    "plt.legend()\n",
    "plt.ylabel('Cumulative probability, Fraction of data')\n",
    "plt.xlabel('Numeric Rating of Palate and Overall score')\n",
    "plt.title('CDF of Review Palate and Overall')\n",
    "plt.show()"
   ]
  },
  {
   "cell_type": "markdown",
   "metadata": {},
   "source": [
    "### Modeling prediction accuracy of review traits to review_overall with logistic regression"
   ]
  },
  {
   "cell_type": "code",
   "execution_count": 10,
   "metadata": {},
   "outputs": [],
   "source": [
    "# For model building\n",
    "from sklearn.model_selection import train_test_split\n",
    "\n",
    "# Models\n",
    "from sklearn.linear_model import LogisticRegression\n",
    "\n",
    "# Optimizations\n",
    "from sklearn.metrics import accuracy_score, mean_squared_error"
   ]
  },
  {
   "cell_type": "code",
   "execution_count": 11,
   "metadata": {},
   "outputs": [
    {
     "data": {
      "text/plain": [
       "Index(['brewery_id', 'brewery_name', 'review_time', 'review_overall',\n",
       "       'review_aroma', 'review_appearance', 'review_profilename', 'beer_style',\n",
       "       'review_palate', 'review_taste', 'beer_name', 'beer_abv',\n",
       "       'beer_beerid'],\n",
       "      dtype='object')"
      ]
     },
     "execution_count": 11,
     "metadata": {},
     "output_type": "execute_result"
    }
   ],
   "source": [
    "beer_ratings.keys()"
   ]
  },
  {
   "cell_type": "markdown",
   "metadata": {},
   "source": [
    "Averaged will include the average of all categories sans Review Overall which is our target variable"
   ]
  },
  {
   "cell_type": "code",
   "execution_count": 12,
   "metadata": {},
   "outputs": [],
   "source": [
    "beer_ratings['averaged'] = (beer_ratings.review_appearance + \\\n",
    "                           beer_ratings.review_aroma + \\\n",
    "                           beer_ratings.review_taste + \\\n",
    "                           beer_ratings.review_palate) / 4"
   ]
  },
  {
   "cell_type": "code",
   "execution_count": 13,
   "metadata": {},
   "outputs": [
    {
     "data": {
      "text/plain": [
       "count    1.586614e+06\n",
       "mean     3.815581e+00\n",
       "std      7.206219e-01\n",
       "min      0.000000e+00\n",
       "25%      3.500000e+00\n",
       "50%      4.000000e+00\n",
       "75%      4.500000e+00\n",
       "max      5.000000e+00\n",
       "Name: review_overall, dtype: float64"
      ]
     },
     "execution_count": 13,
     "metadata": {},
     "output_type": "execute_result"
    }
   ],
   "source": [
    "target = beer_ratings['review_overall']\n",
    "target.describe()"
   ]
  },
  {
   "cell_type": "code",
   "execution_count": 14,
   "metadata": {
    "scrolled": true
   },
   "outputs": [],
   "source": [
    "target = pd.DataFrame(target)"
   ]
  },
  {
   "cell_type": "code",
   "execution_count": 15,
   "metadata": {},
   "outputs": [],
   "source": [
    "target['good'] = target['review_overall'].apply(lambda x:1 if x>=3.5 else 0)"
   ]
  },
  {
   "cell_type": "code",
   "execution_count": 16,
   "metadata": {},
   "outputs": [],
   "source": [
    "predictors = beer_ratings.loc[:,['review_aroma','review_appearance',\n",
    "                                 'review_palate','review_taste',\n",
    "                                 'averaged', 'beer_abv']]"
   ]
  },
  {
   "cell_type": "code",
   "execution_count": 17,
   "metadata": {},
   "outputs": [
    {
     "name": "stdout",
     "output_type": "stream",
     "text": [
      "<class 'pandas.core.frame.DataFrame'>\n",
      "RangeIndex: 1586614 entries, 0 to 1586613\n",
      "Data columns (total 6 columns):\n",
      "review_aroma         1586614 non-null float64\n",
      "review_appearance    1586614 non-null float64\n",
      "review_palate        1586614 non-null float64\n",
      "review_taste         1586614 non-null float64\n",
      "averaged             1586614 non-null float64\n",
      "beer_abv             1586614 non-null float64\n",
      "dtypes: float64(6)\n",
      "memory usage: 72.6 MB\n"
     ]
    }
   ],
   "source": [
    "predictors.info()"
   ]
  },
  {
   "cell_type": "code",
   "execution_count": 18,
   "metadata": {},
   "outputs": [
    {
     "name": "stdout",
     "output_type": "stream",
     "text": [
      "(1586614, 6)\n",
      "(1586614, 2)\n"
     ]
    }
   ],
   "source": [
    "print(predictors.shape)\n",
    "print(target.shape)"
   ]
  },
  {
   "cell_type": "code",
   "execution_count": 19,
   "metadata": {},
   "outputs": [
    {
     "data": {
      "text/plain": [
       "Index(['review_aroma', 'review_appearance', 'review_palate', 'review_taste',\n",
       "       'averaged', 'beer_abv'],\n",
       "      dtype='object')"
      ]
     },
     "execution_count": 19,
     "metadata": {},
     "output_type": "execute_result"
    }
   ],
   "source": [
    "predictors.keys()"
   ]
  },
  {
   "cell_type": "code",
   "execution_count": 20,
   "metadata": {},
   "outputs": [],
   "source": [
    "review_predictors = {}\n",
    "\n",
    "# Build a dictionary of predictive elements\n",
    "# Will be used to compare RMSE and Accuracy\n",
    "\n",
    "review_predictors['aroma'] = predictors['review_aroma'].values.reshape(-1,1)\n",
    "review_predictors['appearance'] = predictors['review_appearance'].values.reshape(-1,1)\n",
    "review_predictors['palate'] = predictors['review_palate'].values.reshape(-1,1)\n",
    "review_predictors['taste'] = predictors['review_taste'].values.reshape(-1,1)\n",
    "\n",
    "# Base features will be the predictive element\n",
    "# consisting solely of the four review elements\n",
    "review_predictors['base_features'] = predictors[['review_aroma', \n",
    "                                                 'review_appearance', \n",
    "                                                 'review_taste', \n",
    "                                                 'review_palate']].values\n",
    "\n",
    "review_predictors['averaged'] = predictors['averaged'].values.reshape(-1,1)\n",
    "review_predictors['abv'] = predictors['beer_abv'].values.reshape(-1,1)\n",
    "review_predictors['combined'] = predictors.values"
   ]
  },
  {
   "cell_type": "code",
   "execution_count": 21,
   "metadata": {},
   "outputs": [],
   "source": [
    "predictor_results = {}\n",
    "RMSE = {}\n",
    "\n",
    "for x in review_predictors :\n",
    "    \n",
    "    Xlr, Xtestlr, ylr, ytestlr = train_test_split(review_predictors[str(x)], \n",
    "                                                  target['good'].values, test_size=.3)\n",
    "\n",
    "    log_reg = LogisticRegression()\n",
    "\n",
    "    # Fit the model on the trainng data.\n",
    "    log_reg.fit(Xlr, ylr)\n",
    "\n",
    "    # Predict the labels\n",
    "    y_pred = log_reg.predict(Xlr)\n",
    "    \n",
    "    # Print the accuracy from the testing data. \n",
    "    # This takes total predictions correct / total predictions made\n",
    "    predictor_results[str(x)] = accuracy_score(log_reg.predict(Xtestlr), ytestlr)\n",
    "    \n",
    "    # Root Mean Squared Error (Smaller is better)\n",
    "    RMSE[str(x)] = np.sqrt(mean_squared_error(log_reg.predict(Xtestlr), ytestlr))\n",
    "    "
   ]
  },
  {
   "cell_type": "code",
   "execution_count": 22,
   "metadata": {},
   "outputs": [
    {
     "data": {
      "text/plain": [
       "{'abv': 0.81966238431883354,\n",
       " 'appearance': 0.84067775245018228,\n",
       " 'aroma': 0.86059224555395653,\n",
       " 'averaged': 0.8960660525016545,\n",
       " 'base_features': 0.9091084803092534,\n",
       " 'combined': 0.90976396315009922,\n",
       " 'palate': 0.86886771641963512,\n",
       " 'taste': 0.90175320650860846}"
      ]
     },
     "execution_count": 22,
     "metadata": {},
     "output_type": "execute_result"
    }
   ],
   "source": [
    "predictor_results"
   ]
  },
  {
   "cell_type": "code",
   "execution_count": 23,
   "metadata": {},
   "outputs": [
    {
     "data": {
      "text/plain": [
       "{'abv': 0.42466176621067081,\n",
       " 'appearance': 0.39915191036724068,\n",
       " 'aroma': 0.37337347849846469,\n",
       " 'averaged': 0.32238788360970627,\n",
       " 'base_features': 0.30148220460044828,\n",
       " 'combined': 0.30039313715513,\n",
       " 'palate': 0.36212191811648869,\n",
       " 'taste': 0.31344344544333919}"
      ]
     },
     "execution_count": 23,
     "metadata": {},
     "output_type": "execute_result"
    }
   ],
   "source": [
    "RMSE"
   ]
  },
  {
   "cell_type": "markdown",
   "metadata": {},
   "source": [
    "## Simple works just as well as ensemble. K.I.S.S."
   ]
  },
  {
   "cell_type": "code",
   "execution_count": 24,
   "metadata": {},
   "outputs": [],
   "source": [
    "from sklearn.ensemble import RandomForestRegressor\n",
    "predictor_results = {}\n",
    "\n",
    "Xlr, Xtestlr, ylr, ytestlr = train_test_split(review_predictors['combined'], \n",
    "                                              target['good'].values, test_size=.3, random_state=21)\n",
    "\n",
    "RFR_reg = RandomForestRegressor()\n",
    "\n",
    "# Fit the model on the trainng data.\n",
    "RFR_reg.fit(Xlr, ylr)\n",
    "\n",
    "# Predict the labels\n",
    "y_pred = RFR_reg.predict(Xlr)\n",
    "\n",
    "# Print the accuracy from the testing data. \n",
    "# This takes total predictions correct / total predictions made\n",
    "predictor_results['combined'] = accuracy_score(log_reg.predict(Xtestlr), ytestlr)"
   ]
  },
  {
   "cell_type": "code",
   "execution_count": 25,
   "metadata": {},
   "outputs": [
    {
     "data": {
      "text/plain": [
       "{'combined': 0.91038583148628638}"
      ]
     },
     "execution_count": 25,
     "metadata": {},
     "output_type": "execute_result"
    }
   ],
   "source": [
    "predictor_results"
   ]
  },
  {
   "cell_type": "markdown",
   "metadata": {},
   "source": [
    "## More parlor tricks, sklearn label encoding\n",
    "* This will use beer style and create additional features based on binary 0/1 for styles"
   ]
  },
  {
   "cell_type": "code",
   "execution_count": 26,
   "metadata": {},
   "outputs": [],
   "source": [
    "from sklearn.preprocessing import LabelEncoder\n",
    "\n",
    "le_style = LabelEncoder()\n",
    "\n",
    "beer_ratings['style_encoded'] = le_style.fit_transform(beer_ratings.beer_style)\n",
    "\n",
    "from sklearn.preprocessing import OneHotEncoder\n",
    "\n",
    "style_ohe = OneHotEncoder()\n",
    "\n",
    "X = style_ohe.fit_transform(beer_ratings.style_encoded.values.reshape(-1,1)).toarray()"
   ]
  },
  {
   "cell_type": "code",
   "execution_count": 27,
   "metadata": {},
   "outputs": [],
   "source": [
    "unique_styles = beer_ratings.beer_style.unique()\n",
    "dfOneHot = pd.DataFrame(X, columns = [style for style in unique_styles])\n",
    "df = pd.concat([beer_ratings, dfOneHot], axis=1)"
   ]
  },
  {
   "cell_type": "code",
   "execution_count": 28,
   "metadata": {},
   "outputs": [
    {
     "data": {
      "text/plain": [
       "Index(['brewery_id', 'brewery_name', 'review_time', 'review_overall',\n",
       "       'review_aroma', 'review_appearance', 'review_profilename', 'beer_style',\n",
       "       'review_palate', 'review_taste', 'beer_name', 'beer_abv', 'beer_beerid',\n",
       "       'averaged', 'style_encoded'],\n",
       "      dtype='object')"
      ]
     },
     "execution_count": 28,
     "metadata": {},
     "output_type": "execute_result"
    }
   ],
   "source": [
    "beer_ratings.keys()"
   ]
  },
  {
   "cell_type": "code",
   "execution_count": 29,
   "metadata": {},
   "outputs": [],
   "source": [
    "df = df.drop(['brewery_id', 'brewery_name', 'review_time', \n",
    "              'review_overall','review_profilename', 'beer_style', \n",
    "              'beer_name', 'beer_beerid', 'style_encoded'], axis = 1)"
   ]
  },
  {
   "cell_type": "code",
   "execution_count": 30,
   "metadata": {},
   "outputs": [],
   "source": [
    "encoded_predictors = {}\n",
    "\n",
    "encoded_predictors['combined'] = df.values"
   ]
  },
  {
   "cell_type": "code",
   "execution_count": 31,
   "metadata": {},
   "outputs": [],
   "source": [
    "encoded_accuracy = {}\n",
    "encoded_RMSE = {}\n",
    "\n",
    "Xlr, Xtestlr, ylr, ytestlr = train_test_split(encoded_predictors['combined'], \n",
    "                                              target['good'].values, test_size=.3, random_state=42)\n",
    "\n",
    "log_reg = LogisticRegression()\n",
    "\n",
    "    # Fit the model on the trainng data.\n",
    "log_reg.fit(Xlr, ylr)\n",
    "\n",
    "    # Predict the labels\n",
    "y_pred = log_reg.predict(Xlr)\n",
    "\n",
    "# Print the accuracy from the testing data. \n",
    "# This takes total predictions correct / total predictions made\n",
    "encoded_accuracy['combined'] = accuracy_score(log_reg.predict(Xtestlr), ytestlr)\n",
    "\n",
    "# Root Mean Squared Error (Smaller is better)\n",
    "encoded_RMSE['combined'] = np.sqrt(mean_squared_error(log_reg.predict(Xtestlr), ytestlr))"
   ]
  },
  {
   "cell_type": "code",
   "execution_count": 32,
   "metadata": {},
   "outputs": [
    {
     "data": {
      "text/plain": [
       "{'combined': 0.91018414445833373}"
      ]
     },
     "execution_count": 32,
     "metadata": {},
     "output_type": "execute_result"
    }
   ],
   "source": [
    "encoded_accuracy"
   ]
  },
  {
   "cell_type": "code",
   "execution_count": 33,
   "metadata": {},
   "outputs": [
    {
     "data": {
      "text/plain": [
       "{'combined': 0.29969293542168496}"
      ]
     },
     "execution_count": 33,
     "metadata": {},
     "output_type": "execute_result"
    }
   ],
   "source": [
    "encoded_RMSE"
   ]
  }
 ],
 "metadata": {
  "kernelspec": {
   "display_name": "Python 3",
   "language": "python",
   "name": "python3"
  },
  "language_info": {
   "codemirror_mode": {
    "name": "ipython",
    "version": 3
   },
   "file_extension": ".py",
   "mimetype": "text/x-python",
   "name": "python",
   "nbconvert_exporter": "python",
   "pygments_lexer": "ipython3",
   "version": "3.6.2"
  }
 },
 "nbformat": 4,
 "nbformat_minor": 2
}
