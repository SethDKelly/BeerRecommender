{
 "cells": [
  {
   "cell_type": "markdown",
   "metadata": {},
   "source": [
    "# Most of this code should be pulled into seperate .py files"
   ]
  },
  {
   "cell_type": "code",
   "execution_count": 23,
   "metadata": {},
   "outputs": [],
   "source": [
    "import pandas as pd\n",
    "import numpy as np\n",
    "\n",
    "from sklearn.decomposition import TruncatedSVD\n",
    "import warnings\n",
    "warnings.filterwarnings(\"ignore\", category = RuntimeWarning)\n",
    "from sklearn.metrics.pairwise import linear_kernel, euclidean_distances\n",
    "\n",
    "from sklearn.preprocessing import normalize\n"
   ]
  },
  {
   "cell_type": "code",
   "execution_count": 2,
   "metadata": {},
   "outputs": [],
   "source": [
    "# Training matrix\n",
    "user_item = pd.DataFrame(\n",
    "    pd.read_csv('/home/grimoire/Projects/BeerRatings/user_item_matrix.csv'))\n",
    "\n",
    "X = user_item.values.T"
   ]
  },
  {
   "cell_type": "code",
   "execution_count": 3,
   "metadata": {},
   "outputs": [],
   "source": [
    "# Test matrix\n",
    "test_matrix = pd.DataFrame(\n",
    "    pd.read_csv('/home/grimoire/Projects/BeerRatings/test_matrix.csv', index_col='review_profilename'))\n",
    "\n",
    "test_matrix = test_matrix.T"
   ]
  },
  {
   "cell_type": "code",
   "execution_count": 4,
   "metadata": {},
   "outputs": [],
   "source": [
    "beer_names = user_item.columns"
   ]
  },
  {
   "cell_type": "code",
   "execution_count": 5,
   "metadata": {},
   "outputs": [],
   "source": [
    "def cosine_recommendations(beer, user_item=user_item) :\n",
    "    \n",
    "    # https://stackoverflow.com/questions/944592/best-practice-for-python-assert\n",
    "    # Self note: build an exception class for beer parameter\n",
    "    \n",
    "    beer_names = user_item.columns\n",
    "    assert beer in beer_names, 'The beer isn\\'t currently in the recommendation list,\\\n",
    " rate it more and it will be soon!' # This derives from user input not matching beer_names, add to exception class\n",
    "    \n",
    "    \n",
    "    beer_name_list = list(beer_names) # Contains the index/name of the beer\n",
    "    beer_index = beer_name_list.index(beer) # Finds the index of the beer parameter\n",
    "    beer_list = \\\n",
    "    pd.DataFrame({'cosine_score':cosine_sim[beer_index]})\\\n",
    "    .sort_values(by='cosine_score', \n",
    "                 ascending=False)[1:8].index\n",
    "    return list(beer_names[beer_list])"
   ]
  },
  {
   "cell_type": "code",
   "execution_count": 6,
   "metadata": {},
   "outputs": [],
   "source": [
    "def pearson_recommendations(beer, user_item=user_item) :\n",
    "    \n",
    "    #############################################################\n",
    "    # The coeffecient matrix is an 2D array of arrays\n",
    "    # There is no indication of what columns refer to what beer\n",
    "    # We will pull this information from our user_item matrix\n",
    "    # Create a list of the beers from the columns\n",
    "    # The index of the list will correspond with the coefficient matrix\n",
    "    #############################################################\n",
    "    \n",
    "    # https://stackoverflow.com/questions/944592/best-practice-for-python-assert\n",
    "    # Self note: build an exception class for beer parameter\n",
    "    \n",
    "    beer_names = user_item.columns\n",
    "    assert beer in beer_names, 'The beer isn\\'t currently in the recommendation list,\\\n",
    " rate it more and it will be soon!' # This derives from user input not matching beer_names, add to exception class\n",
    "    \n",
    "    beer_name_list = list(beer_names) # Contains the index/name of the beer\n",
    "    beer_index = beer_name_list.index(beer) # Finds the index of the beer parameter\n",
    "    beer_list = \\\n",
    "    pd.DataFrame({'corrcoef_score':corr[beer_index]})\\\n",
    "    .sort_values(by='corrcoef_score', \n",
    "                 ascending=False)[1:8].index\n",
    "    return list(beer_names[beer_list])"
   ]
  },
  {
   "cell_type": "code",
   "execution_count": 30,
   "metadata": {},
   "outputs": [],
   "source": [
    "def euclidean_recommendations(beer, user_item=user_item) :\n",
    "    \n",
    "    #############################################################\n",
    "    # The coeffecient matrix is an 2D array of arrays\n",
    "    # There is no indication of what columns refer to what beer\n",
    "    # We will pull this information from our user_item matrix\n",
    "    # Create a list of the beers from the columns\n",
    "    # The index of the list will correspond with the coefficient matrix\n",
    "    #############################################################\n",
    "    \n",
    "    # https://stackoverflow.com/questions/944592/best-practice-for-python-assert\n",
    "    # Self note: build an exception class for beer parameter\n",
    "    \n",
    "    beer_names = user_item.columns\n",
    "    assert beer in beer_names, 'The beer isn\\'t currently in the recommendation list,\\\n",
    " rate it more and it will be soon!' # This derives from user input not matching beer_names, add to exception class\n",
    "    \n",
    "    beer_name_list = list(beer_names) # Contains the index/name of the beer\n",
    "    beer_index = beer_name_list.index(beer) # Finds the index of the beer parameter\n",
    "    beer_list = \\\n",
    "    pd.DataFrame({'corrcoef_score':eucl_sim[beer_index]})\\\n",
    "    .sort_values(by='corrcoef_score', \n",
    "                 ascending=False)[1:8].index\n",
    "    return list(beer_names[beer_list])"
   ]
  },
  {
   "cell_type": "code",
   "execution_count": 16,
   "metadata": {},
   "outputs": [],
   "source": [
    "svd = TruncatedSVD(n_components=24, random_state=3)\n",
    "matrix = svd.fit_transform(X)"
   ]
  },
  {
   "cell_type": "code",
   "execution_count": 17,
   "metadata": {},
   "outputs": [],
   "source": [
    "corr = np.corrcoef(matrix)\n",
    "recommendation_precision = []\n",
    "precision = 0\n",
    "for name in test_matrix.columns : # name will be a column (profile name) from matrix\n",
    "    user_list = list(test_matrix[test_matrix[name] > 0].index) # List of beers that the user drank\n",
    "    benchmark = 0 # instantiating if any beers were drank from list of recommended\n",
    "    for beer in user_list :\n",
    "        recommended_beers = set(pearson_recommendations(beer))\n",
    "        if recommended_beers & set(user_list) :\n",
    "            benchmark += 1\n",
    "    precision += benchmark / len(user_list)\n",
    "recommendation_precision.append(precision / len(test_matrix.columns))"
   ]
  },
  {
   "cell_type": "code",
   "execution_count": 18,
   "metadata": {},
   "outputs": [
    {
     "data": {
      "text/plain": [
       "[0.01827364145917105]"
      ]
     },
     "execution_count": 18,
     "metadata": {},
     "output_type": "execute_result"
    }
   ],
   "source": [
    "[recommendations for recommendations in recommendation_precision]"
   ]
  },
  {
   "cell_type": "code",
   "execution_count": 19,
   "metadata": {},
   "outputs": [],
   "source": [
    "cosine_sim = linear_kernel(matrix, matrix)\n",
    "cosine_sim = normalize(cosine_sim)"
   ]
  },
  {
   "cell_type": "code",
   "execution_count": 20,
   "metadata": {},
   "outputs": [],
   "source": [
    "recommendation_precision = []\n",
    "precision = 0\n",
    "for name in test_matrix.columns : # name will be a column (profile name) from matrix\n",
    "    user_list = list(test_matrix[test_matrix[name] > 0].index) # List of beers that the user drank\n",
    "    benchmark = 0 # instantiating if any beers were drank from list of recommended\n",
    "    for beer in user_list :\n",
    "        recommended_beers = set(cosine_recommendations(beer))\n",
    "        if recommended_beers & set(user_list) :\n",
    "            benchmark += 1\n",
    "    precision += benchmark / len(user_list)\n",
    "recommendation_precision.append(precision / len(test_matrix.columns))"
   ]
  },
  {
   "cell_type": "code",
   "execution_count": 21,
   "metadata": {},
   "outputs": [
    {
     "data": {
      "text/plain": [
       "[0.2537203281279971]"
      ]
     },
     "execution_count": 21,
     "metadata": {},
     "output_type": "execute_result"
    }
   ],
   "source": [
    "[recommendations for recommendations in recommendation_precision]"
   ]
  },
  {
   "cell_type": "code",
   "execution_count": 28,
   "metadata": {},
   "outputs": [],
   "source": [
    "eucl_sim = euclidean_distances(matrix, matrix)"
   ]
  },
  {
   "cell_type": "code",
   "execution_count": 31,
   "metadata": {},
   "outputs": [],
   "source": [
    "recommendation_precision = []\n",
    "precision = 0\n",
    "for name in test_matrix.columns : # name will be a column (profile name) from matrix\n",
    "    user_list = list(test_matrix[test_matrix[name] > 0].index) # List of beers that the user drank\n",
    "    benchmark = 0 # instantiating if any beers were drank from list of recommended\n",
    "    for beer in user_list :\n",
    "        recommended_beers = set(euclidean_recommendations(beer))\n",
    "        if recommended_beers & set(user_list) :\n",
    "            benchmark += 1\n",
    "    precision += benchmark / len(user_list)\n",
    "recommendation_precision.append(precision / len(test_matrix.columns))"
   ]
  },
  {
   "cell_type": "code",
   "execution_count": 32,
   "metadata": {},
   "outputs": [
    {
     "data": {
      "text/plain": [
       "[0.13841119966071316]"
      ]
     },
     "execution_count": 32,
     "metadata": {},
     "output_type": "execute_result"
    }
   ],
   "source": [
    "[recommendations for recommendations in recommendation_precision]"
   ]
  }
 ],
 "metadata": {
  "kernelspec": {
   "display_name": "Python 3",
   "language": "python",
   "name": "python3"
  },
  "language_info": {
   "codemirror_mode": {
    "name": "ipython",
    "version": 3
   },
   "file_extension": ".py",
   "mimetype": "text/x-python",
   "name": "python",
   "nbconvert_exporter": "python",
   "pygments_lexer": "ipython3",
   "version": "3.6.2"
  }
 },
 "nbformat": 4,
 "nbformat_minor": 2
}
