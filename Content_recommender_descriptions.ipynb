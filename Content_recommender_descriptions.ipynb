{
 "cells": [
  {
   "cell_type": "code",
   "execution_count": 1,
   "metadata": {},
   "outputs": [],
   "source": [
    "import pandas as pd"
   ]
  },
  {
   "cell_type": "code",
   "execution_count": 2,
   "metadata": {},
   "outputs": [],
   "source": [
    "# %load get_data.py\n",
    "def get_data() :\n",
    "    \n",
    "    import pandas as pd\n",
    "    \n",
    "    csv_beer = pd.read_csv(\"/home/grimoire/Projects/BeerRatings/rating_update.csv\")\n",
    "    beer_ratings = pd.DataFrame(csv_beer)\n",
    "    \n",
    "    return beer_ratings\n"
   ]
  },
  {
   "cell_type": "code",
   "execution_count": 3,
   "metadata": {},
   "outputs": [],
   "source": [
    "descriptions = pd.DataFrame(\n",
    "    pd.read_csv('/home/grimoire/Projects/BeerRatings/beer_description.csv'))\n",
    "ratings = get_data()"
   ]
  },
  {
   "cell_type": "markdown",
   "metadata": {},
   "source": [
    "## This section removes styles present in our descriptions data but not ratings"
   ]
  },
  {
   "cell_type": "code",
   "execution_count": 4,
   "metadata": {},
   "outputs": [],
   "source": [
    "# These are styles that were added after our data set was released\n",
    "# They will be removed so the model doesn't recommend bad styles\n",
    "# Styles that aren't available within our rating data\n",
    "# The set of bad descriptions can be found in Description_style_merge_mgmt notebook\n",
    "\n",
    "bad_styles = ['American Brett','American Brut IPA','American Imperial Porter',\n",
    "              'American Imperial Red Ale','Belgian Blonde Ale','New England IPA',\n",
    "              'Robust Porter','Smoke Porter']"
   ]
  },
  {
   "cell_type": "code",
   "execution_count": 5,
   "metadata": {},
   "outputs": [],
   "source": [
    "for style in bad_styles :\n",
    "    descriptions = descriptions.drop(descriptions[descriptions['style'] == style].index.values)"
   ]
  },
  {
   "cell_type": "code",
   "execution_count": 6,
   "metadata": {},
   "outputs": [
    {
     "name": "stdout",
     "output_type": "stream",
     "text": [
      "False\n",
      "False\n",
      "False\n",
      "False\n",
      "False\n",
      "False\n",
      "False\n",
      "False\n"
     ]
    }
   ],
   "source": [
    "for style in bad_styles :\n",
    "    print(style in descriptions['style'].values)"
   ]
  },
  {
   "cell_type": "code",
   "execution_count": 7,
   "metadata": {},
   "outputs": [],
   "source": [
    "descriptions = descriptions.reset_index(drop=True)"
   ]
  },
  {
   "cell_type": "markdown",
   "metadata": {},
   "source": [
    "### This section will build a system that recommends beers styles that are similar to a particular beer style.\n",
    "I will compute pairwise similarity scores for all beer styles based on their style descriptions and recommend beer styles based on that similarity score."
   ]
  },
  {
   "cell_type": "code",
   "execution_count": 8,
   "metadata": {},
   "outputs": [
    {
     "data": {
      "text/plain": [
       "Index(['style', 'description', 'abv_low', 'abv_high', 'ibu_low', 'ibu_high'], dtype='object')"
      ]
     },
     "execution_count": 8,
     "metadata": {},
     "output_type": "execute_result"
    }
   ],
   "source": [
    "descriptions.keys()"
   ]
  },
  {
   "cell_type": "code",
   "execution_count": 9,
   "metadata": {},
   "outputs": [],
   "source": [
    "# import TfidVectorizer from sklearn\n",
    "'''\n",
    "This computes Term Frequency-Inverse Document Frequency (TF-IDF) vectors for each document. \n",
    "This will give a matrix where each column represents a word in the overview vocabulary \n",
    "(all the words that appear in at least one document) and each column represents a beer style, as before. \n",
    "'''\n",
    "from sklearn.feature_extraction.text import TfidfVectorizer\n",
    "\n",
    "# Remove all the stop words in the descriptions\n",
    "tfidf = TfidfVectorizer(stop_words='english')\n",
    "\n",
    "tfidf_matrix = tfidf.fit_transform(descriptions['description'])"
   ]
  },
  {
   "cell_type": "code",
   "execution_count": 10,
   "metadata": {},
   "outputs": [
    {
     "data": {
      "text/plain": [
       "(103, 1559)"
      ]
     },
     "execution_count": 10,
     "metadata": {},
     "output_type": "execute_result"
    }
   ],
   "source": [
    "tfidf_matrix.shape"
   ]
  },
  {
   "cell_type": "code",
   "execution_count": 11,
   "metadata": {},
   "outputs": [],
   "source": [
    "from sklearn.metrics.pairwise import linear_kernel\n",
    "\n",
    "cosine_sim = linear_kernel(tfidf_matrix, tfidf_matrix)"
   ]
  },
  {
   "cell_type": "code",
   "execution_count": 12,
   "metadata": {},
   "outputs": [],
   "source": [
    "indices = pd.Series(descriptions.index, index=descriptions['style']).drop_duplicates()"
   ]
  },
  {
   "cell_type": "code",
   "execution_count": 13,
   "metadata": {},
   "outputs": [],
   "source": [
    "# Function that takes in movie title as input and outputs most similar movies\n",
    "def get_recommendations(title, cosine_sim=cosine_sim):\n",
    "    # Get the index of the movie that matches the title\n",
    "    idx = indices[title]\n",
    "\n",
    "    # Get the pairwsie similarity scores of all movies with that movie\n",
    "    sim_scores = list(enumerate(cosine_sim[idx]))\n",
    "\n",
    "    # Sort the movies based on the similarity scores\n",
    "    sim_scores = sorted(sim_scores, key=lambda x: x[1], reverse=True)\n",
    "\n",
    "    # Get the scores of the 10 most similar movies\n",
    "    sim_scores = sim_scores[1:11]\n",
    "\n",
    "    # Get the movie indices\n",
    "    beer_indices = [i[0] for i in sim_scores]\n",
    "\n",
    "    # Return the top 10 most similar movies\n",
    "    return descriptions['style'].iloc[beer_indices]"
   ]
  },
  {
   "cell_type": "code",
   "execution_count": 14,
   "metadata": {
    "scrolled": false
   },
   "outputs": [
    {
     "data": {
      "text/plain": [
       "array(['German Bock', 'German Doppelbock', 'German Eisbock',\n",
       "       'German Maibock', 'German Weizenbock', 'American Brown Ale',\n",
       "       'English Brown Ale', 'English Dark Mild Ale', 'German Altbier',\n",
       "       'American Black Ale', 'Belgian Dark Ale', 'Belgian Dubbel',\n",
       "       'German Roggenbier', 'Scottish Ale', 'Winter Warmer',\n",
       "       'American Amber / Red Lager', 'European Dark Lager',\n",
       "       'German Märzen / Oktoberfest', 'German Rauchbier',\n",
       "       'German Schwarzbier', 'Munich Dunkel Lager', 'Vienna Lager',\n",
       "       'American Cream Ale', 'Bière de Champagne / Bière Brut', 'Braggot',\n",
       "       'California Common / Steam Beer', 'American Imperial IPA',\n",
       "       'American IPA', 'Belgian IPA', 'English India Pale Ale (IPA)',\n",
       "       'American Amber / Red Ale', 'American Blonde Ale',\n",
       "       'American Pale Ale (APA)', 'Belgian Pale Ale', 'Belgian Saison',\n",
       "       'English Bitter', 'English Extra Special / Strong Bitter (ESB)',\n",
       "       'English Pale Ale', 'English Pale Mild Ale',\n",
       "       'French Bière de Garde', 'German Kölsch', 'Irish Red Ale',\n",
       "       'American Adjunct Lager', 'American Imperial Pilsner',\n",
       "       'American Lager', 'American Light Lager', 'American Malt Liquor',\n",
       "       'Bohemian Pilsener', 'European Export / Dortmunder',\n",
       "       'European Pale Lager', 'European Strong Lager', 'German Helles',\n",
       "       'German Kellerbier / Zwickelbier', 'German Pilsner',\n",
       "       'American Porter', 'Baltic Porter', 'English Porter', 'Chile Beer',\n",
       "       'Finnish Sahti', 'Fruit and Field Beer', 'Herb and Spice Beer',\n",
       "       'Japanese Happoshu', 'Japanese Rice Lager', 'Low Alcohol Beer',\n",
       "       'Pumpkin Beer', 'Russian Kvass',\n",
       "       'Scottish Gruit / Ancient Herbed Ale', 'Rye Beer', 'Smoke Beer',\n",
       "       'American Imperial Stout', 'American Stout',\n",
       "       'English Oatmeal Stout', 'English Stout',\n",
       "       'English Sweet / Milk Stout', 'Foreign / Export Stout',\n",
       "       'Irish Dry Stout', 'Russian Imperial Stout', 'American Barleywine',\n",
       "       'American Strong Ale', 'American Wheatwine Ale',\n",
       "       'Belgian Quadrupel (Quad)', 'Belgian Strong Dark Ale',\n",
       "       'Belgian Strong Pale Ale', 'Belgian Tripel', 'British Barleywine',\n",
       "       'English Old Ale', 'English Strong Ale', 'Scotch Ale / Wee Heavy',\n",
       "       'American Dark Wheat Ale', 'American Pale Wheat Ale',\n",
       "       'Belgian Witbier', 'Berliner Weisse', 'German Dunkelweizen',\n",
       "       'German Hefeweizen', 'German Kristalweizen', 'American Wild Ale',\n",
       "       'Belgian Faro', 'Belgian Fruit Lambic', 'Belgian Gueuze',\n",
       "       'Belgian Lambic', 'Flanders Oud Bruin', 'Flanders Red Ale',\n",
       "       'Leipzig Gose'], dtype=object)"
      ]
     },
     "execution_count": 14,
     "metadata": {},
     "output_type": "execute_result"
    }
   ],
   "source": [
    "descriptions['style'].values"
   ]
  },
  {
   "cell_type": "code",
   "execution_count": 15,
   "metadata": {},
   "outputs": [
    {
     "data": {
      "text/plain": [
       "67                   Rye Beer\n",
       "9          American Black Ale\n",
       "44             American Lager\n",
       "100        Flanders Oud Bruin\n",
       "6           English Brown Ale\n",
       "71      English Oatmeal Stout\n",
       "53             German Pilsner\n",
       "54            American Porter\n",
       "47          Bohemian Pilsener\n",
       "74     Foreign / Export Stout\n",
       "Name: style, dtype: object"
      ]
     },
     "execution_count": 15,
     "metadata": {},
     "output_type": "execute_result"
    }
   ],
   "source": [
    "get_recommendations('American Brown Ale')"
   ]
  },
  {
   "cell_type": "code",
   "execution_count": 16,
   "metadata": {},
   "outputs": [
    {
     "data": {
      "text/plain": [
       "77             American Barleywine\n",
       "86              English Strong Ale\n",
       "5               American Brown Ale\n",
       "29    English India Pale Ale (IPA)\n",
       "15      American Amber / Red Lager\n",
       "1                German Doppelbock\n",
       "48    European Export / Dortmunder\n",
       "59            Fruit and Field Beer\n",
       "69         American Imperial Stout\n",
       "81         Belgian Strong Dark Ale\n",
       "Name: style, dtype: object"
      ]
     },
     "execution_count": 16,
     "metadata": {},
     "output_type": "execute_result"
    }
   ],
   "source": [
    "get_recommendations('British Barleywine')"
   ]
  },
  {
   "cell_type": "code",
   "execution_count": 17,
   "metadata": {},
   "outputs": [
    {
     "data": {
      "text/plain": [
       "101                Flanders Red Ale\n",
       "34                   Belgian Saison\n",
       "85                  English Old Ale\n",
       "29     English India Pale Ale (IPA)\n",
       "58                    Finnish Sahti\n",
       "99                   Belgian Lambic\n",
       "28                      Belgian IPA\n",
       "97             Belgian Fruit Lambic\n",
       "91                  Berliner Weisse\n",
       "81          Belgian Strong Dark Ale\n",
       "Name: style, dtype: object"
      ]
     },
     "execution_count": 17,
     "metadata": {},
     "output_type": "execute_result"
    }
   ],
   "source": [
    "get_recommendations('American Wild Ale')"
   ]
  },
  {
   "cell_type": "code",
   "execution_count": 18,
   "metadata": {},
   "outputs": [
    {
     "data": {
      "text/plain": [
       "18                German Rauchbier\n",
       "48    European Export / Dortmunder\n",
       "13                    Scottish Ale\n",
       "4                German Weizenbock\n",
       "3                   German Maibock\n",
       "53                  German Pilsner\n",
       "47               Bohemian Pilsener\n",
       "1                German Doppelbock\n",
       "21                    Vienna Lager\n",
       "87          Scotch Ale / Wee Heavy\n",
       "Name: style, dtype: object"
      ]
     },
     "execution_count": 18,
     "metadata": {},
     "output_type": "execute_result"
    }
   ],
   "source": [
    "get_recommendations('Smoke Beer')"
   ]
  },
  {
   "cell_type": "markdown",
   "metadata": {},
   "source": [
    "## This section implements a simple weighted model with the style recommendation model"
   ]
  },
  {
   "cell_type": "code",
   "execution_count": 19,
   "metadata": {},
   "outputs": [],
   "source": [
    "# %load get_data.py\n",
    "def get_data() :\n",
    "    \n",
    "    import pandas as pd\n",
    "    \n",
    "    csv_beer = pd.read_csv(\"/home/grimoire/Projects/BeerRatings/rating_update.csv\")\n",
    "    beer_ratings = pd.DataFrame(csv_beer)\n",
    "    \n",
    "    return beer_ratings\n"
   ]
  },
  {
   "cell_type": "code",
   "execution_count": 20,
   "metadata": {},
   "outputs": [],
   "source": [
    "ratings = get_data()"
   ]
  },
  {
   "cell_type": "code",
   "execution_count": 21,
   "metadata": {},
   "outputs": [],
   "source": [
    "beer_style_map = ratings.copy()"
   ]
  },
  {
   "cell_type": "code",
   "execution_count": 22,
   "metadata": {},
   "outputs": [
    {
     "data": {
      "text/plain": [
       "Index(['brewery_id', 'brewery_name', 'review_time', 'review_overall',\n",
       "       'review_aroma', 'review_appearance', 'review_profilename', 'beer_style',\n",
       "       'review_palate', 'review_taste', 'beer_name', 'beer_abv',\n",
       "       'beer_beerid'],\n",
       "      dtype='object')"
      ]
     },
     "execution_count": 22,
     "metadata": {},
     "output_type": "execute_result"
    }
   ],
   "source": [
    "beer_style_map.keys()"
   ]
  },
  {
   "cell_type": "code",
   "execution_count": 23,
   "metadata": {},
   "outputs": [],
   "source": [
    "beer_style_map = beer_style_map.drop(['brewery_id', 'brewery_name', 'review_time', \n",
    "                                      'review_profilename','beer_abv', 'beer_beerid'], axis=1)"
   ]
  },
  {
   "cell_type": "code",
   "execution_count": 24,
   "metadata": {},
   "outputs": [],
   "source": [
    "comparison_beer = pd.DataFrame(pd.read_csv('/home/grimoire/Projects/BeerRatings/comparison_beer.csv'))"
   ]
  },
  {
   "cell_type": "code",
   "execution_count": 25,
   "metadata": {},
   "outputs": [
    {
     "data": {
      "text/plain": [
       "Index(['beer_name', 'review_overall', 'review_taste', 'review_appearance',\n",
       "       'review_palate', 'review_aroma', 'total_reviews'],\n",
       "      dtype='object')"
      ]
     },
     "execution_count": 25,
     "metadata": {},
     "output_type": "execute_result"
    }
   ],
   "source": [
    "comparison_beer.keys()"
   ]
  },
  {
   "cell_type": "code",
   "execution_count": 26,
   "metadata": {},
   "outputs": [],
   "source": [
    "comparison_beer = comparison_beer.drop(['review_overall', 'review_taste', 'review_appearance',\n",
    "                                        'review_palate', 'review_aroma'], axis=1)"
   ]
  },
  {
   "cell_type": "code",
   "execution_count": 27,
   "metadata": {},
   "outputs": [],
   "source": [
    "beer_style_map = beer_style_map.merge(comparison_beer, left_on='beer_name', right_on='beer_name')"
   ]
  },
  {
   "cell_type": "code",
   "execution_count": 28,
   "metadata": {},
   "outputs": [],
   "source": [
    "C = beer_style_map['review_overall'].mean()\n",
    "m = 1 # 25th % Quartile\n",
    "q_ratings = beer_style_map.copy().loc[beer_style_map['total_reviews'] >= m]"
   ]
  },
  {
   "cell_type": "code",
   "execution_count": 29,
   "metadata": {},
   "outputs": [],
   "source": [
    "def weighted_rating(df, m=m, C=C):\n",
    "    \n",
    "    #########################################\n",
    "    # Calculates and returns a weighted rating for specific feature\n",
    "    # m is minimum votes/ratings required to be listed\n",
    "    # C is the mean rating/vote across the whole dataframe\n",
    "    # R is average rating/votes of feature\n",
    "    # v is number of ratings/votes of feature\n",
    "    #########################################\n",
    "    \n",
    "    v = df['total_reviews']\n",
    "    R = df['review_overall']\n",
    "    \n",
    "    # Calculation based on the IMDB formula\n",
    "    return (v/(v+m) * R) + (m/(m+v) * C)"
   ]
  },
  {
   "cell_type": "code",
   "execution_count": 30,
   "metadata": {},
   "outputs": [],
   "source": [
    "q_ratings['weighted_overall'] = q_ratings.apply(weighted_rating, axis=1)"
   ]
  },
  {
   "cell_type": "code",
   "execution_count": 31,
   "metadata": {},
   "outputs": [],
   "source": [
    "q_ratings = q_ratings.groupby(['beer_style', 'beer_name']).mean()"
   ]
  },
  {
   "cell_type": "code",
   "execution_count": 32,
   "metadata": {},
   "outputs": [
    {
     "data": {
      "text/plain": [
       "beer_name\n",
       "Mike Duggan #05 Asian Lager    4.528689\n",
       "Atari Rice Ale                 4.157790\n",
       "Heiwa                          4.157790\n",
       "Samurai Gazebo                 4.119598\n",
       "Name: weighted_overall, dtype: float64"
      ]
     },
     "execution_count": 32,
     "metadata": {},
     "output_type": "execute_result"
    }
   ],
   "source": [
    "q_ratings.loc['Japanese Rice Lager', :]['weighted_overall'].sort_values(ascending=False).head(4)"
   ]
  },
  {
   "cell_type": "code",
   "execution_count": 33,
   "metadata": {},
   "outputs": [],
   "source": [
    "def style_recommendation(title) :\n",
    "    style_recommendations = []\n",
    "    recommend = get_recommendations(title)\n",
    "    recommend = recommend.reset_index(drop=True)\n",
    "    for x in range(3) :\n",
    "        style_recommendations.append(recommend.iloc[x])\n",
    "    return style_recommendations"
   ]
  },
  {
   "cell_type": "code",
   "execution_count": 34,
   "metadata": {},
   "outputs": [
    {
     "data": {
      "text/plain": [
       "['Japanese Rice Lager', 'European Strong Lager', 'American Light Lager']"
      ]
     },
     "execution_count": 34,
     "metadata": {},
     "output_type": "execute_result"
    }
   ],
   "source": [
    "style_recommendation('American Adjunct Lager')"
   ]
  },
  {
   "cell_type": "code",
   "execution_count": 35,
   "metadata": {},
   "outputs": [],
   "source": [
    "def beer_recommendation(df, style_list) :\n",
    "    beer_temp = []\n",
    "    for style in style_list :\n",
    "        beer_temp.append(df.loc[style, :]['weighted_overall'].sort_values(ascending=False).head(4))\n",
    "    beer_recommendations = pd.concat(beer_temp).sort_values(ascending=False)\n",
    "    return beer_recommendations"
   ]
  },
  {
   "cell_type": "code",
   "execution_count": 36,
   "metadata": {},
   "outputs": [
    {
     "data": {
      "text/plain": [
       "beer_name\n",
       "Mike Duggan #05 Asian Lager        4.528689\n",
       "Layflatter Lager                   4.438527\n",
       "Ohota Extra Light                  4.407790\n",
       "Lemon Light                        4.407790\n",
       "Willimantic Last Delivery Lager    4.407790\n",
       "Kingfisher Super Strong            4.407790\n",
       "Bohemian Regent Kvasnicove 16°     4.157790\n",
       "Harrington's Gold Lager            4.157790\n",
       "Heiwa                              4.157790\n",
       "Atari Rice Ale                     4.157790\n",
       "Samurai Gazebo                     4.119598\n",
       "Gordon Biersch Imperial Pilsner    4.105194\n",
       "Name: weighted_overall, dtype: float64"
      ]
     },
     "execution_count": 36,
     "metadata": {},
     "output_type": "execute_result"
    }
   ],
   "source": [
    "results = beer_recommendation(q_ratings, style_recommendation('American Adjunct Lager'))\n",
    "results"
   ]
  },
  {
   "cell_type": "code",
   "execution_count": 38,
   "metadata": {
    "scrolled": true
   },
   "outputs": [
    {
     "data": {
      "text/plain": [
       "beer_name\n",
       "Espresso Porter               4.892326\n",
       "Roasted Cocoanut Brown Ale    4.605194\n",
       "Pisgah Jason's Brown Ale      4.531558\n",
       "X                             4.516395\n",
       "Mocha Porter                  4.499476\n",
       "Black Jack Porter             4.498434\n",
       "Chocolate Porter              4.497172\n",
       "Frambozen                     4.490751\n",
       "Prairie Porter                4.490097\n",
       "Sandy Paws (2008)             4.463116\n",
       "Tea Bagged Bender             4.453895\n",
       "22 Porter                     4.438527\n",
       "Name: weighted_overall, dtype: float64"
      ]
     },
     "execution_count": 38,
     "metadata": {},
     "output_type": "execute_result"
    }
   ],
   "source": [
    "results = beer_recommendation(q_ratings, style_recommendation('American Porter'))\n",
    "results"
   ]
  },
  {
   "cell_type": "code",
   "execution_count": 40,
   "metadata": {},
   "outputs": [
    {
     "data": {
      "text/plain": [
       "beer_name\n",
       "Coffee Stout                                      4.997024\n",
       "Bourbon Barrel Stout                              4.994222\n",
       "Vanilla Stout                                     4.915399\n",
       "Rare D.O.S.                                       4.818105\n",
       "Alesmith Speedway Stout - Vanilla And Coconut     4.812842\n",
       "The Inkwell 2005                                  4.726948\n",
       "Kopi Con Leche Stout                              4.664448\n",
       "Merlot Stout                                      4.635930\n",
       "Carnie Fire                                       4.619598\n",
       "Pinglehead                                        4.578895\n",
       "Special Ale                                       4.488200\n",
       "Flambeau Red                                      4.476948\n",
       "Name: weighted_overall, dtype: float64"
      ]
     },
     "execution_count": 40,
     "metadata": {},
     "output_type": "execute_result"
    }
   ],
   "source": [
    "results = beer_recommendation(q_ratings, style_recommendation('American Stout'))\n",
    "results"
   ]
  }
 ],
 "metadata": {
  "kernelspec": {
   "display_name": "Python 3",
   "language": "python",
   "name": "python3"
  },
  "language_info": {
   "codemirror_mode": {
    "name": "ipython",
    "version": 3
   },
   "file_extension": ".py",
   "mimetype": "text/x-python",
   "name": "python",
   "nbconvert_exporter": "python",
   "pygments_lexer": "ipython3",
   "version": "3.6.2"
  }
 },
 "nbformat": 4,
 "nbformat_minor": 2
}
