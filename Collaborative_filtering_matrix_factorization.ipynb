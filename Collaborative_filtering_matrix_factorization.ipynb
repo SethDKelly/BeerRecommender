{
 "cells": [
  {
   "cell_type": "markdown",
   "metadata": {},
   "source": [
    "# This notebook features Collaborative filtering using matrix factorization"
   ]
  },
  {
   "cell_type": "markdown",
   "metadata": {},
   "source": [
    "## Loading in data"
   ]
  },
  {
   "cell_type": "code",
   "execution_count": 1,
   "metadata": {},
   "outputs": [],
   "source": [
    "import pandas as pd\n",
    "import numpy as np\n",
    "\n",
    "from sklearn.decomposition import TruncatedSVD\n",
    "from sklearn.metrics.pairwise import linear_kernel, euclidean_distances\n",
    "from sklearn.preprocessing import normalize"
   ]
  },
  {
   "cell_type": "code",
   "execution_count": 2,
   "metadata": {},
   "outputs": [],
   "source": [
    "user_item = pd.DataFrame(\n",
    "    pd.read_csv('/home/grimoire/Projects/BeerRatings/user_item_matrix.csv', index_col='review_profilename'))"
   ]
  },
  {
   "cell_type": "markdown",
   "metadata": {},
   "source": [
    "# Looking at the shape of our data (The user-item matrix)"
   ]
  },
  {
   "cell_type": "code",
   "execution_count": 3,
   "metadata": {},
   "outputs": [
    {
     "data": {
      "text/plain": [
       "(3156, 13831)"
      ]
     },
     "execution_count": 3,
     "metadata": {},
     "output_type": "execute_result"
    }
   ],
   "source": [
    "user_item.shape"
   ]
  },
  {
   "cell_type": "markdown",
   "metadata": {},
   "source": [
    "## Transposing our matrix to item-user"
   ]
  },
  {
   "cell_type": "code",
   "execution_count": 4,
   "metadata": {},
   "outputs": [],
   "source": [
    "X = user_item.values.T"
   ]
  },
  {
   "cell_type": "code",
   "execution_count": 5,
   "metadata": {},
   "outputs": [
    {
     "data": {
      "text/plain": [
       "(13831, 3156)"
      ]
     },
     "execution_count": 5,
     "metadata": {},
     "output_type": "execute_result"
    }
   ],
   "source": [
    "# Verifying the transposition\n",
    "X.shape"
   ]
  },
  {
   "cell_type": "markdown",
   "metadata": {},
   "source": [
    "## Building our pearson coeffienct matrix using the transformed data matrix"
   ]
  },
  {
   "cell_type": "code",
   "execution_count": 6,
   "metadata": {},
   "outputs": [],
   "source": [
    "similarity_measures = {}"
   ]
  },
  {
   "cell_type": "code",
   "execution_count": 7,
   "metadata": {},
   "outputs": [],
   "source": [
    "import warnings\n",
    "warnings.filterwarnings(\"ignore\", category = RuntimeWarning)\n",
    "import concurrent.futures\n",
    "\n",
    "# Use all available processors to complete process\n",
    "with concurrent.futures.ProcessPoolExecutor() as executor : \n",
    "    \n",
    "    svd_corr = TruncatedSVD(n_components=75, random_state=3)\n",
    "    corr_matrix = svd_corr.fit_transform(X)\n",
    "    similarity_measures['pearson'] = np.corrcoef(corr_matrix)\n",
    "    \n",
    "    svd_csine = TruncatedSVD(n_components=1500, random_state=6)\n",
    "    csine_matrix = svd_csine.fit_transform(X)\n",
    "    cosine_sim = linear_kernel(csine_matrix, csine_matrix)\n",
    "    similarity_measures['cosine'] = normalize(cosine_sim)\n",
    "    \n",
    "    svd_eucl = TruncatedSVD(n_components=625, random_state=9)\n",
    "    eucl_matrix = svd_eucl.fit_transform(X)\n",
    "    similarity_measures['euclidean'] = euclidean_distances(eucl_matrix, eucl_matrix)"
   ]
  },
  {
   "cell_type": "code",
   "execution_count": 8,
   "metadata": {},
   "outputs": [],
   "source": [
    "def recommendations(beer, measure='cosine', user_item=user_item) :\n",
    "    \n",
    "    #############################################################\n",
    "    # The coeffecient matrix is an 2D array of arrays\n",
    "    # There is no indication of what columns refer to what beer\n",
    "    # We will pull this information from our user_item matrix\n",
    "    # Create a list of the beers from the columns\n",
    "    # The index of the list will correspond with the coefficient matrix\n",
    "    #############################################################\n",
    "    \n",
    "    # https://stackoverflow.com/questions/944592/best-practice-for-python-assert\n",
    "    # Self note: build an exception class for beer parameter\n",
    "    \n",
    "    # User input not matching beer_names, add to exception class\n",
    "    assert beer in user_item.columns, \\\n",
    "    'The beer isn\\'t currently in the recommendation list,\\\n",
    "     rate it more and it will be soon!'\n",
    "    \n",
    "    # User input for measure not available for use\n",
    "    assert measure in similarity_measures.keys(), \\\n",
    "    'That measure isn\\'t currently available'\n",
    "    \n",
    "    beer_name_list = list(user_item.columns) # Contains the index/name of the beer\n",
    "    beer_index = beer_name_list.index(beer) # Finds the index of the beer parameter\n",
    "    beer_list = \\\n",
    "    pd.DataFrame({'score':similarity_measures[measure][beer_index]})\\\n",
    "    .sort_values(by='score', \n",
    "                 ascending=False)[1:8].index\n",
    "    return list(user_item.columns[beer_list])"
   ]
  },
  {
   "cell_type": "code",
   "execution_count": 9,
   "metadata": {},
   "outputs": [
    {
     "data": {
      "text/plain": [
       "[\"Bell's Hopslam Ale\",\n",
       " 'Pliny The Elder',\n",
       " 'Founders Breakfast Stout',\n",
       " 'Founders KBS (Kentucky Breakfast Stout)',\n",
       " 'Two Hearted Ale',\n",
       " 'Bourbon County Brand Stout',\n",
       " 'Old Rasputin Russian Imperial Stout']"
      ]
     },
     "execution_count": 9,
     "metadata": {},
     "output_type": "execute_result"
    }
   ],
   "source": [
    "recommendations('Furious', measure='cosine')"
   ]
  },
  {
   "cell_type": "code",
   "execution_count": 10,
   "metadata": {},
   "outputs": [
    {
     "data": {
      "text/plain": [
       "['Bender',\n",
       " 'Coffee Bender',\n",
       " 'CynicAle',\n",
       " 'Darkness',\n",
       " 'Raspberry Tart',\n",
       " 'Abrasive Ale',\n",
       " 'Masala Mama India Pale Ale']"
      ]
     },
     "execution_count": 10,
     "metadata": {},
     "output_type": "execute_result"
    }
   ],
   "source": [
    "recommendations('Furious', measure='pearson')"
   ]
  },
  {
   "cell_type": "code",
   "execution_count": 11,
   "metadata": {},
   "outputs": [
    {
     "data": {
      "text/plain": [
       "['La Fin Du Monde',\n",
       " 'Duvel',\n",
       " 'Old Rasputin Russian Imperial Stout',\n",
       " 'Arrogant Bastard Ale',\n",
       " 'Sierra Nevada Celebration Ale',\n",
       " 'Dead Guy Ale',\n",
       " 'St. Bernardus Abt 12']"
      ]
     },
     "execution_count": 11,
     "metadata": {},
     "output_type": "execute_result"
    }
   ],
   "source": [
    "recommendations('Furious', measure='euclidean')"
   ]
  },
  {
   "cell_type": "code",
   "execution_count": 12,
   "metadata": {},
   "outputs": [
    {
     "name": "stdout",
     "output_type": "stream",
     "text": [
      "Clear Creek Ice\n"
     ]
    },
    {
     "data": {
      "text/plain": [
       "['Sierra Nevada Celebration Ale',\n",
       " 'Samuel Adams Boston Lager',\n",
       " 'Sierra Nevada Summerfest Lager',\n",
       " 'Samuel Adams Noble Pils',\n",
       " 'Buried Hatchet Stout',\n",
       " 'Hoegaarden Original White Ale',\n",
       " 'Pale Ale']"
      ]
     },
     "execution_count": 12,
     "metadata": {},
     "output_type": "execute_result"
    }
   ],
   "source": [
    "# Random beer selection and recommendations\n",
    "\n",
    "random = np.random.randint(0,(len(user_item.columns)-1))\n",
    "beer = user_item.columns[random]\n",
    "print(beer)\n",
    "recommendations(beer, measure='cosine')"
   ]
  }
 ],
 "metadata": {
  "kernelspec": {
   "display_name": "Python 3",
   "language": "python",
   "name": "python3"
  },
  "language_info": {
   "codemirror_mode": {
    "name": "ipython",
    "version": 3
   },
   "file_extension": ".py",
   "mimetype": "text/x-python",
   "name": "python",
   "nbconvert_exporter": "python",
   "pygments_lexer": "ipython3",
   "version": "3.6.2"
  }
 },
 "nbformat": 4,
 "nbformat_minor": 2
}
