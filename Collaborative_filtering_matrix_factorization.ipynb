{
 "cells": [
  {
   "cell_type": "markdown",
   "metadata": {},
   "source": [
    "# This notebook will feature Collaborative filtering using matrix factorization"
   ]
  },
  {
   "cell_type": "markdown",
   "metadata": {},
   "source": [
    "https://towardsdatascience.com/how-did-we-build-book-recommender-systems-in-an-hour-the-fundamentals-dfee054f978e\n",
    "\n",
    "https://towardsdatascience.com/how-did-we-build-book-recommender-systems-in-an-hour-part-2-k-nearest-neighbors-and-matrix-c04b3c2ef55c"
   ]
  },
  {
   "cell_type": "markdown",
   "metadata": {},
   "source": [
    "## Loading in data"
   ]
  },
  {
   "cell_type": "code",
   "execution_count": 1,
   "metadata": {},
   "outputs": [],
   "source": [
    "# %load get_data\n",
    "def get_data() :\n",
    "    \n",
    "    import pandas as pd\n",
    "    \n",
    "    # rating_update is the original data 'beer_review.csv' with beer_style updated\n",
    "    # The updates change beer_style to match the styles that are given in 'beer_description.csv'\n",
    "\n",
    "    csv_beer = pd.read_csv(\"/home/grimoire/Projects/BeerRatings/rating_update.csv\")\n",
    "    beer_ratings = pd.DataFrame(csv_beer)\n",
    "    \n",
    "    return beer_ratings\n"
   ]
  },
  {
   "cell_type": "code",
   "execution_count": 2,
   "metadata": {},
   "outputs": [],
   "source": [
    "import pandas as pd\n",
    "import numpy as np"
   ]
  },
  {
   "cell_type": "code",
   "execution_count": 3,
   "metadata": {},
   "outputs": [],
   "source": [
    "ratings = get_data()\n",
    "user_item = pd.DataFrame(\n",
    "    pd.read_csv('/home/grimoire/Projects/BeerRatings/user_item_matrix.csv'))"
   ]
  },
  {
   "cell_type": "code",
   "execution_count": 4,
   "metadata": {},
   "outputs": [
    {
     "data": {
      "text/plain": [
       "(3156, 13831)"
      ]
     },
     "execution_count": 4,
     "metadata": {},
     "output_type": "execute_result"
    }
   ],
   "source": [
    "user_item.shape"
   ]
  },
  {
   "cell_type": "code",
   "execution_count": 5,
   "metadata": {},
   "outputs": [],
   "source": [
    "X = user_item.values.T"
   ]
  },
  {
   "cell_type": "code",
   "execution_count": 6,
   "metadata": {},
   "outputs": [
    {
     "data": {
      "text/plain": [
       "(13831, 3156)"
      ]
     },
     "execution_count": 6,
     "metadata": {},
     "output_type": "execute_result"
    }
   ],
   "source": [
    "X.shape"
   ]
  },
  {
   "cell_type": "code",
   "execution_count": 7,
   "metadata": {},
   "outputs": [
    {
     "data": {
      "image/png": "[encoded data removed]",
      "text/plain": [
       "<matplotlib.figure.Figure at 0x7fe3b44a2be0>"
      ]
     },
     "metadata": {},
     "output_type": "display_data"
    }
   ],
   "source": [
    "import matplotlib.pyplot as plt\n",
    "% matplotlib inline\n",
    "from sklearn.decomposition import TruncatedSVD\n",
    "\n",
    "# Initialize a new PCA model with a default number of components.\n",
    "svd = TruncatedSVD(n_components=20)\n",
    "svd.fit(X)\n",
    "\n",
    "plt.figure(figsize=[16,8])\n",
    "plt.plot(range(1,len(svd.explained_variance_)+1), svd.explained_variance_)\n",
    "plt.xticks(range(0,len(svd.explained_variance_)+1,1))\n",
    "\n",
    "plt.title('SVD Explained variance over n dimensions')\n",
    "plt.ylabel('SVD Explained variance')\n",
    "plt.xlabel('Number of SVD dimensions')\n",
    "plt.show()"
   ]
  },
  {
   "cell_type": "code",
   "execution_count": 8,
   "metadata": {},
   "outputs": [
    {
     "data": {
      "text/plain": [
       "(13831, 12)"
      ]
     },
     "execution_count": 8,
     "metadata": {},
     "output_type": "execute_result"
    }
   ],
   "source": [
    "svd = TruncatedSVD(n_components=12, random_state=3)\n",
    "matrix = svd.fit_transform(X)\n",
    "matrix.shape"
   ]
  },
  {
   "cell_type": "code",
   "execution_count": 9,
   "metadata": {},
   "outputs": [
    {
     "data": {
      "text/plain": [
       "(13831, 13831)"
      ]
     },
     "execution_count": 9,
     "metadata": {},
     "output_type": "execute_result"
    }
   ],
   "source": [
    "import warnings\n",
    "warnings.filterwarnings(\"ignore\", category = RuntimeWarning)\n",
    "corr = np.corrcoef(matrix)\n",
    "corr.shape"
   ]
  },
  {
   "cell_type": "code",
   "execution_count": 10,
   "metadata": {},
   "outputs": [
    {
     "data": {
      "text/plain": [
       "13831"
      ]
     },
     "execution_count": 10,
     "metadata": {},
     "output_type": "execute_result"
    }
   ],
   "source": [
    "beer_names = user_item.columns\n",
    "beer_name_list = list(beer_names)\n",
    "len(beer_names)"
   ]
  },
  {
   "cell_type": "code",
   "execution_count": 11,
   "metadata": {},
   "outputs": [
    {
     "name": "stdout",
     "output_type": "stream",
     "text": [
      "['Bamberger Herren Pils', 'Bambic', 'Banana Bread Wheat Ale', \"Bananas N' Blow\", 'Bananatana', 'Banchee Extra Pale Ale', 'Bancreagie Peated Scotch Ale', 'Bandit IPA', 'Bandito', 'Bangalore']\n",
      "['Citra-delic Summer Wheat', 'Citrus Ninja Exchange', 'City Lager', 'City Pale Ale', 'City Steam Blonde On Blonde', 'City Steam Careless Love', 'City Steam Czars And Girls', 'City Steam Naughty Nurse Pale Ale', 'Ciuc Premium', 'Civil Disobedience #1']\n"
     ]
    }
   ],
   "source": [
    "print([name for name in beer_names[1000:1010]])\n",
    "print([name for name in beer_names[3000:3010]])"
   ]
  },
  {
   "cell_type": "code",
   "execution_count": 12,
   "metadata": {},
   "outputs": [
    {
     "name": "stdout",
     "output_type": "stream",
     "text": [
      "Index in the corr matrix for Weihenstephaner Vitus is: 13232\n",
      "Index in the corr matrix for Founders Porter is: 4664\n"
     ]
    }
   ],
   "source": [
    "founders = beer_name_list.index('Founders Porter')\n",
    "vitus = beer_name_list.index('Weihenstephaner Vitus')\n",
    "print(\"Index in the corr matrix for Weihenstephaner Vitus is: \" + str(vitus))\n",
    "print(\"Index in the corr matrix for Founders Porter is: \" + str(founders))"
   ]
  },
  {
   "cell_type": "code",
   "execution_count": 38,
   "metadata": {},
   "outputs": [],
   "source": [
    "corr_vitus = corr[vitus]\n",
    "corr_founders = corr[founders]"
   ]
  },
  {
   "cell_type": "code",
   "execution_count": 61,
   "metadata": {},
   "outputs": [
    {
     "data": {
      "text/html": [
       "<div>\n",
       "<style scoped>\n",
       "    .dataframe tbody tr th:only-of-type {\n",
       "        vertical-align: middle;\n",
       "    }\n",
       "\n",
       "    .dataframe tbody tr th {\n",
       "        vertical-align: top;\n",
       "    }\n",
       "\n",
       "    .dataframe thead th {\n",
       "        text-align: right;\n",
       "    }\n",
       "</style>\n",
       "<table border=\"1\" class=\"dataframe\">\n",
       "  <thead>\n",
       "    <tr style=\"text-align: right;\">\n",
       "      <th></th>\n",
       "      <th>corrcoef_score</th>\n",
       "    </tr>\n",
       "  </thead>\n",
       "  <tbody>\n",
       "    <tr>\n",
       "      <th>6681</th>\n",
       "      <td>0.940357</td>\n",
       "    </tr>\n",
       "    <tr>\n",
       "      <th>13228</th>\n",
       "      <td>0.932513</td>\n",
       "    </tr>\n",
       "    <tr>\n",
       "      <th>9142</th>\n",
       "      <td>0.929231</td>\n",
       "    </tr>\n",
       "    <tr>\n",
       "      <th>2926</th>\n",
       "      <td>0.927660</td>\n",
       "    </tr>\n",
       "    <tr>\n",
       "      <th>6102</th>\n",
       "      <td>0.925943</td>\n",
       "    </tr>\n",
       "    <tr>\n",
       "      <th>9764</th>\n",
       "      <td>0.924594</td>\n",
       "    </tr>\n",
       "    <tr>\n",
       "      <th>2328</th>\n",
       "      <td>0.920626</td>\n",
       "    </tr>\n",
       "  </tbody>\n",
       "</table>\n",
       "</div>"
      ],
      "text/plain": [
       "       corrcoef_score\n",
       "6681         0.940357\n",
       "13228        0.932513\n",
       "9142         0.929231\n",
       "2926         0.927660\n",
       "6102         0.925943\n",
       "9764         0.924594\n",
       "2328         0.920626"
      ]
     },
     "execution_count": 61,
     "metadata": {},
     "output_type": "execute_result"
    }
   ],
   "source": [
    "pd.DataFrame({'corrcoef_score':corr_vitus}).sort_values(by='corrcoef_score', ascending=False)[1:8]"
   ]
  },
  {
   "cell_type": "code",
   "execution_count": 59,
   "metadata": {},
   "outputs": [],
   "source": [
    "vitus_index = pd.DataFrame({'corrcoef_score':corr_vitus}).sort_values(by='corrcoef_score', ascending=False)[1:8].index"
   ]
  },
  {
   "cell_type": "code",
   "execution_count": 60,
   "metadata": {},
   "outputs": [
    {
     "data": {
      "text/plain": [
       "['Kasteel Rouge',\n",
       " 'Weihenstephaner Kristallweissbier',\n",
       " 'Our Special Ale 2008 (Anchor Christmas Ale)',\n",
       " 'Chocolate Indulgence Stout',\n",
       " 'Houblon Chouffe Dobbelen IPA Tripel',\n",
       " 'Professor Fritz Briem 1809 Berliner Weisse',\n",
       " 'Brother Thelonious']"
      ]
     },
     "execution_count": 60,
     "metadata": {},
     "output_type": "execute_result"
    }
   ],
   "source": [
    "list(beer_names[vitus_index])"
   ]
  },
  {
   "cell_type": "code",
   "execution_count": 33,
   "metadata": {},
   "outputs": [],
   "source": [
    "#corr_vitus = sorted(corr[vitus], reverse=True)[1:8]"
   ]
  },
  {
   "cell_type": "code",
   "execution_count": 39,
   "metadata": {},
   "outputs": [
    {
     "data": {
      "text/plain": [
       "['Ayinger Weizenbock',\n",
       " 'Big Wave Golden Ale',\n",
       " 'Blanche De Bruxelles / Manneken Pis Belgian White',\n",
       " 'Brooklyn Local 1',\n",
       " 'Brooklyn Local 2',\n",
       " 'Brooklyner-Schneider Hopfen-Weisse',\n",
       " 'Brother Thelonious',\n",
       " 'Chocolate Indulgence Stout',\n",
       " 'Guinness 250th Anniversary Stout',\n",
       " 'Houblon Chouffe Dobbelen IPA Tripel',\n",
       " 'Kasteel Rouge',\n",
       " 'Le Merle',\n",
       " 'Lindemans Faro Lambic',\n",
       " \"Monk's Café Flemish Sour Ale\",\n",
       " 'Old Chub - Scottish Style Ale',\n",
       " 'Ommegeddon',\n",
       " 'Our Special Ale 2008 (Anchor Christmas Ale)',\n",
       " 'Professor Fritz Briem 13th Century Grut Bier',\n",
       " 'Professor Fritz Briem 1809 Berliner Weisse',\n",
       " 'Red & White',\n",
       " 'Rodenbach Classic (Red)',\n",
       " 'Saison',\n",
       " 'Schneider-Brooklyner Hopfen-Weisse',\n",
       " 'Sleeping Dog Stout',\n",
       " 'St. Bernardus Pater 6',\n",
       " 'Stone 08.08.08 Vertical Epic Ale',\n",
       " 'Stone 13th Anniversary Ale',\n",
       " 'Stone Old Guardian Barley Wine Style Ale 2009',\n",
       " 'Trappistes Rochefort 6',\n",
       " 'Triple B',\n",
       " 'Weihenstephaner Festbier',\n",
       " 'Weihenstephaner Kristallweissbier',\n",
       " 'Wells Banana Bread Beer']"
      ]
     },
     "execution_count": 39,
     "metadata": {},
     "output_type": "execute_result"
    }
   ],
   "source": [
    "list(beer_names[(corr_vitus<1.0) & (corr_vitus>.90)])"
   ]
  },
  {
   "cell_type": "code",
   "execution_count": 27,
   "metadata": {},
   "outputs": [
    {
     "data": {
      "text/plain": [
       "['12 Dogs Of Christmas Ale',\n",
       " '2XIPA',\n",
       " \"30th Anniversary - Fritz And Ken's Ale\",\n",
       " \"30th Anniversary - Jack & Ken's Ale\",\n",
       " 'Atwater Vanilla Java Porter',\n",
       " \"Bell's Hopslam Ale\",\n",
       " \"Bell's Oarsman\",\n",
       " 'Coffeehouse Stout',\n",
       " 'Creme Brulee (Imperial Milk Stout)',\n",
       " 'Dark Starr Stout',\n",
       " 'Double Chocolate Stout',\n",
       " 'Duck-Rabbit Milk Stout',\n",
       " 'Festie',\n",
       " 'Festina Pêche',\n",
       " 'Fifteen',\n",
       " 'Flying Mouflan',\n",
       " 'Fordham Doppelbock',\n",
       " 'Founders Backwoods Bastard',\n",
       " 'Founders Breakfast Stout',\n",
       " 'Founders Centennial IPA',\n",
       " 'Founders Cerise',\n",
       " 'Founders Curmudgeon (Old Ale)',\n",
       " 'Founders Devil Dancer',\n",
       " 'Founders Dirty Bastard',\n",
       " 'Founders Double Trouble',\n",
       " 'Founders Harvest Ale',\n",
       " 'Founders Pale Ale',\n",
       " \"Founders Red's Rye PA\",\n",
       " \"Frog's Hollow Double Pumpkin Ale\",\n",
       " 'Frosted Frog Christmas Ale',\n",
       " 'Great Lakes Commodore Perry IPA',\n",
       " 'Great Lakes Lake Erie Monster',\n",
       " 'Harvest Ale',\n",
       " 'Heavy Seas - Davy Jones Lager (Imperial Cream Ale)',\n",
       " 'Heavy Seas - Prosit!',\n",
       " 'Heavy Seas - Siren Noire Imperial Chocolate Stout',\n",
       " 'Heavy Seas - Smoke On The Water',\n",
       " 'Heavy Seas - The Great Pumpkin',\n",
       " 'Imperial Pumpkin Ale',\n",
       " 'Iniquity (Imperial Black Ale)',\n",
       " 'Jai Alai IPA',\n",
       " 'Kentucky Bourbon Barrel Ale',\n",
       " 'Lucy',\n",
       " 'Maduro Oatmeal Brown Ale',\n",
       " 'Matilda',\n",
       " 'Mokah',\n",
       " 'Monk In The Trunk',\n",
       " \"Monk's Blood\",\n",
       " 'My Antonia',\n",
       " 'Namaste',\n",
       " 'Not Just Some Oatmeal Stout',\n",
       " 'Oak Aged Unearthly (Imperial India Pale Ale)',\n",
       " 'Panic Attack',\n",
       " 'Pumking',\n",
       " 'Raging Bitch Belgian-Style IPA',\n",
       " \"Sah'tea\",\n",
       " 'Schlafly Pumpkin Ale',\n",
       " 'Sixteen',\n",
       " 'Southampton Imperial Porter',\n",
       " 'Spiced Pumpkin Ale',\n",
       " 'Springhouse Ale',\n",
       " 'Squall IPA',\n",
       " \"Sweetwater Crank Tank Rye'd Ale\",\n",
       " 'Terrapin Hop Karma IPA',\n",
       " 'Terrapin Hopsecutioner',\n",
       " \"Terrapin Monk's Revenge\",\n",
       " 'Terrapin Moo-Hoo Chocolate Milk Stout',\n",
       " 'Terrapin So Fresh & So Green Green',\n",
       " 'The Gift (WinterBock Lager)',\n",
       " 'The Love',\n",
       " 'Theobroma',\n",
       " 'Tiny',\n",
       " 'Tröegs Java Head Stout',\n",
       " 'Yakima Glory']"
      ]
     },
     "execution_count": 27,
     "metadata": {},
     "output_type": "execute_result"
    }
   ],
   "source": [
    "list(beer_names[(corr_founders<1.0) & (corr_founders>.90)]) # 10 millionth"
   ]
  }
 ],
 "metadata": {
  "kernelspec": {
   "display_name": "Python 3",
   "language": "python",
   "name": "python3"
  },
  "language_info": {
   "codemirror_mode": {
    "name": "ipython",
    "version": 3
   },
   "file_extension": ".py",
   "mimetype": "text/x-python",
   "name": "python",
   "nbconvert_exporter": "python",
   "pygments_lexer": "ipython3",
   "version": "3.6.2"
  }
 },
 "nbformat": 4,
 "nbformat_minor": 2
}
