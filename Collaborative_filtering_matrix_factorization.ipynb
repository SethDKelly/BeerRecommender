{
 "cells": [
  {
   "cell_type": "markdown",
   "metadata": {},
   "source": [
    "# This notebook will feature Collaborative filtering using matrix factorization\n",
    "[Reference Here]"
   ]
  },
  {
   "cell_type": "markdown",
   "metadata": {},
   "source": [
    "## Loading in data"
   ]
  },
  {
   "cell_type": "code",
   "execution_count": 1,
   "metadata": {},
   "outputs": [],
   "source": [
    "import pandas as pd\n",
    "import numpy as np"
   ]
  },
  {
   "cell_type": "code",
   "execution_count": 2,
   "metadata": {},
   "outputs": [],
   "source": [
    "user_item = pd.DataFrame(\n",
    "    pd.read_csv('/home/grimoire/Projects/BeerRatings/user_item_matrix.csv'))"
   ]
  },
  {
   "cell_type": "markdown",
   "metadata": {},
   "source": [
    "# Looking at the shape of our data (The user-item matrix)"
   ]
  },
  {
   "cell_type": "code",
   "execution_count": 3,
   "metadata": {},
   "outputs": [
    {
     "data": {
      "text/plain": [
       "(3156, 13831)"
      ]
     },
     "execution_count": 3,
     "metadata": {},
     "output_type": "execute_result"
    }
   ],
   "source": [
    "user_item.shape"
   ]
  },
  {
   "cell_type": "markdown",
   "metadata": {},
   "source": [
    "## Transposing our matrix to item-user"
   ]
  },
  {
   "cell_type": "code",
   "execution_count": 4,
   "metadata": {},
   "outputs": [],
   "source": [
    "X = user_item.values.T"
   ]
  },
  {
   "cell_type": "code",
   "execution_count": 5,
   "metadata": {},
   "outputs": [
    {
     "data": {
      "text/plain": [
       "(13831, 3156)"
      ]
     },
     "execution_count": 5,
     "metadata": {},
     "output_type": "execute_result"
    }
   ],
   "source": [
    "# Verifying the transposition\n",
    "X.shape"
   ]
  },
  {
   "cell_type": "markdown",
   "metadata": {},
   "source": [
    "## Working with Single Value Decomposition\n",
    "* Visualizing explained error with n dimensions"
   ]
  },
  {
   "cell_type": "code",
   "execution_count": 6,
   "metadata": {},
   "outputs": [
    {
     "data": {
      "image/png": "[encoded data removed]",
      "text/plain": [
       "<matplotlib.figure.Figure at 0x7f91d1c1a630>"
      ]
     },
     "metadata": {},
     "output_type": "display_data"
    }
   ],
   "source": [
    "import matplotlib.pyplot as plt\n",
    "% matplotlib inline\n",
    "from sklearn.decomposition import TruncatedSVD\n",
    "\n",
    "# Initialize a new PCA model with a default number of components.\n",
    "svd = TruncatedSVD(n_components=20)\n",
    "svd.fit(X)\n",
    "\n",
    "plt.figure(figsize=[16,8])\n",
    "plt.plot(range(1,len(svd.explained_variance_)+1), svd.explained_variance_)\n",
    "plt.xticks(range(0,len(svd.explained_variance_)+1,1))\n",
    "\n",
    "plt.title('SVD Explained variance over n dimensions')\n",
    "plt.ylabel('SVD Explained variance')\n",
    "plt.xlabel('Number of SVD dimensions')\n",
    "plt.show()"
   ]
  },
  {
   "cell_type": "markdown",
   "metadata": {},
   "source": [
    "## Parameter for n_components should be based upon model testing and evauluation"
   ]
  },
  {
   "cell_type": "code",
   "execution_count": 7,
   "metadata": {},
   "outputs": [
    {
     "data": {
      "text/plain": [
       "(13831, 3)"
      ]
     },
     "execution_count": 7,
     "metadata": {},
     "output_type": "execute_result"
    }
   ],
   "source": [
    "svd = TruncatedSVD(n_components=3, random_state=3)\n",
    "matrix = svd.fit_transform(X)\n",
    "matrix.shape"
   ]
  },
  {
   "cell_type": "markdown",
   "metadata": {},
   "source": [
    "## Building our pearson coeffienct matrix from our transformed data matrix"
   ]
  },
  {
   "cell_type": "code",
   "execution_count": 8,
   "metadata": {},
   "outputs": [
    {
     "data": {
      "text/plain": [
       "(13831, 13831)"
      ]
     },
     "execution_count": 8,
     "metadata": {},
     "output_type": "execute_result"
    }
   ],
   "source": [
    "import warnings\n",
    "warnings.filterwarnings(\"ignore\", category = RuntimeWarning)\n",
    "corr = np.corrcoef(matrix)\n",
    "corr.shape"
   ]
  },
  {
   "cell_type": "code",
   "execution_count": 9,
   "metadata": {},
   "outputs": [
    {
     "data": {
      "text/plain": [
       "array([[ 1.        ,  0.87286454,  0.99063502, ...,  0.83303505,\n",
       "         0.95944046,  0.67308478],\n",
       "       [ 0.87286454,  1.        ,  0.93131497, ...,  0.99707753,\n",
       "         0.97502375,  0.94839205],\n",
       "       [ 0.99063502,  0.93131497,  1.        , ...,  0.90076854,\n",
       "         0.98894655,  0.76775913],\n",
       "       ..., \n",
       "       [ 0.83303505,  0.99707753,  0.90076854, ...,  1.        ,\n",
       "         0.95520658,  0.9698457 ],\n",
       "       [ 0.95944046,  0.97502375,  0.98894655, ...,  0.95520658,\n",
       "         1.        ,  0.85427662],\n",
       "       [ 0.67308478,  0.94839205,  0.76775913, ...,  0.9698457 ,\n",
       "         0.85427662,  1.        ]])"
      ]
     },
     "execution_count": 9,
     "metadata": {},
     "output_type": "execute_result"
    }
   ],
   "source": [
    "corr"
   ]
  },
  {
   "cell_type": "code",
   "execution_count": 10,
   "metadata": {},
   "outputs": [
    {
     "data": {
      "text/plain": [
       "13831"
      ]
     },
     "execution_count": 10,
     "metadata": {},
     "output_type": "execute_result"
    }
   ],
   "source": [
    "#############################################################\n",
    "# The coeffecient matrix is an 2D array of arrays\n",
    "# There is no indication of what columns refer to what beer\n",
    "# We will pull this information from our user_item matrix\n",
    "# Create a list of the beers from the columns\n",
    "# The index of the list will correspond with the coefficient matrix\n",
    "#############################################################\n",
    "\n",
    "beer_names = user_item.columns\n",
    "beer_name_list = list(beer_names)\n",
    "len(beer_names)"
   ]
  },
  {
   "cell_type": "code",
   "execution_count": 11,
   "metadata": {},
   "outputs": [],
   "source": [
    "def recommendations(beer, beer_names=beer_names) :\n",
    "    \n",
    "    # https://stackoverflow.com/questions/944592/best-practice-for-python-assert\n",
    "    # Self note: build an exception class for beer parameter\n",
    "    \n",
    "    assert beer in beer_names, 'The beer isn\\'t currently in the recommendation list,\\\n",
    " rate it more and it will be soon!' # This derives from user input not matching beer_names, add to exception class\n",
    "    \n",
    "    beer_name_list = list(beer_names) # Contains the index/name of the beer\n",
    "    beer_index = beer_name_list.index(beer) # Finds the index of the beer parameter\n",
    "    beer_list = \\\n",
    "    pd.DataFrame({'corrcoef_score':corr[beer_index]})\\\n",
    "    .sort_values(by='corrcoef_score', \n",
    "                 ascending=False)[1:8].index\n",
    "    return list(beer_names[beer_list])"
   ]
  },
  {
   "cell_type": "code",
   "execution_count": 12,
   "metadata": {},
   "outputs": [
    {
     "data": {
      "text/plain": [
       "['Het Kanon',\n",
       " 'Mill Street Pilsner',\n",
       " 'Riptide Red Ale',\n",
       " 'Baltus O.V.S. Ale',\n",
       " 'Sleeman Porter (68*)',\n",
       " 'Harpoon Wit Beer (100 Barrel Series #02)',\n",
       " 'Harpoon Imperial Stout (100 Barrel Series #12)']"
      ]
     },
     "execution_count": 12,
     "metadata": {},
     "output_type": "execute_result"
    }
   ],
   "source": [
    "recommendations('Founders Porter')"
   ]
  },
  {
   "cell_type": "code",
   "execution_count": 13,
   "metadata": {},
   "outputs": [
    {
     "data": {
      "text/plain": [
       "['Arcobräu Dark Lager Beer',\n",
       " 'Point Break Pale Ale',\n",
       " \"Barley's Mac Lenny's Scottish Ale\",\n",
       " 'Shadow Mountain Stout',\n",
       " 'Carolina Nut Brown Ale',\n",
       " 'Dark Beer / Kláster Tmavé 10%',\n",
       " 'Christoffel Robertus']"
      ]
     },
     "execution_count": 13,
     "metadata": {},
     "output_type": "execute_result"
    }
   ],
   "source": [
    "recommendations('Weihenstephaner Vitus')"
   ]
  },
  {
   "cell_type": "code",
   "execution_count": 14,
   "metadata": {},
   "outputs": [
    {
     "name": "stdout",
     "output_type": "stream",
     "text": [
      "Genziana\n"
     ]
    },
    {
     "data": {
      "text/plain": [
       "['13 Rebels ESB',\n",
       " 'Flying Mouflan',\n",
       " 'Sierra Nevada Best Bitter Ale',\n",
       " 'Misery',\n",
       " \"MacTarnahan's Sling Shot Extra Pale Ale\",\n",
       " 'Odyssey Imperial IPA',\n",
       " 'Tè']"
      ]
     },
     "execution_count": 14,
     "metadata": {},
     "output_type": "execute_result"
    }
   ],
   "source": [
    "# Random beer selection and recommendations\n",
    "\n",
    "random = np.random.randint(0,(len(beer_names)-1))\n",
    "beer = beer_names[random]\n",
    "print(beer)\n",
    "recommendations(beer)"
   ]
  },
  {
   "cell_type": "code",
   "execution_count": 15,
   "metadata": {},
   "outputs": [
    {
     "ename": "AssertionError",
     "evalue": "The beer isn't currently in the recommendation list, rate it more and it will be soon!",
     "output_type": "error",
     "traceback": [
      "\u001b[0;31m---------------------------------------------------------------------------\u001b[0m",
      "\u001b[0;31mAssertionError\u001b[0m                            Traceback (most recent call last)",
      "\u001b[0;32m<ipython-input-15-1b6400fb3ec1>\u001b[0m in \u001b[0;36m<module>\u001b[0;34m()\u001b[0m\n\u001b[0;32m----> 1\u001b[0;31m \u001b[0mrecommendations\u001b[0m\u001b[0;34m(\u001b[0m\u001b[0;34m'Surly'\u001b[0m\u001b[0;34m)\u001b[0m\u001b[0;34m\u001b[0m\u001b[0m\n\u001b[0m",
      "\u001b[0;32m<ipython-input-11-e99a5430fedf>\u001b[0m in \u001b[0;36mrecommendations\u001b[0;34m(beer, beer_names)\u001b[0m\n\u001b[1;32m      4\u001b[0m     \u001b[0;31m# Self note: build an exception class for beer parameter\u001b[0m\u001b[0;34m\u001b[0m\u001b[0;34m\u001b[0m\u001b[0m\n\u001b[1;32m      5\u001b[0m \u001b[0;34m\u001b[0m\u001b[0m\n\u001b[0;32m----> 6\u001b[0;31m     \u001b[0;32massert\u001b[0m \u001b[0mbeer\u001b[0m \u001b[0;32min\u001b[0m \u001b[0mbeer_names\u001b[0m\u001b[0;34m,\u001b[0m \u001b[0;34m'The beer isn\\'t currently in the recommendation list, rate it more and it will be soon!'\u001b[0m \u001b[0;31m# This derives from user input not matching beer_names, add to exception class\u001b[0m\u001b[0;34m\u001b[0m\u001b[0m\n\u001b[0m\u001b[1;32m      7\u001b[0m \u001b[0;34m\u001b[0m\u001b[0m\n\u001b[1;32m      8\u001b[0m     \u001b[0mbeer_name_list\u001b[0m \u001b[0;34m=\u001b[0m \u001b[0mlist\u001b[0m\u001b[0;34m(\u001b[0m\u001b[0mbeer_names\u001b[0m\u001b[0;34m)\u001b[0m \u001b[0;31m# Contains the index/name of the beer\u001b[0m\u001b[0;34m\u001b[0m\u001b[0m\n",
      "\u001b[0;31mAssertionError\u001b[0m: The beer isn't currently in the recommendation list, rate it more and it will be soon!"
     ]
    }
   ],
   "source": [
    "recommendations('Surly')"
   ]
  },
  {
   "cell_type": "markdown",
   "metadata": {},
   "source": [
    "[Reference Here]:https://towardsdatascience.com/how-did-we-build-book-recommender-systems-in-an-hour-part-2-k-nearest-neighbors-and-matrix-c04b3c2ef55c"
   ]
  }
 ],
 "metadata": {
  "kernelspec": {
   "display_name": "Python 3",
   "language": "python",
   "name": "python3"
  },
  "language_info": {
   "codemirror_mode": {
    "name": "ipython",
    "version": 3
   },
   "file_extension": ".py",
   "mimetype": "text/x-python",
   "name": "python",
   "nbconvert_exporter": "python",
   "pygments_lexer": "ipython3",
   "version": "3.6.2"
  }
 },
 "nbformat": 4,
 "nbformat_minor": 2
}
